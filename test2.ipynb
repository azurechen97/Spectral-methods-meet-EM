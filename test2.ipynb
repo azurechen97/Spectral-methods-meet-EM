{
 "cells": [
  {
   "cell_type": "code",
   "execution_count": 1,
   "metadata": {},
   "outputs": [],
   "source": [
    "import numpy as np\n",
    "from utils import *\n",
    "import pandas as pd"
   ]
  },
  {
   "cell_type": "code",
   "execution_count": 210,
   "metadata": {},
   "outputs": [],
   "source": [
    "data = pd.read_table(\"data/web_crowd.txt\",header=None)"
   ]
  },
  {
   "cell_type": "code",
   "execution_count": 211,
   "metadata": {},
   "outputs": [],
   "source": [
    "truth = pd.read_table(\"data/web_truth.txt\", header=None)\n"
   ]
  },
  {
   "cell_type": "code",
   "execution_count": 195,
   "metadata": {},
   "outputs": [],
   "source": [
    "def transform_data(data):\n",
    "    X = np.array(data)\n",
    "    rows, _ = X.shape\n",
    "    n,m,k = np.max(np.array(data), axis=0)\n",
    "    labels = np.zeros((m,n),dtype=np.int64)-1\n",
    "    for r in range(rows):\n",
    "        labels[X[r,1]-1,X[r,0]-1] = X[r,2]-1\n",
    "    return labels\n"
   ]
  },
  {
   "cell_type": "code",
   "execution_count": 212,
   "metadata": {},
   "outputs": [
    {
     "data": {
      "text/plain": [
       "array([[ 4,  0,  0, ..., -1, -1, -1],\n",
       "       [ 4, -1,  0, ...,  2,  1, -1],\n",
       "       [ 4, -1, -1, ..., -1,  3, -1],\n",
       "       ...,\n",
       "       [-1, -1, -1, ..., -1, -1, -1],\n",
       "       [-1, -1, -1, ..., -1, -1, -1],\n",
       "       [-1, -1, -1, ..., -1, -1, -1]], dtype=int64)"
      ]
     },
     "execution_count": 212,
     "metadata": {},
     "output_type": "execute_result"
    }
   ],
   "source": [
    "transform_data(data)\n"
   ]
  },
  {
   "cell_type": "code",
   "execution_count": 213,
   "metadata": {},
   "outputs": [
    {
     "name": "stdout",
     "output_type": "stream",
     "text": [
      "2665 177 5\n"
     ]
    }
   ],
   "source": [
    "n,m,k = np.max(np.array(data),axis=0)\n",
    "print(n,m,k)"
   ]
  },
  {
   "cell_type": "code",
   "execution_count": 214,
   "metadata": {},
   "outputs": [],
   "source": [
    "labels = transform_data(data)\n"
   ]
  },
  {
   "cell_type": "code",
   "execution_count": 215,
   "metadata": {},
   "outputs": [
    {
     "data": {
      "text/plain": [
       "array([[ 4,  0,  0, ..., -1, -1, -1],\n",
       "       [ 4, -1,  0, ...,  2,  1, -1],\n",
       "       [ 4, -1, -1, ..., -1,  3, -1],\n",
       "       ...,\n",
       "       [-1, -1, -1, ..., -1, -1, -1],\n",
       "       [-1, -1, -1, ..., -1, -1, -1],\n",
       "       [-1, -1, -1, ..., -1, -1, -1]], dtype=int64)"
      ]
     },
     "execution_count": 215,
     "metadata": {},
     "output_type": "execute_result"
    }
   ],
   "source": [
    "labels\n"
   ]
  },
  {
   "cell_type": "code",
   "execution_count": 216,
   "metadata": {},
   "outputs": [],
   "source": [
    "C_estimated = get_confusion_matrix(k,labels,sym=False)"
   ]
  },
  {
   "cell_type": "code",
   "execution_count": 217,
   "metadata": {},
   "outputs": [
    {
     "data": {
      "text/html": [
       "<div>\n",
       "<style scoped>\n",
       "    .dataframe tbody tr th:only-of-type {\n",
       "        vertical-align: middle;\n",
       "    }\n",
       "\n",
       "    .dataframe tbody tr th {\n",
       "        vertical-align: top;\n",
       "    }\n",
       "\n",
       "    .dataframe thead th {\n",
       "        text-align: right;\n",
       "    }\n",
       "</style>\n",
       "<table border=\"1\" class=\"dataframe\">\n",
       "  <thead>\n",
       "    <tr style=\"text-align: right;\">\n",
       "      <th></th>\n",
       "      <th>0</th>\n",
       "      <th>1</th>\n",
       "      <th>2</th>\n",
       "    </tr>\n",
       "  </thead>\n",
       "  <tbody>\n",
       "    <tr>\n",
       "      <th>0</th>\n",
       "      <td>1</td>\n",
       "      <td>1</td>\n",
       "      <td>5</td>\n",
       "    </tr>\n",
       "    <tr>\n",
       "      <th>6</th>\n",
       "      <td>2</td>\n",
       "      <td>1</td>\n",
       "      <td>1</td>\n",
       "    </tr>\n",
       "    <tr>\n",
       "      <th>12</th>\n",
       "      <td>3</td>\n",
       "      <td>1</td>\n",
       "      <td>1</td>\n",
       "    </tr>\n",
       "    <tr>\n",
       "      <th>18</th>\n",
       "      <td>4</td>\n",
       "      <td>1</td>\n",
       "      <td>1</td>\n",
       "    </tr>\n",
       "    <tr>\n",
       "      <th>24</th>\n",
       "      <td>5</td>\n",
       "      <td>1</td>\n",
       "      <td>2</td>\n",
       "    </tr>\n",
       "    <tr>\n",
       "      <th>...</th>\n",
       "      <td>...</td>\n",
       "      <td>...</td>\n",
       "      <td>...</td>\n",
       "    </tr>\n",
       "    <tr>\n",
       "      <th>15477</th>\n",
       "      <td>2651</td>\n",
       "      <td>1</td>\n",
       "      <td>5</td>\n",
       "    </tr>\n",
       "    <tr>\n",
       "      <th>15489</th>\n",
       "      <td>2653</td>\n",
       "      <td>1</td>\n",
       "      <td>4</td>\n",
       "    </tr>\n",
       "    <tr>\n",
       "      <th>15501</th>\n",
       "      <td>2655</td>\n",
       "      <td>1</td>\n",
       "      <td>5</td>\n",
       "    </tr>\n",
       "    <tr>\n",
       "      <th>15525</th>\n",
       "      <td>2659</td>\n",
       "      <td>1</td>\n",
       "      <td>3</td>\n",
       "    </tr>\n",
       "    <tr>\n",
       "      <th>15543</th>\n",
       "      <td>2662</td>\n",
       "      <td>1</td>\n",
       "      <td>3</td>\n",
       "    </tr>\n",
       "  </tbody>\n",
       "</table>\n",
       "<p>1044 rows × 3 columns</p>\n",
       "</div>"
      ],
      "text/plain": [
       "          0  1  2\n",
       "0         1  1  5\n",
       "6         2  1  1\n",
       "12        3  1  1\n",
       "18        4  1  1\n",
       "24        5  1  2\n",
       "...     ... .. ..\n",
       "15477  2651  1  5\n",
       "15489  2653  1  4\n",
       "15501  2655  1  5\n",
       "15525  2659  1  3\n",
       "15543  2662  1  3\n",
       "\n",
       "[1044 rows x 3 columns]"
      ]
     },
     "execution_count": 217,
     "metadata": {},
     "output_type": "execute_result"
    }
   ],
   "source": [
    "data[data[1]==1]"
   ]
  },
  {
   "cell_type": "code",
   "execution_count": 218,
   "metadata": {},
   "outputs": [
    {
     "data": {
      "text/html": [
       "<div>\n",
       "<style scoped>\n",
       "    .dataframe tbody tr th:only-of-type {\n",
       "        vertical-align: middle;\n",
       "    }\n",
       "\n",
       "    .dataframe tbody tr th {\n",
       "        vertical-align: top;\n",
       "    }\n",
       "\n",
       "    .dataframe thead th {\n",
       "        text-align: right;\n",
       "    }\n",
       "</style>\n",
       "<table border=\"1\" class=\"dataframe\">\n",
       "  <thead>\n",
       "    <tr style=\"text-align: right;\">\n",
       "      <th></th>\n",
       "      <th>0</th>\n",
       "      <th>1</th>\n",
       "    </tr>\n",
       "  </thead>\n",
       "  <tbody>\n",
       "    <tr>\n",
       "      <th>0</th>\n",
       "      <td>1</td>\n",
       "      <td>5</td>\n",
       "    </tr>\n",
       "    <tr>\n",
       "      <th>1</th>\n",
       "      <td>2</td>\n",
       "      <td>1</td>\n",
       "    </tr>\n",
       "    <tr>\n",
       "      <th>2</th>\n",
       "      <td>3</td>\n",
       "      <td>1</td>\n",
       "    </tr>\n",
       "    <tr>\n",
       "      <th>3</th>\n",
       "      <td>4</td>\n",
       "      <td>1</td>\n",
       "    </tr>\n",
       "    <tr>\n",
       "      <th>4</th>\n",
       "      <td>5</td>\n",
       "      <td>2</td>\n",
       "    </tr>\n",
       "    <tr>\n",
       "      <th>...</th>\n",
       "      <td>...</td>\n",
       "      <td>...</td>\n",
       "    </tr>\n",
       "    <tr>\n",
       "      <th>2648</th>\n",
       "      <td>2661</td>\n",
       "      <td>5</td>\n",
       "    </tr>\n",
       "    <tr>\n",
       "      <th>2649</th>\n",
       "      <td>2662</td>\n",
       "      <td>2</td>\n",
       "    </tr>\n",
       "    <tr>\n",
       "      <th>2650</th>\n",
       "      <td>2663</td>\n",
       "      <td>4</td>\n",
       "    </tr>\n",
       "    <tr>\n",
       "      <th>2651</th>\n",
       "      <td>2664</td>\n",
       "      <td>3</td>\n",
       "    </tr>\n",
       "    <tr>\n",
       "      <th>2652</th>\n",
       "      <td>2665</td>\n",
       "      <td>4</td>\n",
       "    </tr>\n",
       "  </tbody>\n",
       "</table>\n",
       "<p>2653 rows × 2 columns</p>\n",
       "</div>"
      ],
      "text/plain": [
       "         0  1\n",
       "0        1  5\n",
       "1        2  1\n",
       "2        3  1\n",
       "3        4  1\n",
       "4        5  2\n",
       "...    ... ..\n",
       "2648  2661  5\n",
       "2649  2662  2\n",
       "2650  2663  4\n",
       "2651  2664  3\n",
       "2652  2665  4\n",
       "\n",
       "[2653 rows x 2 columns]"
      ]
     },
     "execution_count": 218,
     "metadata": {},
     "output_type": "execute_result"
    }
   ],
   "source": [
    "truth"
   ]
  },
  {
   "cell_type": "code",
   "execution_count": 219,
   "metadata": {},
   "outputs": [],
   "source": [
    "from sklearn.metrics import confusion_matrix\n"
   ]
  },
  {
   "cell_type": "code",
   "execution_count": 220,
   "metadata": {},
   "outputs": [],
   "source": [
    "truth_new = truth[truth[0].isin(data[data[1] == 2][0])]\n",
    "pred_new = data[data[1] == 2][data[data[1] == 2][0].isin(truth_new[0])]\n"
   ]
  },
  {
   "cell_type": "code",
   "execution_count": 221,
   "metadata": {},
   "outputs": [
    {
     "data": {
      "text/html": [
       "<div>\n",
       "<style scoped>\n",
       "    .dataframe tbody tr th:only-of-type {\n",
       "        vertical-align: middle;\n",
       "    }\n",
       "\n",
       "    .dataframe tbody tr th {\n",
       "        vertical-align: top;\n",
       "    }\n",
       "\n",
       "    .dataframe thead th {\n",
       "        text-align: right;\n",
       "    }\n",
       "</style>\n",
       "<table border=\"1\" class=\"dataframe\">\n",
       "  <thead>\n",
       "    <tr style=\"text-align: right;\">\n",
       "      <th></th>\n",
       "      <th>0</th>\n",
       "      <th>1</th>\n",
       "    </tr>\n",
       "  </thead>\n",
       "  <tbody>\n",
       "    <tr>\n",
       "      <th>0</th>\n",
       "      <td>1</td>\n",
       "      <td>5</td>\n",
       "    </tr>\n",
       "    <tr>\n",
       "      <th>2</th>\n",
       "      <td>3</td>\n",
       "      <td>1</td>\n",
       "    </tr>\n",
       "    <tr>\n",
       "      <th>4</th>\n",
       "      <td>5</td>\n",
       "      <td>2</td>\n",
       "    </tr>\n",
       "    <tr>\n",
       "      <th>9</th>\n",
       "      <td>10</td>\n",
       "      <td>5</td>\n",
       "    </tr>\n",
       "    <tr>\n",
       "      <th>11</th>\n",
       "      <td>12</td>\n",
       "      <td>1</td>\n",
       "    </tr>\n",
       "    <tr>\n",
       "      <th>...</th>\n",
       "      <td>...</td>\n",
       "      <td>...</td>\n",
       "    </tr>\n",
       "    <tr>\n",
       "      <th>2630</th>\n",
       "      <td>2643</td>\n",
       "      <td>5</td>\n",
       "    </tr>\n",
       "    <tr>\n",
       "      <th>2636</th>\n",
       "      <td>2649</td>\n",
       "      <td>5</td>\n",
       "    </tr>\n",
       "    <tr>\n",
       "      <th>2638</th>\n",
       "      <td>2651</td>\n",
       "      <td>5</td>\n",
       "    </tr>\n",
       "    <tr>\n",
       "      <th>2650</th>\n",
       "      <td>2663</td>\n",
       "      <td>4</td>\n",
       "    </tr>\n",
       "    <tr>\n",
       "      <th>2651</th>\n",
       "      <td>2664</td>\n",
       "      <td>3</td>\n",
       "    </tr>\n",
       "  </tbody>\n",
       "</table>\n",
       "<p>784 rows × 2 columns</p>\n",
       "</div>"
      ],
      "text/plain": [
       "         0  1\n",
       "0        1  5\n",
       "2        3  1\n",
       "4        5  2\n",
       "9       10  5\n",
       "11      12  1\n",
       "...    ... ..\n",
       "2630  2643  5\n",
       "2636  2649  5\n",
       "2638  2651  5\n",
       "2650  2663  4\n",
       "2651  2664  3\n",
       "\n",
       "[784 rows x 2 columns]"
      ]
     },
     "execution_count": 221,
     "metadata": {},
     "output_type": "execute_result"
    }
   ],
   "source": [
    "truth_new\n"
   ]
  },
  {
   "cell_type": "code",
   "execution_count": 222,
   "metadata": {},
   "outputs": [
    {
     "data": {
      "text/html": [
       "<div>\n",
       "<style scoped>\n",
       "    .dataframe tbody tr th:only-of-type {\n",
       "        vertical-align: middle;\n",
       "    }\n",
       "\n",
       "    .dataframe tbody tr th {\n",
       "        vertical-align: top;\n",
       "    }\n",
       "\n",
       "    .dataframe thead th {\n",
       "        text-align: right;\n",
       "    }\n",
       "</style>\n",
       "<table border=\"1\" class=\"dataframe\">\n",
       "  <thead>\n",
       "    <tr style=\"text-align: right;\">\n",
       "      <th></th>\n",
       "      <th>0</th>\n",
       "      <th>1</th>\n",
       "      <th>2</th>\n",
       "    </tr>\n",
       "  </thead>\n",
       "  <tbody>\n",
       "    <tr>\n",
       "      <th>1</th>\n",
       "      <td>1</td>\n",
       "      <td>2</td>\n",
       "      <td>5</td>\n",
       "    </tr>\n",
       "    <tr>\n",
       "      <th>13</th>\n",
       "      <td>3</td>\n",
       "      <td>2</td>\n",
       "      <td>1</td>\n",
       "    </tr>\n",
       "    <tr>\n",
       "      <th>25</th>\n",
       "      <td>5</td>\n",
       "      <td>2</td>\n",
       "      <td>2</td>\n",
       "    </tr>\n",
       "    <tr>\n",
       "      <th>52</th>\n",
       "      <td>10</td>\n",
       "      <td>2</td>\n",
       "      <td>5</td>\n",
       "    </tr>\n",
       "    <tr>\n",
       "      <th>64</th>\n",
       "      <td>12</td>\n",
       "      <td>2</td>\n",
       "      <td>1</td>\n",
       "    </tr>\n",
       "    <tr>\n",
       "      <th>...</th>\n",
       "      <td>...</td>\n",
       "      <td>...</td>\n",
       "      <td>...</td>\n",
       "    </tr>\n",
       "    <tr>\n",
       "      <th>15430</th>\n",
       "      <td>2643</td>\n",
       "      <td>2</td>\n",
       "      <td>5</td>\n",
       "    </tr>\n",
       "    <tr>\n",
       "      <th>15467</th>\n",
       "      <td>2649</td>\n",
       "      <td>2</td>\n",
       "      <td>5</td>\n",
       "    </tr>\n",
       "    <tr>\n",
       "      <th>15478</th>\n",
       "      <td>2651</td>\n",
       "      <td>2</td>\n",
       "      <td>2</td>\n",
       "    </tr>\n",
       "    <tr>\n",
       "      <th>15549</th>\n",
       "      <td>2663</td>\n",
       "      <td>2</td>\n",
       "      <td>3</td>\n",
       "    </tr>\n",
       "    <tr>\n",
       "      <th>15555</th>\n",
       "      <td>2664</td>\n",
       "      <td>2</td>\n",
       "      <td>2</td>\n",
       "    </tr>\n",
       "  </tbody>\n",
       "</table>\n",
       "<p>784 rows × 3 columns</p>\n",
       "</div>"
      ],
      "text/plain": [
       "          0  1  2\n",
       "1         1  2  5\n",
       "13        3  2  1\n",
       "25        5  2  2\n",
       "52       10  2  5\n",
       "64       12  2  1\n",
       "...     ... .. ..\n",
       "15430  2643  2  5\n",
       "15467  2649  2  5\n",
       "15478  2651  2  2\n",
       "15549  2663  2  3\n",
       "15555  2664  2  2\n",
       "\n",
       "[784 rows x 3 columns]"
      ]
     },
     "execution_count": 222,
     "metadata": {},
     "output_type": "execute_result"
    }
   ],
   "source": [
    "pred_new"
   ]
  },
  {
   "cell_type": "code",
   "execution_count": 223,
   "metadata": {},
   "outputs": [],
   "source": [
    "C = confusion_matrix(pred_new[2],truth_new[1])"
   ]
  },
  {
   "cell_type": "code",
   "execution_count": 224,
   "metadata": {},
   "outputs": [
    {
     "data": {
      "text/plain": [
       "array([[0.84946237, 0.19565217, 0.07327586, 0.01986755, 0.02352941],\n",
       "       [0.12903226, 0.7173913 , 0.10775862, 0.11258278, 0.04705882],\n",
       "       [0.        , 0.07971014, 0.75862069, 0.25165563, 0.06470588],\n",
       "       [0.        , 0.00724638, 0.04310345, 0.54304636, 0.04117647],\n",
       "       [0.02150538, 0.        , 0.01724138, 0.07284768, 0.82352941]])"
      ]
     },
     "execution_count": 224,
     "metadata": {},
     "output_type": "execute_result"
    }
   ],
   "source": [
    "C / np.sum(C,axis=0)[np.newaxis,:]"
   ]
  },
  {
   "cell_type": "code",
   "execution_count": 225,
   "metadata": {},
   "outputs": [
    {
     "data": {
      "text/plain": [
       "array([[ 0.2289891 ,  0.18040218,  0.0170882 , -0.00292867,  0.01763028],\n",
       "       [ 0.05609443,  0.39020321,  0.04761515,  0.01734353,  0.01481299],\n",
       "       [-0.06441023, -0.42467619,  0.15631743,  0.10064339,  0.02681516],\n",
       "       [-0.00667989, -0.17706989,  0.03419089,  0.11966267,  0.02245573],\n",
       "       [ 0.78600658,  1.03114068,  0.74478834,  0.76527908,  0.91828585]])"
      ]
     },
     "execution_count": 225,
     "metadata": {},
     "output_type": "execute_result"
    }
   ],
   "source": [
    "C_estimated[1]"
   ]
  },
  {
   "cell_type": "code",
   "execution_count": 226,
   "metadata": {},
   "outputs": [],
   "source": [
    "m, n = labels.shape\n"
   ]
  },
  {
   "cell_type": "code",
   "execution_count": 227,
   "metadata": {},
   "outputs": [],
   "source": [
    "np.random.seed(0)\n",
    "groups = np.random.randint(3, size=m)\n"
   ]
  },
  {
   "cell_type": "code",
   "execution_count": 247,
   "metadata": {},
   "outputs": [],
   "source": [
    "groups = np.array([i%3 for i in range(m)])"
   ]
  },
  {
   "cell_type": "code",
   "execution_count": 248,
   "metadata": {},
   "outputs": [
    {
     "data": {
      "text/plain": [
       "array([0, 1, 2, 0, 1, 2, 0, 1, 2, 0, 1, 2, 0, 1, 2, 0, 1, 2, 0, 1, 2, 0,\n",
       "       1, 2, 0, 1, 2, 0, 1, 2, 0, 1, 2, 0, 1, 2, 0, 1, 2, 0, 1, 2, 0, 1,\n",
       "       2, 0, 1, 2, 0, 1, 2, 0, 1, 2, 0, 1, 2, 0, 1, 2, 0, 1, 2, 0, 1, 2,\n",
       "       0, 1, 2, 0, 1, 2, 0, 1, 2, 0, 1, 2, 0, 1, 2, 0, 1, 2, 0, 1, 2, 0,\n",
       "       1, 2, 0, 1, 2, 0, 1, 2, 0, 1, 2, 0, 1, 2, 0, 1, 2, 0, 1, 2, 0, 1,\n",
       "       2, 0, 1, 2, 0, 1, 2, 0, 1, 2, 0, 1, 2, 0, 1, 2, 0, 1, 2, 0, 1, 2,\n",
       "       0, 1, 2, 0, 1, 2, 0, 1, 2, 0, 1, 2, 0, 1, 2, 0, 1, 2, 0, 1, 2, 0,\n",
       "       1, 2, 0, 1, 2, 0, 1, 2, 0, 1, 2, 0, 1, 2, 0, 1, 2, 0, 1, 2, 0, 1,\n",
       "       2])"
      ]
     },
     "execution_count": 248,
     "metadata": {},
     "output_type": "execute_result"
    }
   ],
   "source": [
    "groups\n"
   ]
  },
  {
   "cell_type": "code",
   "execution_count": 249,
   "metadata": {},
   "outputs": [],
   "source": [
    "Zg = get_Zg(k, labels, groups)\n"
   ]
  },
  {
   "cell_type": "code",
   "execution_count": 250,
   "metadata": {},
   "outputs": [
    {
     "data": {
      "text/plain": [
       "array([[[0.        , 0.        , 0.        , 0.        , 0.03389831],\n",
       "        [0.05084746, 0.        , 0.        , 0.        , 0.        ],\n",
       "        [0.03389831, 0.        , 0.        , 0.        , 0.        ],\n",
       "        ...,\n",
       "        [0.        , 0.        , 0.        , 0.01694915, 0.        ],\n",
       "        [0.        , 0.        , 0.01694915, 0.        , 0.        ],\n",
       "        [0.        , 0.        , 0.01694915, 0.01694915, 0.        ]],\n",
       "\n",
       "       [[0.        , 0.        , 0.        , 0.        , 0.03389831],\n",
       "        [0.01694915, 0.        , 0.        , 0.        , 0.        ],\n",
       "        [0.03389831, 0.        , 0.        , 0.        , 0.01694915],\n",
       "        ...,\n",
       "        [0.        , 0.        , 0.01694915, 0.01694915, 0.03389831],\n",
       "        [0.        , 0.01694915, 0.        , 0.01694915, 0.        ],\n",
       "        [0.        , 0.        , 0.        , 0.03389831, 0.01694915]],\n",
       "\n",
       "       [[0.        , 0.        , 0.        , 0.        , 0.03389831],\n",
       "        [0.03389831, 0.        , 0.        , 0.        , 0.        ],\n",
       "        [0.        , 0.01694915, 0.        , 0.        , 0.        ],\n",
       "        ...,\n",
       "        [0.        , 0.        , 0.        , 0.        , 0.01694915],\n",
       "        [0.        , 0.        , 0.03389831, 0.01694915, 0.        ],\n",
       "        [0.        , 0.        , 0.        , 0.01694915, 0.        ]]])"
      ]
     },
     "execution_count": 250,
     "metadata": {},
     "output_type": "execute_result"
    }
   ],
   "source": [
    "Zg"
   ]
  },
  {
   "cell_type": "code",
   "execution_count": 251,
   "metadata": {},
   "outputs": [],
   "source": [
    "Z = np.zeros((m,n,k))"
   ]
  },
  {
   "cell_type": "code",
   "execution_count": 252,
   "metadata": {},
   "outputs": [],
   "source": [
    "for i in range(len(data)):\n",
    "    Z[data.iloc[i, 1]-1, data.iloc[i, 0]-1, data.iloc[i, 2]-1] = 1\n"
   ]
  },
  {
   "cell_type": "code",
   "execution_count": 253,
   "metadata": {},
   "outputs": [],
   "source": [
    "Zg = np.zeros((3,n,k))\n",
    "for g in range(3):\n",
    "    Zg[g,:,:] = np.mean(Z[groups==g,:,:],axis=0)"
   ]
  },
  {
   "cell_type": "code",
   "execution_count": 254,
   "metadata": {},
   "outputs": [
    {
     "data": {
      "text/plain": [
       "True"
      ]
     },
     "execution_count": 254,
     "metadata": {},
     "output_type": "execute_result"
    }
   ],
   "source": [
    "np.all(Zg == get_Zg(k, labels, groups))"
   ]
  },
  {
   "cell_type": "code",
   "execution_count": 255,
   "metadata": {},
   "outputs": [],
   "source": [
    "M2s, M3s = get_M(Zg)\n"
   ]
  },
  {
   "cell_type": "code",
   "execution_count": 257,
   "metadata": {},
   "outputs": [
    {
     "data": {
      "text/plain": [
       "[array([[[1.06549972e-06, 4.00909567e-07, 1.86179973e-07, 6.24276453e-08,\n",
       "          1.03600769e-07],\n",
       "         [2.54174415e-07, 4.46648428e-07, 1.40646002e-07, 7.01520550e-08,\n",
       "          1.77188614e-07],\n",
       "         [2.36062713e-07, 1.11559407e-07, 1.74379658e-07, 1.00333511e-07,\n",
       "          1.17523448e-07],\n",
       "         [5.52842310e-08, 6.02824313e-08, 1.31176047e-07, 2.14339296e-08,\n",
       "          7.79550528e-08],\n",
       "         [5.39319191e-08, 1.07918096e-07, 1.30878074e-07, 1.41321823e-07,\n",
       "          2.78167546e-07]],\n",
       " \n",
       "        [[3.37570139e-07, 3.50205452e-07, 1.47750442e-07, 1.00946691e-07,\n",
       "          1.26257788e-07],\n",
       "         [3.57496434e-07, 1.13783132e-06, 5.66940033e-07, 2.62104108e-07,\n",
       "          1.53713051e-07],\n",
       "         [1.10026953e-07, 4.33278892e-07, 4.48427205e-07, 2.72991611e-07,\n",
       "          1.78693951e-07],\n",
       "         [8.98954393e-08, 2.25697396e-07, 1.88496372e-07, 1.36317728e-07,\n",
       "          1.52921146e-07],\n",
       "         [1.52980207e-07, 2.17240718e-07, 1.19820034e-07, 7.11922876e-08,\n",
       "          3.12528959e-07]],\n",
       " \n",
       "        [[2.44006157e-07, 1.35243275e-07, 1.44389508e-07, 4.85001613e-08,\n",
       "          4.87087517e-08],\n",
       "         [1.59893936e-07, 4.40450765e-07, 3.65228816e-07, 1.88416711e-07,\n",
       "          1.76596496e-07],\n",
       "         [1.09033484e-07, 3.90103747e-07, 7.87254398e-07, 4.77715503e-07,\n",
       "          3.44741063e-07],\n",
       "         [3.92610934e-08, 1.57279260e-07, 4.65636352e-07, 5.85014882e-07,\n",
       "          3.10968438e-07],\n",
       "         [8.05523185e-08, 1.89509142e-07, 2.90166576e-07, 3.34692889e-07,\n",
       "          2.52088181e-07]],\n",
       " \n",
       "        [[1.82479613e-07, 5.52964522e-08, 8.64269612e-08, 1.21447680e-07,\n",
       "          5.62929416e-08],\n",
       "         [8.93711627e-08, 1.55436007e-07, 2.46465419e-07, 1.36729535e-07,\n",
       "          1.15085406e-07],\n",
       "         [9.83605918e-08, 2.22279437e-07, 6.34369759e-07, 6.60193791e-07,\n",
       "          3.21002366e-07],\n",
       "         [2.21681110e-08, 1.52178391e-07, 6.60717903e-07, 1.34564648e-06,\n",
       "          5.87137211e-07],\n",
       "         [4.11254700e-08, 2.17025390e-07, 2.79699965e-07, 5.15504860e-07,\n",
       "          6.81026550e-07]],\n",
       " \n",
       "        [[2.13093514e-07, 1.13470039e-07, 6.05114095e-08, 5.36208650e-08,\n",
       "          3.84031744e-07],\n",
       "         [1.69595916e-07, 2.35682663e-07, 1.18941793e-07, 1.16724481e-07,\n",
       "          5.31072828e-07],\n",
       "         [1.17926788e-07, 2.29805946e-07, 4.01620150e-07, 3.42351459e-07,\n",
       "          4.35843810e-07],\n",
       "         [4.28772693e-08, 1.12150653e-07, 3.32473715e-07, 7.16126899e-07,\n",
       "          7.91395826e-07],\n",
       "         [1.96791756e-07, 2.44397020e-07, 2.87458356e-07, 6.81486265e-07,\n",
       "          6.34125990e-06]]]),\n",
       " array([[[3.88315738e-07, 1.46814649e-07, 6.03670097e-08, 7.88378777e-08,\n",
       "          6.75100704e-08],\n",
       "         [1.62983487e-07, 1.19732311e-07, 4.63592969e-08, 5.27387694e-08,\n",
       "          4.58356169e-08],\n",
       "         [4.44895785e-08, 5.74824623e-08, 5.06373519e-08, 3.67906057e-08,\n",
       "          2.94186650e-08],\n",
       "         [5.38699894e-08, 6.55147577e-08, 2.14343702e-08, 7.53316655e-08,\n",
       "          3.97095032e-08],\n",
       "         [3.57191807e-08, 4.72473932e-08, 2.94047545e-08, 3.88125317e-08,\n",
       "          7.23632534e-08]],\n",
       " \n",
       "        [[1.15464727e-07, 1.02723101e-07, 4.86555744e-08, 4.89407581e-08,\n",
       "          5.83408932e-08],\n",
       "         [1.23018116e-07, 1.84674759e-07, 9.94000141e-08, 7.86599074e-08,\n",
       "          7.81130234e-08],\n",
       "         [5.79353556e-08, 1.30445004e-07, 1.26568000e-07, 1.01531758e-07,\n",
       "          7.55435725e-08],\n",
       "         [5.61984783e-08, 9.01942574e-08, 7.03087857e-08, 9.08159950e-08,\n",
       "          7.85230306e-08],\n",
       "         [5.56747137e-08, 6.94861210e-08, 7.89430928e-08, 6.46032617e-08,\n",
       "          1.02653776e-07]],\n",
       " \n",
       "        [[4.18214563e-08, 1.79839343e-08, 1.04829322e-09, 2.52274977e-08,\n",
       "          2.17545820e-08],\n",
       "         [1.59128673e-08, 7.04401844e-08, 9.65894652e-08, 5.68092873e-08,\n",
       "          7.36146015e-08],\n",
       "         [3.72752501e-08, 1.22564779e-07, 2.96707874e-07, 1.57570483e-07,\n",
       "          1.88980645e-07],\n",
       "         [3.37359779e-08, 6.76912089e-08, 8.63506548e-08, 1.37541561e-07,\n",
       "          8.75423024e-08],\n",
       "         [3.22699892e-08, 6.72405268e-08, 1.65429284e-07, 1.02308647e-07,\n",
       "          1.81193157e-07]],\n",
       " \n",
       "        [[5.70739137e-08, 5.43357504e-08, 2.83828496e-08, 5.58880095e-08,\n",
       "          4.31280630e-08],\n",
       "         [4.85865775e-08, 8.28091541e-08, 6.84749791e-08, 1.05636141e-07,\n",
       "          7.15408465e-08],\n",
       "         [5.82966112e-08, 8.45107949e-08, 1.73090093e-07, 2.34008246e-07,\n",
       "          1.50709279e-07],\n",
       "         [3.68393236e-08, 9.81825400e-08, 2.05521355e-07, 4.64750388e-07,\n",
       "          2.81042667e-07],\n",
       "         [5.02454630e-08, 7.63680706e-08, 1.44424262e-07, 2.47478762e-07,\n",
       "          2.69890851e-07]],\n",
       " \n",
       "        [[4.21246615e-08, 5.27029426e-08, 3.48958288e-08, 5.10516851e-08,\n",
       "          6.97282195e-08],\n",
       "         [4.49026162e-08, 7.66593311e-08, 8.46077824e-08, 9.86424955e-08,\n",
       "          9.71517420e-08],\n",
       "         [5.67674829e-08, 7.73422607e-08, 1.86038846e-07, 1.64646188e-07,\n",
       "          2.10151290e-07],\n",
       "         [6.12064128e-08, 7.55209845e-08, 1.59995312e-07, 2.99259909e-07,\n",
       "          3.76227518e-07],\n",
       "         [9.66613577e-08, 1.07101654e-07, 2.00029419e-07, 3.82372578e-07,\n",
       "          1.28690654e-06]]]),\n",
       " array([[[3.43873751e-07, 1.05428492e-07, 7.34075347e-08, 5.31594053e-08,\n",
       "          1.26553816e-07],\n",
       "         [1.32931431e-07, 9.08968830e-08, 5.02228320e-08, 4.59638063e-08,\n",
       "          9.52971614e-08],\n",
       "         [9.29382953e-08, 7.16827128e-08, 5.76259740e-08, 3.79405273e-08,\n",
       "          7.95293944e-08],\n",
       "         [6.60106717e-08, 5.19032694e-08, 4.48661140e-08, 2.39562024e-08,\n",
       "          4.36102331e-08],\n",
       "         [1.57001373e-07, 9.16548056e-08, 7.90397952e-08, 4.11803679e-08,\n",
       "          5.74569084e-08]],\n",
       " \n",
       "        [[1.38757920e-07, 9.90346626e-08, 4.37662003e-08, 4.00646402e-08,\n",
       "          8.47109534e-08],\n",
       "         [9.39504517e-08, 1.72657943e-07, 1.10128609e-07, 8.02548262e-08,\n",
       "          1.11356482e-07],\n",
       "         [6.40323043e-08, 1.33498171e-07, 1.41390529e-07, 9.46459407e-08,\n",
       "          1.36123602e-07],\n",
       "         [4.12425672e-08, 8.40608719e-08, 9.20924740e-08, 8.63881388e-08,\n",
       "          1.23231764e-07],\n",
       "         [8.09219743e-08, 1.09926792e-07, 1.22615924e-07, 8.92807648e-08,\n",
       "          1.00901903e-07]],\n",
       " \n",
       "        [[6.28282797e-08, 5.37309669e-08, 5.76428408e-08, 6.42425065e-08,\n",
       "          9.90608400e-08],\n",
       "         [5.66839544e-08, 1.37525141e-07, 1.42482165e-07, 9.23866143e-08,\n",
       "          1.00246373e-07],\n",
       "         [6.75366283e-08, 1.51976503e-07, 3.23692733e-07, 2.50148866e-07,\n",
       "          2.67720715e-07],\n",
       "         [3.95592118e-08, 1.10602241e-07, 2.44107999e-07, 2.88160812e-07,\n",
       "          2.67684588e-07],\n",
       "         [5.28214319e-08, 9.73849196e-08, 2.65620111e-07, 2.59420215e-07,\n",
       "          2.85546308e-07]],\n",
       " \n",
       "        [[6.13697012e-08, 4.05216788e-08, 5.32913598e-08, 4.88068808e-08,\n",
       "          1.02085949e-07],\n",
       "         [5.48539294e-08, 8.93805690e-08, 1.08123798e-07, 8.31015198e-08,\n",
       "          9.14123717e-08],\n",
       "         [5.28136605e-08, 1.04135757e-07, 2.60989630e-07, 3.35798449e-07,\n",
       "          3.46383609e-07],\n",
       "         [6.35209456e-08, 9.08195968e-08, 2.93209067e-07, 5.45804219e-07,\n",
       "          5.07345183e-07],\n",
       "         [5.55299965e-08, 9.18391899e-08, 2.70712312e-07, 4.75918612e-07,\n",
       "          6.18452000e-07]],\n",
       " \n",
       "        [[1.49266603e-07, 9.20495316e-08, 9.08159049e-08, 8.34743390e-08,\n",
       "          2.05133557e-07],\n",
       "         [9.71483487e-08, 1.02660039e-07, 1.19259177e-07, 1.11808600e-07,\n",
       "          2.04327327e-07],\n",
       "         [7.99331808e-08, 1.25272612e-07, 2.93055211e-07, 3.57705839e-07,\n",
       "          5.03047063e-07],\n",
       "         [7.67992691e-08, 9.89675793e-08, 2.89050202e-07, 5.48713774e-07,\n",
       "          9.50398647e-07],\n",
       "         [1.58494757e-07, 2.05702153e-07, 3.87581857e-07, 7.03973668e-07,\n",
       "          4.04639110e-06]]])]"
      ]
     },
     "execution_count": 257,
     "metadata": {},
     "output_type": "execute_result"
    }
   ],
   "source": [
    "M3s"
   ]
  }
 ],
 "metadata": {
  "interpreter": {
   "hash": "7b4b4feff2f24a0f0a34464dbe537a36fda679851528fb8735cb41fa49dffb2d"
  },
  "kernelspec": {
   "display_name": "Python 3.8.8 64-bit ('base': conda)",
   "language": "python",
   "name": "python3"
  },
  "language_info": {
   "codemirror_mode": {
    "name": "ipython",
    "version": 3
   },
   "file_extension": ".py",
   "mimetype": "text/x-python",
   "name": "python",
   "nbconvert_exporter": "python",
   "pygments_lexer": "ipython3",
   "version": "3.8.8"
  },
  "orig_nbformat": 4
 },
 "nbformat": 4,
 "nbformat_minor": 2
}
