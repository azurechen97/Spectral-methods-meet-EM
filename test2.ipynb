{
 "cells": [
  {
   "cell_type": "code",
   "execution_count": 1,
   "metadata": {},
   "outputs": [],
   "source": [
    "import numpy as np\n",
    "from utils import *\n",
    "import pandas as pd"
   ]
  },
  {
   "cell_type": "code",
   "execution_count": 2,
   "metadata": {},
   "outputs": [],
   "source": [
    "data = pd.read_table(\"data/web_crowd.txt\",header=None)"
   ]
  },
  {
   "cell_type": "code",
   "execution_count": 3,
   "metadata": {},
   "outputs": [],
   "source": [
    "truth = pd.read_table(\"data/web_truth.txt\", header=None)\n"
   ]
  },
  {
   "cell_type": "code",
   "execution_count": 4,
   "metadata": {},
   "outputs": [],
   "source": [
    "def transform_data(data):\n",
    "    X = np.array(data)\n",
    "    rows, _ = X.shape\n",
    "    n,m,k = np.max(np.array(data), axis=0)\n",
    "    labels = np.zeros((m,n),dtype=np.int64)-1\n",
    "    for r in range(rows):\n",
    "        labels[X[r,1]-1,X[r,0]-1] = X[r,2]-1\n",
    "    return labels\n"
   ]
  },
  {
   "cell_type": "code",
   "execution_count": 5,
   "metadata": {},
   "outputs": [
    {
     "data": {
      "text/plain": [
       "array([[ 4,  0,  0, ..., -1, -1, -1],\n",
       "       [ 4, -1,  0, ...,  2,  1, -1],\n",
       "       [ 4, -1, -1, ..., -1,  3, -1],\n",
       "       ...,\n",
       "       [-1, -1, -1, ..., -1, -1, -1],\n",
       "       [-1, -1, -1, ..., -1, -1, -1],\n",
       "       [-1, -1, -1, ..., -1, -1, -1]], dtype=int64)"
      ]
     },
     "execution_count": 5,
     "metadata": {},
     "output_type": "execute_result"
    }
   ],
   "source": [
    "transform_data(data)\n"
   ]
  },
  {
   "cell_type": "code",
   "execution_count": 6,
   "metadata": {},
   "outputs": [
    {
     "name": "stdout",
     "output_type": "stream",
     "text": [
      "2665 177 5\n"
     ]
    }
   ],
   "source": [
    "n,m,k = np.max(np.array(data),axis=0)\n",
    "print(n,m,k)"
   ]
  },
  {
   "cell_type": "code",
   "execution_count": 7,
   "metadata": {},
   "outputs": [],
   "source": [
    "labels = transform_data(data)\n"
   ]
  },
  {
   "cell_type": "code",
   "execution_count": 8,
   "metadata": {},
   "outputs": [
    {
     "data": {
      "text/plain": [
       "array([[ 4,  0,  0, ..., -1, -1, -1],\n",
       "       [ 4, -1,  0, ...,  2,  1, -1],\n",
       "       [ 4, -1, -1, ..., -1,  3, -1],\n",
       "       ...,\n",
       "       [-1, -1, -1, ..., -1, -1, -1],\n",
       "       [-1, -1, -1, ..., -1, -1, -1],\n",
       "       [-1, -1, -1, ..., -1, -1, -1]], dtype=int64)"
      ]
     },
     "execution_count": 8,
     "metadata": {},
     "output_type": "execute_result"
    }
   ],
   "source": [
    "labels\n"
   ]
  },
  {
   "cell_type": "code",
   "execution_count": 159,
   "metadata": {},
   "outputs": [
    {
     "name": "stdout",
     "output_type": "stream",
     "text": [
      "[0 2 1 4 3] [0 2 1 4 3]\n",
      "[[[0.16462867 0.         0.         0.         0.        ]\n",
      "  [0.         0.         0.         0.         0.        ]\n",
      "  [0.         0.         0.         0.         0.        ]\n",
      "  [0.         0.         0.         0.         0.        ]\n",
      "  [0.         0.         0.         0.         0.        ]]\n",
      "\n",
      " [[0.         0.         0.         0.         0.        ]\n",
      "  [0.         0.         0.         0.         0.        ]\n",
      "  [0.         0.         0.         0.         0.        ]\n",
      "  [0.         0.         0.         0.         0.        ]\n",
      "  [0.         0.         0.         0.         0.        ]]\n",
      "\n",
      " [[0.         0.         0.         0.         0.        ]\n",
      "  [0.         0.         0.         0.         0.        ]\n",
      "  [0.         0.         0.         0.         0.        ]\n",
      "  [0.         0.         0.         0.         0.        ]\n",
      "  [0.         0.         0.         0.         0.        ]]]\n",
      "[[[0.16462867 0.         0.         0.         0.        ]\n",
      "  [0.         0.         0.         0.         0.        ]\n",
      "  [0.         0.         0.26262168 0.         0.        ]\n",
      "  [0.         0.         0.         0.         0.        ]\n",
      "  [0.         0.         0.         0.         0.        ]]\n",
      "\n",
      " [[0.         0.         0.         0.         0.        ]\n",
      "  [0.         0.         0.         0.         0.        ]\n",
      "  [0.         0.         0.         0.         0.        ]\n",
      "  [0.         0.         0.         0.         0.        ]\n",
      "  [0.         0.         0.         0.         0.        ]]\n",
      "\n",
      " [[0.         0.         0.         0.         0.        ]\n",
      "  [0.         0.         0.         0.         0.        ]\n",
      "  [0.         0.         0.         0.         0.        ]\n",
      "  [0.         0.         0.         0.         0.        ]\n",
      "  [0.         0.         0.         0.         0.        ]]]\n",
      "[[[0.16462867 0.         0.         0.         0.        ]\n",
      "  [0.         0.34756786 0.         0.         0.        ]\n",
      "  [0.         0.         0.26262168 0.         0.        ]\n",
      "  [0.         0.         0.         0.         0.        ]\n",
      "  [0.         0.         0.         0.         0.        ]]\n",
      "\n",
      " [[0.         0.         0.         0.         0.        ]\n",
      "  [0.         0.         0.         0.         0.        ]\n",
      "  [0.         0.         0.         0.         0.        ]\n",
      "  [0.         0.         0.         0.         0.        ]\n",
      "  [0.         0.         0.         0.         0.        ]]\n",
      "\n",
      " [[0.         0.         0.         0.         0.        ]\n",
      "  [0.         0.         0.         0.         0.        ]\n",
      "  [0.         0.         0.         0.         0.        ]\n",
      "  [0.         0.         0.         0.         0.        ]\n",
      "  [0.         0.         0.         0.         0.        ]]]\n",
      "[[[0.16462867 0.         0.         0.         0.        ]\n",
      "  [0.         0.34756786 0.         0.         0.        ]\n",
      "  [0.         0.         0.26262168 0.         0.        ]\n",
      "  [0.         0.         0.         0.         0.        ]\n",
      "  [0.         0.         0.         0.         0.38128721]]\n",
      "\n",
      " [[0.         0.         0.         0.         0.        ]\n",
      "  [0.         0.         0.         0.         0.        ]\n",
      "  [0.         0.         0.         0.         0.        ]\n",
      "  [0.         0.         0.         0.         0.        ]\n",
      "  [0.         0.         0.         0.         0.        ]]\n",
      "\n",
      " [[0.         0.         0.         0.         0.        ]\n",
      "  [0.         0.         0.         0.         0.        ]\n",
      "  [0.         0.         0.         0.         0.        ]\n",
      "  [0.         0.         0.         0.         0.        ]\n",
      "  [0.         0.         0.         0.         0.        ]]]\n",
      "[[[0.16462867 0.         0.         0.         0.        ]\n",
      "  [0.         0.34756786 0.         0.         0.        ]\n",
      "  [0.         0.         0.26262168 0.         0.        ]\n",
      "  [0.         0.         0.         0.42945566 0.        ]\n",
      "  [0.         0.         0.         0.         0.38128721]]\n",
      "\n",
      " [[0.         0.         0.         0.         0.        ]\n",
      "  [0.         0.         0.         0.         0.        ]\n",
      "  [0.         0.         0.         0.         0.        ]\n",
      "  [0.         0.         0.         0.         0.        ]\n",
      "  [0.         0.         0.         0.         0.        ]]\n",
      "\n",
      " [[0.         0.         0.         0.         0.        ]\n",
      "  [0.         0.         0.         0.         0.        ]\n",
      "  [0.         0.         0.         0.         0.        ]\n",
      "  [0.         0.         0.         0.         0.        ]\n",
      "  [0.         0.         0.         0.         0.        ]]]\n",
      "[0 2 1 3 4] [0 2 1 3 4]\n",
      "[[[0.16462867 0.         0.         0.         0.        ]\n",
      "  [0.         0.34756786 0.         0.         0.        ]\n",
      "  [0.         0.         0.26262168 0.         0.        ]\n",
      "  [0.         0.         0.         0.42945566 0.        ]\n",
      "  [0.         0.         0.         0.         0.38128721]]\n",
      "\n",
      " [[0.1696695  0.         0.         0.         0.        ]\n",
      "  [0.         0.         0.         0.         0.        ]\n",
      "  [0.         0.         0.         0.         0.        ]\n",
      "  [0.         0.         0.         0.         0.        ]\n",
      "  [0.         0.         0.         0.         0.        ]]\n",
      "\n",
      " [[0.         0.         0.         0.         0.        ]\n",
      "  [0.         0.         0.         0.         0.        ]\n",
      "  [0.         0.         0.         0.         0.        ]\n",
      "  [0.         0.         0.         0.         0.        ]\n",
      "  [0.         0.         0.         0.         0.        ]]]\n",
      "[[[0.16462867 0.         0.         0.         0.        ]\n",
      "  [0.         0.34756786 0.         0.         0.        ]\n",
      "  [0.         0.         0.26262168 0.         0.        ]\n",
      "  [0.         0.         0.         0.42945566 0.        ]\n",
      "  [0.         0.         0.         0.         0.38128721]]\n",
      "\n",
      " [[0.1696695  0.         0.         0.         0.        ]\n",
      "  [0.         0.         0.         0.         0.        ]\n",
      "  [0.         0.         0.31515646 0.         0.        ]\n",
      "  [0.         0.         0.         0.         0.        ]\n",
      "  [0.         0.         0.         0.         0.        ]]\n",
      "\n",
      " [[0.         0.         0.         0.         0.        ]\n",
      "  [0.         0.         0.         0.         0.        ]\n",
      "  [0.         0.         0.         0.         0.        ]\n",
      "  [0.         0.         0.         0.         0.        ]\n",
      "  [0.         0.         0.         0.         0.        ]]]\n",
      "[[[0.16462867 0.         0.         0.         0.        ]\n",
      "  [0.         0.34756786 0.         0.         0.        ]\n",
      "  [0.         0.         0.26262168 0.         0.        ]\n",
      "  [0.         0.         0.         0.42945566 0.        ]\n",
      "  [0.         0.         0.         0.         0.38128721]]\n",
      "\n",
      " [[0.1696695  0.         0.         0.         0.        ]\n",
      "  [0.         0.38495952 0.         0.         0.        ]\n",
      "  [0.         0.         0.31515646 0.         0.        ]\n",
      "  [0.         0.         0.         0.         0.        ]\n",
      "  [0.         0.         0.         0.         0.        ]]\n",
      "\n",
      " [[0.         0.         0.         0.         0.        ]\n",
      "  [0.         0.         0.         0.         0.        ]\n",
      "  [0.         0.         0.         0.         0.        ]\n",
      "  [0.         0.         0.         0.         0.        ]\n",
      "  [0.         0.         0.         0.         0.        ]]]\n",
      "[[[0.16462867 0.         0.         0.         0.        ]\n",
      "  [0.         0.34756786 0.         0.         0.        ]\n",
      "  [0.         0.         0.26262168 0.         0.        ]\n",
      "  [0.         0.         0.         0.42945566 0.        ]\n",
      "  [0.         0.         0.         0.         0.38128721]]\n",
      "\n",
      " [[0.1696695  0.         0.         0.         0.        ]\n",
      "  [0.         0.38495952 0.         0.         0.        ]\n",
      "  [0.         0.         0.31515646 0.         0.        ]\n",
      "  [0.         0.         0.         0.38503044 0.        ]\n",
      "  [0.         0.         0.         0.         0.        ]]\n",
      "\n",
      " [[0.         0.         0.         0.         0.        ]\n",
      "  [0.         0.         0.         0.         0.        ]\n",
      "  [0.         0.         0.         0.         0.        ]\n",
      "  [0.         0.         0.         0.         0.        ]\n",
      "  [0.         0.         0.         0.         0.        ]]]\n",
      "[[[0.16462867 0.         0.         0.         0.        ]\n",
      "  [0.         0.34756786 0.         0.         0.        ]\n",
      "  [0.         0.         0.26262168 0.         0.        ]\n",
      "  [0.         0.         0.         0.42945566 0.        ]\n",
      "  [0.         0.         0.         0.         0.38128721]]\n",
      "\n",
      " [[0.1696695  0.         0.         0.         0.        ]\n",
      "  [0.         0.38495952 0.         0.         0.        ]\n",
      "  [0.         0.         0.31515646 0.         0.        ]\n",
      "  [0.         0.         0.         0.38503044 0.        ]\n",
      "  [0.         0.         0.         0.         0.41017424]]\n",
      "\n",
      " [[0.         0.         0.         0.         0.        ]\n",
      "  [0.         0.         0.         0.         0.        ]\n",
      "  [0.         0.         0.         0.         0.        ]\n",
      "  [0.         0.         0.         0.         0.        ]\n",
      "  [0.         0.         0.         0.         0.        ]]]\n",
      "[0 2 1 3 4] [0 2 1 3 4]\n",
      "[[[0.16462867 0.         0.         0.         0.        ]\n",
      "  [0.         0.34756786 0.         0.         0.        ]\n",
      "  [0.         0.         0.26262168 0.         0.        ]\n",
      "  [0.         0.         0.         0.42945566 0.        ]\n",
      "  [0.         0.         0.         0.         0.38128721]]\n",
      "\n",
      " [[0.1696695  0.         0.         0.         0.        ]\n",
      "  [0.         0.38495952 0.         0.         0.        ]\n",
      "  [0.         0.         0.31515646 0.         0.        ]\n",
      "  [0.         0.         0.         0.38503044 0.        ]\n",
      "  [0.         0.         0.         0.         0.41017424]]\n",
      "\n",
      " [[0.16984519 0.         0.         0.         0.        ]\n",
      "  [0.         0.         0.         0.         0.        ]\n",
      "  [0.         0.         0.         0.         0.        ]\n",
      "  [0.         0.         0.         0.         0.        ]\n",
      "  [0.         0.         0.         0.         0.        ]]]\n",
      "[[[0.16462867 0.         0.         0.         0.        ]\n",
      "  [0.         0.34756786 0.         0.         0.        ]\n",
      "  [0.         0.         0.26262168 0.         0.        ]\n",
      "  [0.         0.         0.         0.42945566 0.        ]\n",
      "  [0.         0.         0.         0.         0.38128721]]\n",
      "\n",
      " [[0.1696695  0.         0.         0.         0.        ]\n",
      "  [0.         0.38495952 0.         0.         0.        ]\n",
      "  [0.         0.         0.31515646 0.         0.        ]\n",
      "  [0.         0.         0.         0.38503044 0.        ]\n",
      "  [0.         0.         0.         0.         0.41017424]]\n",
      "\n",
      " [[0.16984519 0.         0.         0.         0.        ]\n",
      "  [0.         0.         0.         0.         0.        ]\n",
      "  [0.         0.         0.24790067 0.         0.        ]\n",
      "  [0.         0.         0.         0.         0.        ]\n",
      "  [0.         0.         0.         0.         0.        ]]]\n",
      "[[[0.16462867 0.         0.         0.         0.        ]\n",
      "  [0.         0.34756786 0.         0.         0.        ]\n",
      "  [0.         0.         0.26262168 0.         0.        ]\n",
      "  [0.         0.         0.         0.42945566 0.        ]\n",
      "  [0.         0.         0.         0.         0.38128721]]\n",
      "\n",
      " [[0.1696695  0.         0.         0.         0.        ]\n",
      "  [0.         0.38495952 0.         0.         0.        ]\n",
      "  [0.         0.         0.31515646 0.         0.        ]\n",
      "  [0.         0.         0.         0.38503044 0.        ]\n",
      "  [0.         0.         0.         0.         0.41017424]]\n",
      "\n",
      " [[0.16984519 0.         0.         0.         0.        ]\n",
      "  [0.         0.34102443 0.         0.         0.        ]\n",
      "  [0.         0.         0.24790067 0.         0.        ]\n",
      "  [0.         0.         0.         0.         0.        ]\n",
      "  [0.         0.         0.         0.         0.        ]]]\n",
      "[[[0.16462867 0.         0.         0.         0.        ]\n",
      "  [0.         0.34756786 0.         0.         0.        ]\n",
      "  [0.         0.         0.26262168 0.         0.        ]\n",
      "  [0.         0.         0.         0.42945566 0.        ]\n",
      "  [0.         0.         0.         0.         0.38128721]]\n",
      "\n",
      " [[0.1696695  0.         0.         0.         0.        ]\n",
      "  [0.         0.38495952 0.         0.         0.        ]\n",
      "  [0.         0.         0.31515646 0.         0.        ]\n",
      "  [0.         0.         0.         0.38503044 0.        ]\n",
      "  [0.         0.         0.         0.         0.41017424]]\n",
      "\n",
      " [[0.16984519 0.         0.         0.         0.        ]\n",
      "  [0.         0.34102443 0.         0.         0.        ]\n",
      "  [0.         0.         0.24790067 0.         0.        ]\n",
      "  [0.         0.         0.         0.41487129 0.        ]\n",
      "  [0.         0.         0.         0.         0.        ]]]\n",
      "[[[0.16462867 0.         0.         0.         0.        ]\n",
      "  [0.         0.34756786 0.         0.         0.        ]\n",
      "  [0.         0.         0.26262168 0.         0.        ]\n",
      "  [0.         0.         0.         0.42945566 0.        ]\n",
      "  [0.         0.         0.         0.         0.38128721]]\n",
      "\n",
      " [[0.1696695  0.         0.         0.         0.        ]\n",
      "  [0.         0.38495952 0.         0.         0.        ]\n",
      "  [0.         0.         0.31515646 0.         0.        ]\n",
      "  [0.         0.         0.         0.38503044 0.        ]\n",
      "  [0.         0.         0.         0.         0.41017424]]\n",
      "\n",
      " [[0.16984519 0.         0.         0.         0.        ]\n",
      "  [0.         0.34102443 0.         0.         0.        ]\n",
      "  [0.         0.         0.24790067 0.         0.        ]\n",
      "  [0.         0.         0.         0.41487129 0.        ]\n",
      "  [0.         0.         0.         0.         0.42775853]]]\n"
     ]
    }
   ],
   "source": [
    "C_estimated = get_confusion_matrix(k,labels,groups=groups,sym=False)"
   ]
  },
  {
   "cell_type": "code",
   "execution_count": null,
   "metadata": {},
   "outputs": [],
   "source": [
    "def get_M2(Z):\n",
    "    _, n, k = Z.shape\n",
    "    for a,b,c in [(1,2,0),(2,0,1),(0,1,2)]:\n",
    "        Za = np.kron(Z[c,:,:],Z[b,:,:])@np.linalg.inv()"
   ]
  },
  {
   "cell_type": "code",
   "execution_count": 12,
   "metadata": {},
   "outputs": [
    {
     "data": {
      "text/html": [
       "<div>\n",
       "<style scoped>\n",
       "    .dataframe tbody tr th:only-of-type {\n",
       "        vertical-align: middle;\n",
       "    }\n",
       "\n",
       "    .dataframe tbody tr th {\n",
       "        vertical-align: top;\n",
       "    }\n",
       "\n",
       "    .dataframe thead th {\n",
       "        text-align: right;\n",
       "    }\n",
       "</style>\n",
       "<table border=\"1\" class=\"dataframe\">\n",
       "  <thead>\n",
       "    <tr style=\"text-align: right;\">\n",
       "      <th></th>\n",
       "      <th>0</th>\n",
       "      <th>1</th>\n",
       "      <th>2</th>\n",
       "    </tr>\n",
       "  </thead>\n",
       "  <tbody>\n",
       "    <tr>\n",
       "      <th>0</th>\n",
       "      <td>1</td>\n",
       "      <td>1</td>\n",
       "      <td>5</td>\n",
       "    </tr>\n",
       "    <tr>\n",
       "      <th>6</th>\n",
       "      <td>2</td>\n",
       "      <td>1</td>\n",
       "      <td>1</td>\n",
       "    </tr>\n",
       "    <tr>\n",
       "      <th>12</th>\n",
       "      <td>3</td>\n",
       "      <td>1</td>\n",
       "      <td>1</td>\n",
       "    </tr>\n",
       "    <tr>\n",
       "      <th>18</th>\n",
       "      <td>4</td>\n",
       "      <td>1</td>\n",
       "      <td>1</td>\n",
       "    </tr>\n",
       "    <tr>\n",
       "      <th>24</th>\n",
       "      <td>5</td>\n",
       "      <td>1</td>\n",
       "      <td>2</td>\n",
       "    </tr>\n",
       "    <tr>\n",
       "      <th>...</th>\n",
       "      <td>...</td>\n",
       "      <td>...</td>\n",
       "      <td>...</td>\n",
       "    </tr>\n",
       "    <tr>\n",
       "      <th>15477</th>\n",
       "      <td>2651</td>\n",
       "      <td>1</td>\n",
       "      <td>5</td>\n",
       "    </tr>\n",
       "    <tr>\n",
       "      <th>15489</th>\n",
       "      <td>2653</td>\n",
       "      <td>1</td>\n",
       "      <td>4</td>\n",
       "    </tr>\n",
       "    <tr>\n",
       "      <th>15501</th>\n",
       "      <td>2655</td>\n",
       "      <td>1</td>\n",
       "      <td>5</td>\n",
       "    </tr>\n",
       "    <tr>\n",
       "      <th>15525</th>\n",
       "      <td>2659</td>\n",
       "      <td>1</td>\n",
       "      <td>3</td>\n",
       "    </tr>\n",
       "    <tr>\n",
       "      <th>15543</th>\n",
       "      <td>2662</td>\n",
       "      <td>1</td>\n",
       "      <td>3</td>\n",
       "    </tr>\n",
       "  </tbody>\n",
       "</table>\n",
       "<p>1044 rows × 3 columns</p>\n",
       "</div>"
      ],
      "text/plain": [
       "          0  1  2\n",
       "0         1  1  5\n",
       "6         2  1  1\n",
       "12        3  1  1\n",
       "18        4  1  1\n",
       "24        5  1  2\n",
       "...     ... .. ..\n",
       "15477  2651  1  5\n",
       "15489  2653  1  4\n",
       "15501  2655  1  5\n",
       "15525  2659  1  3\n",
       "15543  2662  1  3\n",
       "\n",
       "[1044 rows x 3 columns]"
      ]
     },
     "execution_count": 12,
     "metadata": {},
     "output_type": "execute_result"
    }
   ],
   "source": [
    "data[data[1]==1]"
   ]
  },
  {
   "cell_type": "code",
   "execution_count": 13,
   "metadata": {},
   "outputs": [
    {
     "data": {
      "text/html": [
       "<div>\n",
       "<style scoped>\n",
       "    .dataframe tbody tr th:only-of-type {\n",
       "        vertical-align: middle;\n",
       "    }\n",
       "\n",
       "    .dataframe tbody tr th {\n",
       "        vertical-align: top;\n",
       "    }\n",
       "\n",
       "    .dataframe thead th {\n",
       "        text-align: right;\n",
       "    }\n",
       "</style>\n",
       "<table border=\"1\" class=\"dataframe\">\n",
       "  <thead>\n",
       "    <tr style=\"text-align: right;\">\n",
       "      <th></th>\n",
       "      <th>0</th>\n",
       "      <th>1</th>\n",
       "    </tr>\n",
       "  </thead>\n",
       "  <tbody>\n",
       "    <tr>\n",
       "      <th>0</th>\n",
       "      <td>1</td>\n",
       "      <td>5</td>\n",
       "    </tr>\n",
       "    <tr>\n",
       "      <th>1</th>\n",
       "      <td>2</td>\n",
       "      <td>1</td>\n",
       "    </tr>\n",
       "    <tr>\n",
       "      <th>2</th>\n",
       "      <td>3</td>\n",
       "      <td>1</td>\n",
       "    </tr>\n",
       "    <tr>\n",
       "      <th>3</th>\n",
       "      <td>4</td>\n",
       "      <td>1</td>\n",
       "    </tr>\n",
       "    <tr>\n",
       "      <th>4</th>\n",
       "      <td>5</td>\n",
       "      <td>2</td>\n",
       "    </tr>\n",
       "    <tr>\n",
       "      <th>...</th>\n",
       "      <td>...</td>\n",
       "      <td>...</td>\n",
       "    </tr>\n",
       "    <tr>\n",
       "      <th>2648</th>\n",
       "      <td>2661</td>\n",
       "      <td>5</td>\n",
       "    </tr>\n",
       "    <tr>\n",
       "      <th>2649</th>\n",
       "      <td>2662</td>\n",
       "      <td>2</td>\n",
       "    </tr>\n",
       "    <tr>\n",
       "      <th>2650</th>\n",
       "      <td>2663</td>\n",
       "      <td>4</td>\n",
       "    </tr>\n",
       "    <tr>\n",
       "      <th>2651</th>\n",
       "      <td>2664</td>\n",
       "      <td>3</td>\n",
       "    </tr>\n",
       "    <tr>\n",
       "      <th>2652</th>\n",
       "      <td>2665</td>\n",
       "      <td>4</td>\n",
       "    </tr>\n",
       "  </tbody>\n",
       "</table>\n",
       "<p>2653 rows × 2 columns</p>\n",
       "</div>"
      ],
      "text/plain": [
       "         0  1\n",
       "0        1  5\n",
       "1        2  1\n",
       "2        3  1\n",
       "3        4  1\n",
       "4        5  2\n",
       "...    ... ..\n",
       "2648  2661  5\n",
       "2649  2662  2\n",
       "2650  2663  4\n",
       "2651  2664  3\n",
       "2652  2665  4\n",
       "\n",
       "[2653 rows x 2 columns]"
      ]
     },
     "execution_count": 13,
     "metadata": {},
     "output_type": "execute_result"
    }
   ],
   "source": [
    "truth"
   ]
  },
  {
   "cell_type": "code",
   "execution_count": 14,
   "metadata": {},
   "outputs": [],
   "source": [
    "from sklearn.metrics import confusion_matrix\n"
   ]
  },
  {
   "cell_type": "code",
   "execution_count": 15,
   "metadata": {},
   "outputs": [],
   "source": [
    "truth_new = truth[truth[0].isin(data[data[1] == 2][0])]\n",
    "pred_new = data[data[1] == 2][data[data[1] == 2][0].isin(truth_new[0])]\n"
   ]
  },
  {
   "cell_type": "code",
   "execution_count": 16,
   "metadata": {},
   "outputs": [
    {
     "data": {
      "text/html": [
       "<div>\n",
       "<style scoped>\n",
       "    .dataframe tbody tr th:only-of-type {\n",
       "        vertical-align: middle;\n",
       "    }\n",
       "\n",
       "    .dataframe tbody tr th {\n",
       "        vertical-align: top;\n",
       "    }\n",
       "\n",
       "    .dataframe thead th {\n",
       "        text-align: right;\n",
       "    }\n",
       "</style>\n",
       "<table border=\"1\" class=\"dataframe\">\n",
       "  <thead>\n",
       "    <tr style=\"text-align: right;\">\n",
       "      <th></th>\n",
       "      <th>0</th>\n",
       "      <th>1</th>\n",
       "    </tr>\n",
       "  </thead>\n",
       "  <tbody>\n",
       "    <tr>\n",
       "      <th>0</th>\n",
       "      <td>1</td>\n",
       "      <td>5</td>\n",
       "    </tr>\n",
       "    <tr>\n",
       "      <th>2</th>\n",
       "      <td>3</td>\n",
       "      <td>1</td>\n",
       "    </tr>\n",
       "    <tr>\n",
       "      <th>4</th>\n",
       "      <td>5</td>\n",
       "      <td>2</td>\n",
       "    </tr>\n",
       "    <tr>\n",
       "      <th>9</th>\n",
       "      <td>10</td>\n",
       "      <td>5</td>\n",
       "    </tr>\n",
       "    <tr>\n",
       "      <th>11</th>\n",
       "      <td>12</td>\n",
       "      <td>1</td>\n",
       "    </tr>\n",
       "    <tr>\n",
       "      <th>...</th>\n",
       "      <td>...</td>\n",
       "      <td>...</td>\n",
       "    </tr>\n",
       "    <tr>\n",
       "      <th>2630</th>\n",
       "      <td>2643</td>\n",
       "      <td>5</td>\n",
       "    </tr>\n",
       "    <tr>\n",
       "      <th>2636</th>\n",
       "      <td>2649</td>\n",
       "      <td>5</td>\n",
       "    </tr>\n",
       "    <tr>\n",
       "      <th>2638</th>\n",
       "      <td>2651</td>\n",
       "      <td>5</td>\n",
       "    </tr>\n",
       "    <tr>\n",
       "      <th>2650</th>\n",
       "      <td>2663</td>\n",
       "      <td>4</td>\n",
       "    </tr>\n",
       "    <tr>\n",
       "      <th>2651</th>\n",
       "      <td>2664</td>\n",
       "      <td>3</td>\n",
       "    </tr>\n",
       "  </tbody>\n",
       "</table>\n",
       "<p>784 rows × 2 columns</p>\n",
       "</div>"
      ],
      "text/plain": [
       "         0  1\n",
       "0        1  5\n",
       "2        3  1\n",
       "4        5  2\n",
       "9       10  5\n",
       "11      12  1\n",
       "...    ... ..\n",
       "2630  2643  5\n",
       "2636  2649  5\n",
       "2638  2651  5\n",
       "2650  2663  4\n",
       "2651  2664  3\n",
       "\n",
       "[784 rows x 2 columns]"
      ]
     },
     "execution_count": 16,
     "metadata": {},
     "output_type": "execute_result"
    }
   ],
   "source": [
    "truth_new\n"
   ]
  },
  {
   "cell_type": "code",
   "execution_count": 17,
   "metadata": {},
   "outputs": [
    {
     "data": {
      "text/html": [
       "<div>\n",
       "<style scoped>\n",
       "    .dataframe tbody tr th:only-of-type {\n",
       "        vertical-align: middle;\n",
       "    }\n",
       "\n",
       "    .dataframe tbody tr th {\n",
       "        vertical-align: top;\n",
       "    }\n",
       "\n",
       "    .dataframe thead th {\n",
       "        text-align: right;\n",
       "    }\n",
       "</style>\n",
       "<table border=\"1\" class=\"dataframe\">\n",
       "  <thead>\n",
       "    <tr style=\"text-align: right;\">\n",
       "      <th></th>\n",
       "      <th>0</th>\n",
       "      <th>1</th>\n",
       "      <th>2</th>\n",
       "    </tr>\n",
       "  </thead>\n",
       "  <tbody>\n",
       "    <tr>\n",
       "      <th>1</th>\n",
       "      <td>1</td>\n",
       "      <td>2</td>\n",
       "      <td>5</td>\n",
       "    </tr>\n",
       "    <tr>\n",
       "      <th>13</th>\n",
       "      <td>3</td>\n",
       "      <td>2</td>\n",
       "      <td>1</td>\n",
       "    </tr>\n",
       "    <tr>\n",
       "      <th>25</th>\n",
       "      <td>5</td>\n",
       "      <td>2</td>\n",
       "      <td>2</td>\n",
       "    </tr>\n",
       "    <tr>\n",
       "      <th>52</th>\n",
       "      <td>10</td>\n",
       "      <td>2</td>\n",
       "      <td>5</td>\n",
       "    </tr>\n",
       "    <tr>\n",
       "      <th>64</th>\n",
       "      <td>12</td>\n",
       "      <td>2</td>\n",
       "      <td>1</td>\n",
       "    </tr>\n",
       "    <tr>\n",
       "      <th>...</th>\n",
       "      <td>...</td>\n",
       "      <td>...</td>\n",
       "      <td>...</td>\n",
       "    </tr>\n",
       "    <tr>\n",
       "      <th>15430</th>\n",
       "      <td>2643</td>\n",
       "      <td>2</td>\n",
       "      <td>5</td>\n",
       "    </tr>\n",
       "    <tr>\n",
       "      <th>15467</th>\n",
       "      <td>2649</td>\n",
       "      <td>2</td>\n",
       "      <td>5</td>\n",
       "    </tr>\n",
       "    <tr>\n",
       "      <th>15478</th>\n",
       "      <td>2651</td>\n",
       "      <td>2</td>\n",
       "      <td>2</td>\n",
       "    </tr>\n",
       "    <tr>\n",
       "      <th>15549</th>\n",
       "      <td>2663</td>\n",
       "      <td>2</td>\n",
       "      <td>3</td>\n",
       "    </tr>\n",
       "    <tr>\n",
       "      <th>15555</th>\n",
       "      <td>2664</td>\n",
       "      <td>2</td>\n",
       "      <td>2</td>\n",
       "    </tr>\n",
       "  </tbody>\n",
       "</table>\n",
       "<p>784 rows × 3 columns</p>\n",
       "</div>"
      ],
      "text/plain": [
       "          0  1  2\n",
       "1         1  2  5\n",
       "13        3  2  1\n",
       "25        5  2  2\n",
       "52       10  2  5\n",
       "64       12  2  1\n",
       "...     ... .. ..\n",
       "15430  2643  2  5\n",
       "15467  2649  2  5\n",
       "15478  2651  2  2\n",
       "15549  2663  2  3\n",
       "15555  2664  2  2\n",
       "\n",
       "[784 rows x 3 columns]"
      ]
     },
     "execution_count": 17,
     "metadata": {},
     "output_type": "execute_result"
    }
   ],
   "source": [
    "pred_new"
   ]
  },
  {
   "cell_type": "code",
   "execution_count": 148,
   "metadata": {},
   "outputs": [],
   "source": [
    "C = confusion_matrix(pred_new[2],truth_new[1])"
   ]
  },
  {
   "cell_type": "code",
   "execution_count": 149,
   "metadata": {},
   "outputs": [
    {
     "data": {
      "text/plain": [
       "array([[0.84946237, 0.19565217, 0.07327586, 0.01986755, 0.02352941],\n",
       "       [0.12903226, 0.7173913 , 0.10775862, 0.11258278, 0.04705882],\n",
       "       [0.        , 0.07971014, 0.75862069, 0.25165563, 0.06470588],\n",
       "       [0.        , 0.00724638, 0.04310345, 0.54304636, 0.04117647],\n",
       "       [0.02150538, 0.        , 0.01724138, 0.07284768, 0.82352941]])"
      ]
     },
     "execution_count": 149,
     "metadata": {},
     "output_type": "execute_result"
    }
   ],
   "source": [
    "C / np.sum(C,axis=0)[np.newaxis,:]"
   ]
  },
  {
   "cell_type": "code",
   "execution_count": 168,
   "metadata": {},
   "outputs": [
    {
     "data": {
      "text/plain": [
       "array([[0.73485, 0.18811, 0.08929, 0.     , 0.09338],\n",
       "       [0.16505, 0.56417, 0.10371, 0.08306, 0.11645],\n",
       "       [0.     , 0.14277, 0.807  , 0.3148 , 0.07808],\n",
       "       [0.05097, 0.06769, 0.     , 0.46681, 0.     ],\n",
       "       [0.04913, 0.03726, 0.     , 0.13532, 0.71209]])"
      ]
     },
     "execution_count": 168,
     "metadata": {},
     "output_type": "execute_result"
    }
   ],
   "source": [
    "np.round(C_estimated[1],5)"
   ]
  },
  {
   "cell_type": "code",
   "execution_count": 226,
   "metadata": {},
   "outputs": [],
   "source": [
    "m, n = labels.shape\n"
   ]
  },
  {
   "cell_type": "code",
   "execution_count": 227,
   "metadata": {},
   "outputs": [],
   "source": [
    "np.random.seed(0)\n",
    "groups = np.random.randint(3, size=m)\n"
   ]
  },
  {
   "cell_type": "code",
   "execution_count": 9,
   "metadata": {},
   "outputs": [],
   "source": [
    "groups = np.array([i%3 for i in range(m)])"
   ]
  },
  {
   "cell_type": "code",
   "execution_count": 10,
   "metadata": {},
   "outputs": [
    {
     "data": {
      "text/plain": [
       "array([0, 1, 2, 0, 1, 2, 0, 1, 2, 0, 1, 2, 0, 1, 2, 0, 1, 2, 0, 1, 2, 0,\n",
       "       1, 2, 0, 1, 2, 0, 1, 2, 0, 1, 2, 0, 1, 2, 0, 1, 2, 0, 1, 2, 0, 1,\n",
       "       2, 0, 1, 2, 0, 1, 2, 0, 1, 2, 0, 1, 2, 0, 1, 2, 0, 1, 2, 0, 1, 2,\n",
       "       0, 1, 2, 0, 1, 2, 0, 1, 2, 0, 1, 2, 0, 1, 2, 0, 1, 2, 0, 1, 2, 0,\n",
       "       1, 2, 0, 1, 2, 0, 1, 2, 0, 1, 2, 0, 1, 2, 0, 1, 2, 0, 1, 2, 0, 1,\n",
       "       2, 0, 1, 2, 0, 1, 2, 0, 1, 2, 0, 1, 2, 0, 1, 2, 0, 1, 2, 0, 1, 2,\n",
       "       0, 1, 2, 0, 1, 2, 0, 1, 2, 0, 1, 2, 0, 1, 2, 0, 1, 2, 0, 1, 2, 0,\n",
       "       1, 2, 0, 1, 2, 0, 1, 2, 0, 1, 2, 0, 1, 2, 0, 1, 2, 0, 1, 2, 0, 1,\n",
       "       2])"
      ]
     },
     "execution_count": 10,
     "metadata": {},
     "output_type": "execute_result"
    }
   ],
   "source": [
    "groups\n"
   ]
  },
  {
   "cell_type": "code",
   "execution_count": 23,
   "metadata": {},
   "outputs": [],
   "source": [
    "Zg = get_Zg(k, labels, groups)\n"
   ]
  },
  {
   "cell_type": "code",
   "execution_count": 250,
   "metadata": {},
   "outputs": [
    {
     "data": {
      "text/plain": [
       "array([[[0.        , 0.        , 0.        , 0.        , 0.03389831],\n",
       "        [0.05084746, 0.        , 0.        , 0.        , 0.        ],\n",
       "        [0.03389831, 0.        , 0.        , 0.        , 0.        ],\n",
       "        ...,\n",
       "        [0.        , 0.        , 0.        , 0.01694915, 0.        ],\n",
       "        [0.        , 0.        , 0.01694915, 0.        , 0.        ],\n",
       "        [0.        , 0.        , 0.01694915, 0.01694915, 0.        ]],\n",
       "\n",
       "       [[0.        , 0.        , 0.        , 0.        , 0.03389831],\n",
       "        [0.01694915, 0.        , 0.        , 0.        , 0.        ],\n",
       "        [0.03389831, 0.        , 0.        , 0.        , 0.01694915],\n",
       "        ...,\n",
       "        [0.        , 0.        , 0.01694915, 0.01694915, 0.03389831],\n",
       "        [0.        , 0.01694915, 0.        , 0.01694915, 0.        ],\n",
       "        [0.        , 0.        , 0.        , 0.03389831, 0.01694915]],\n",
       "\n",
       "       [[0.        , 0.        , 0.        , 0.        , 0.03389831],\n",
       "        [0.03389831, 0.        , 0.        , 0.        , 0.        ],\n",
       "        [0.        , 0.01694915, 0.        , 0.        , 0.        ],\n",
       "        ...,\n",
       "        [0.        , 0.        , 0.        , 0.        , 0.01694915],\n",
       "        [0.        , 0.        , 0.03389831, 0.01694915, 0.        ],\n",
       "        [0.        , 0.        , 0.        , 0.01694915, 0.        ]]])"
      ]
     },
     "execution_count": 250,
     "metadata": {},
     "output_type": "execute_result"
    }
   ],
   "source": [
    "Zg"
   ]
  },
  {
   "cell_type": "code",
   "execution_count": 251,
   "metadata": {},
   "outputs": [],
   "source": [
    "Z = np.zeros((m,n,k))"
   ]
  },
  {
   "cell_type": "code",
   "execution_count": 252,
   "metadata": {},
   "outputs": [],
   "source": [
    "for i in range(len(data)):\n",
    "    Z[data.iloc[i, 1]-1, data.iloc[i, 0]-1, data.iloc[i, 2]-1] = 1\n"
   ]
  },
  {
   "cell_type": "code",
   "execution_count": 253,
   "metadata": {},
   "outputs": [],
   "source": [
    "Zg = np.zeros((3,n,k))\n",
    "for g in range(3):\n",
    "    Zg[g,:,:] = np.mean(Z[groups==g,:,:],axis=0)"
   ]
  },
  {
   "cell_type": "code",
   "execution_count": 254,
   "metadata": {},
   "outputs": [
    {
     "data": {
      "text/plain": [
       "True"
      ]
     },
     "execution_count": 254,
     "metadata": {},
     "output_type": "execute_result"
    }
   ],
   "source": [
    "np.all(Zg == get_Zg(k, labels, groups))"
   ]
  },
  {
   "cell_type": "code",
   "execution_count": 24,
   "metadata": {},
   "outputs": [],
   "source": [
    "M2s, M3s = get_M(Zg)\n"
   ]
  },
  {
   "cell_type": "code",
   "execution_count": 25,
   "metadata": {},
   "outputs": [],
   "source": [
    "a,b,c = 1,2,0\n",
    "Za = (Zg[c, :, :].T@Zg[b, :, :]/n)@np.linalg.inv(Zg[a, :, :].T @\n",
    "                                                 Zg[b, :, :]/n)@Zg[a, :, :].T\n",
    "Zb = (Zg[c, :, :].T@Zg[a, :, :]/n)@np.linalg.inv(Zg[b, :, :].T @\n",
    "                                                 Zg[a, :, :]/n)@Zg[b, :, :].T"
   ]
  },
  {
   "cell_type": "code",
   "execution_count": 26,
   "metadata": {},
   "outputs": [],
   "source": [
    "M3 = np.einsum(\"ji,ki,li->jkl\", Za, Zb, Zg[c, :, :].T)/n\n",
    "M2 = Za@Zb.T/n\n"
   ]
  },
  {
   "cell_type": "code",
   "execution_count": 27,
   "metadata": {},
   "outputs": [],
   "source": [
    "u, s, vh = np.linalg.svd(M2, full_matrices=False)\n"
   ]
  },
  {
   "cell_type": "code",
   "execution_count": 28,
   "metadata": {},
   "outputs": [
    {
     "data": {
      "text/plain": [
       "array([[  -9.19524314,   25.8762038 ,   59.94033902, -129.54118602,\n",
       "          15.06207194],\n",
       "       [ -13.53678217,   41.70697782,   56.48399218,   91.12466057,\n",
       "        -107.97827229],\n",
       "       [ -16.47236907,   42.96515193,  -22.52902475,   29.53756633,\n",
       "         206.2432776 ],\n",
       "       [ -20.49160929,   31.83289851,  -74.2551731 ,  -42.95577196,\n",
       "        -130.40987372],\n",
       "       [ -46.57817747,  -46.42863966,   12.38642101,    7.54231364,\n",
       "          12.84231721]])"
      ]
     },
     "execution_count": 28,
     "metadata": {},
     "output_type": "execute_result"
    }
   ],
   "source": [
    "get_whiten(M2, sym=True)\n"
   ]
  },
  {
   "cell_type": "code",
   "execution_count": 29,
   "metadata": {},
   "outputs": [],
   "source": [
    "Q = u@np.diag(s**-0.5)"
   ]
  },
  {
   "cell_type": "code",
   "execution_count": 30,
   "metadata": {},
   "outputs": [
    {
     "data": {
      "text/plain": [
       "(5, 5)"
      ]
     },
     "execution_count": 30,
     "metadata": {},
     "output_type": "execute_result"
    }
   ],
   "source": [
    "Q.shape"
   ]
  },
  {
   "cell_type": "code",
   "execution_count": 31,
   "metadata": {},
   "outputs": [],
   "source": [
    "M3_whiten = whiten_tensor(M3, Q)"
   ]
  },
  {
   "cell_type": "code",
   "execution_count": 287,
   "metadata": {},
   "outputs": [],
   "source": [
    "M3_new = np.zeros((k,k,k))\n",
    "for a in range(k):\n",
    "    for b in range(k):\n",
    "        for c in range(k):\n",
    "            for d in range(k):\n",
    "                for e in range(k):\n",
    "                    for f in range(k):\n",
    "                        M3_new[a,b,c]+=M3[d,e,f]*Q[d,a]*Q[e,b]*Q[f,c]"
   ]
  },
  {
   "cell_type": "code",
   "execution_count": 336,
   "metadata": {},
   "outputs": [],
   "source": [
    "values, vectors = robust_tensor_power(M3_whiten, 20, 100)\n"
   ]
  },
  {
   "cell_type": "code",
   "execution_count": null,
   "metadata": {},
   "outputs": [],
   "source": []
  },
  {
   "cell_type": "code",
   "execution_count": 292,
   "metadata": {},
   "outputs": [
    {
     "data": {
      "text/plain": [
       "True"
      ]
     },
     "execution_count": 292,
     "metadata": {},
     "output_type": "execute_result"
    }
   ],
   "source": [
    "np.allclose(M3_new,M3_whiten)"
   ]
  },
  {
   "cell_type": "code",
   "execution_count": 268,
   "metadata": {},
   "outputs": [],
   "source": [
    "M3_2 = np.zeros((k,k,k))"
   ]
  },
  {
   "cell_type": "code",
   "execution_count": 269,
   "metadata": {},
   "outputs": [],
   "source": [
    "for i1 in range(k):\n",
    "    for i2 in range(k):\n",
    "        for i3 in range(k):\n",
    "            M3_2[i1, i2, i3] = np.sum(Za[i1,:]*Zb[i2,:]*Zg[c,:,i3])/n\n"
   ]
  },
  {
   "cell_type": "code",
   "execution_count": 275,
   "metadata": {},
   "outputs": [
    {
     "data": {
      "text/plain": [
       "array([[[1.06549972e-06, 4.00909567e-07, 1.86179973e-07, 6.24276453e-08,\n",
       "         1.03600769e-07],\n",
       "        [2.54174415e-07, 4.46648428e-07, 1.40646002e-07, 7.01520550e-08,\n",
       "         1.77188614e-07],\n",
       "        [2.36062713e-07, 1.11559407e-07, 1.74379658e-07, 1.00333511e-07,\n",
       "         1.17523448e-07],\n",
       "        [5.52842310e-08, 6.02824313e-08, 1.31176047e-07, 2.14339296e-08,\n",
       "         7.79550528e-08],\n",
       "        [5.39319191e-08, 1.07918096e-07, 1.30878074e-07, 1.41321823e-07,\n",
       "         2.78167546e-07]],\n",
       "\n",
       "       [[3.37570139e-07, 3.50205452e-07, 1.47750442e-07, 1.00946691e-07,\n",
       "         1.26257788e-07],\n",
       "        [3.57496434e-07, 1.13783132e-06, 5.66940033e-07, 2.62104108e-07,\n",
       "         1.53713051e-07],\n",
       "        [1.10026953e-07, 4.33278892e-07, 4.48427205e-07, 2.72991611e-07,\n",
       "         1.78693951e-07],\n",
       "        [8.98954393e-08, 2.25697396e-07, 1.88496372e-07, 1.36317728e-07,\n",
       "         1.52921146e-07],\n",
       "        [1.52980207e-07, 2.17240718e-07, 1.19820034e-07, 7.11922876e-08,\n",
       "         3.12528959e-07]],\n",
       "\n",
       "       [[2.44006157e-07, 1.35243275e-07, 1.44389508e-07, 4.85001613e-08,\n",
       "         4.87087517e-08],\n",
       "        [1.59893936e-07, 4.40450765e-07, 3.65228816e-07, 1.88416711e-07,\n",
       "         1.76596496e-07],\n",
       "        [1.09033484e-07, 3.90103747e-07, 7.87254398e-07, 4.77715503e-07,\n",
       "         3.44741063e-07],\n",
       "        [3.92610934e-08, 1.57279260e-07, 4.65636352e-07, 5.85014882e-07,\n",
       "         3.10968438e-07],\n",
       "        [8.05523185e-08, 1.89509142e-07, 2.90166576e-07, 3.34692889e-07,\n",
       "         2.52088181e-07]],\n",
       "\n",
       "       [[1.82479613e-07, 5.52964522e-08, 8.64269612e-08, 1.21447680e-07,\n",
       "         5.62929416e-08],\n",
       "        [8.93711627e-08, 1.55436007e-07, 2.46465419e-07, 1.36729535e-07,\n",
       "         1.15085406e-07],\n",
       "        [9.83605918e-08, 2.22279437e-07, 6.34369759e-07, 6.60193791e-07,\n",
       "         3.21002366e-07],\n",
       "        [2.21681110e-08, 1.52178391e-07, 6.60717903e-07, 1.34564648e-06,\n",
       "         5.87137211e-07],\n",
       "        [4.11254700e-08, 2.17025390e-07, 2.79699965e-07, 5.15504860e-07,\n",
       "         6.81026550e-07]],\n",
       "\n",
       "       [[2.13093514e-07, 1.13470039e-07, 6.05114095e-08, 5.36208650e-08,\n",
       "         3.84031744e-07],\n",
       "        [1.69595916e-07, 2.35682663e-07, 1.18941793e-07, 1.16724481e-07,\n",
       "         5.31072828e-07],\n",
       "        [1.17926788e-07, 2.29805946e-07, 4.01620150e-07, 3.42351459e-07,\n",
       "         4.35843810e-07],\n",
       "        [4.28772693e-08, 1.12150653e-07, 3.32473715e-07, 7.16126899e-07,\n",
       "         7.91395826e-07],\n",
       "        [1.96791756e-07, 2.44397020e-07, 2.87458356e-07, 6.81486265e-07,\n",
       "         6.34125990e-06]]])"
      ]
     },
     "execution_count": 275,
     "metadata": {},
     "output_type": "execute_result"
    }
   ],
   "source": [
    "M3_2\n"
   ]
  },
  {
   "cell_type": "code",
   "execution_count": 276,
   "metadata": {},
   "outputs": [
    {
     "data": {
      "text/plain": [
       "array([[[1.06549972e-06, 4.00909567e-07, 1.86179973e-07, 6.24276453e-08,\n",
       "         1.03600769e-07],\n",
       "        [2.54174415e-07, 4.46648428e-07, 1.40646002e-07, 7.01520550e-08,\n",
       "         1.77188614e-07],\n",
       "        [2.36062713e-07, 1.11559407e-07, 1.74379658e-07, 1.00333511e-07,\n",
       "         1.17523448e-07],\n",
       "        [5.52842310e-08, 6.02824313e-08, 1.31176047e-07, 2.14339296e-08,\n",
       "         7.79550528e-08],\n",
       "        [5.39319191e-08, 1.07918096e-07, 1.30878074e-07, 1.41321823e-07,\n",
       "         2.78167546e-07]],\n",
       "\n",
       "       [[3.37570139e-07, 3.50205452e-07, 1.47750442e-07, 1.00946691e-07,\n",
       "         1.26257788e-07],\n",
       "        [3.57496434e-07, 1.13783132e-06, 5.66940033e-07, 2.62104108e-07,\n",
       "         1.53713051e-07],\n",
       "        [1.10026953e-07, 4.33278892e-07, 4.48427205e-07, 2.72991611e-07,\n",
       "         1.78693951e-07],\n",
       "        [8.98954393e-08, 2.25697396e-07, 1.88496372e-07, 1.36317728e-07,\n",
       "         1.52921146e-07],\n",
       "        [1.52980207e-07, 2.17240718e-07, 1.19820034e-07, 7.11922876e-08,\n",
       "         3.12528959e-07]],\n",
       "\n",
       "       [[2.44006157e-07, 1.35243275e-07, 1.44389508e-07, 4.85001613e-08,\n",
       "         4.87087517e-08],\n",
       "        [1.59893936e-07, 4.40450765e-07, 3.65228816e-07, 1.88416711e-07,\n",
       "         1.76596496e-07],\n",
       "        [1.09033484e-07, 3.90103747e-07, 7.87254398e-07, 4.77715503e-07,\n",
       "         3.44741063e-07],\n",
       "        [3.92610934e-08, 1.57279260e-07, 4.65636352e-07, 5.85014882e-07,\n",
       "         3.10968438e-07],\n",
       "        [8.05523185e-08, 1.89509142e-07, 2.90166576e-07, 3.34692889e-07,\n",
       "         2.52088181e-07]],\n",
       "\n",
       "       [[1.82479613e-07, 5.52964522e-08, 8.64269612e-08, 1.21447680e-07,\n",
       "         5.62929416e-08],\n",
       "        [8.93711627e-08, 1.55436007e-07, 2.46465419e-07, 1.36729535e-07,\n",
       "         1.15085406e-07],\n",
       "        [9.83605918e-08, 2.22279437e-07, 6.34369759e-07, 6.60193791e-07,\n",
       "         3.21002366e-07],\n",
       "        [2.21681110e-08, 1.52178391e-07, 6.60717903e-07, 1.34564648e-06,\n",
       "         5.87137211e-07],\n",
       "        [4.11254700e-08, 2.17025390e-07, 2.79699965e-07, 5.15504860e-07,\n",
       "         6.81026550e-07]],\n",
       "\n",
       "       [[2.13093514e-07, 1.13470039e-07, 6.05114095e-08, 5.36208650e-08,\n",
       "         3.84031744e-07],\n",
       "        [1.69595916e-07, 2.35682663e-07, 1.18941793e-07, 1.16724481e-07,\n",
       "         5.31072828e-07],\n",
       "        [1.17926788e-07, 2.29805946e-07, 4.01620150e-07, 3.42351459e-07,\n",
       "         4.35843810e-07],\n",
       "        [4.28772693e-08, 1.12150653e-07, 3.32473715e-07, 7.16126899e-07,\n",
       "         7.91395826e-07],\n",
       "        [1.96791756e-07, 2.44397020e-07, 2.87458356e-07, 6.81486265e-07,\n",
       "         6.34125990e-06]]])"
      ]
     },
     "execution_count": 276,
     "metadata": {},
     "output_type": "execute_result"
    }
   ],
   "source": [
    "M3"
   ]
  },
  {
   "cell_type": "code",
   "execution_count": 39,
   "metadata": {},
   "outputs": [],
   "source": [
    "def robust_tensor_power(T, L=20, N=100, sym=True):\n",
    "    k, _, _ = T.shape\n",
    "    if sym:\n",
    "        T = sym_tensor(T)\n",
    "    values = np.zeros(k)\n",
    "    vectors = np.zeros((k, k))\n",
    "    for h in range(k):\n",
    "        theta_tau = []\n",
    "        for tau in range(L):\n",
    "            theta = np.random.randn(k)\n",
    "            theta /= np.linalg.norm(theta)\n",
    "            for t in range(N):\n",
    "                theta = np.einsum(\"aef,e,f->a\", T, theta, theta)\n",
    "                theta /= np.linalg.norm(theta)\n",
    "            theta_tau.append(theta)\n",
    "\n",
    "        lam_best = float(\"-Inf\")\n",
    "        theta_best = np.array([])\n",
    "        for theta in theta_tau:\n",
    "            lam = np.einsum(\"efg,e,f,g->\", T, theta, theta, theta)\n",
    "            if lam > lam_best:\n",
    "                lam_best = lam\n",
    "                theta_best = theta\n",
    "\n",
    "        theta = theta_best\n",
    "        for t in range(N):\n",
    "            theta = np.einsum(\"aef,e,f->a\", T, theta, theta)\n",
    "            theta /= np.linalg.norm(theta)\n",
    "        lam = np.einsum(\"efg,e,f,g->\", T, theta, theta, theta)\n",
    "\n",
    "        values[h] = lam\n",
    "        vectors[:, h] = theta\n",
    "        T = T-lam*np.einsum(\"a,b,c->abc\", theta, theta, theta)\n",
    "    return values, vectors"
   ]
  },
  {
   "cell_type": "code",
   "execution_count": 133,
   "metadata": {},
   "outputs": [],
   "source": [
    "lam, vec = robust_tensor_power(M3_whiten)"
   ]
  },
  {
   "cell_type": "code",
   "execution_count": 132,
   "metadata": {},
   "outputs": [],
   "source": [
    "T = sym_tensor(M3_whiten)\n"
   ]
  },
  {
   "cell_type": "code",
   "execution_count": 121,
   "metadata": {},
   "outputs": [],
   "source": [
    "lam, vec = robust_tensor_power(T, L = 20,N=100, sym=False)\n"
   ]
  },
  {
   "cell_type": "code",
   "execution_count": 122,
   "metadata": {},
   "outputs": [],
   "source": [
    "temp = np.zeros((k, k, k))\n",
    "for i in range(k):\n",
    "    temp += lam[i]*np.einsum(\"a,b,c->abc\", vec[:, i], vec[:, i], vec[:, i])"
   ]
  },
  {
   "cell_type": "code",
   "execution_count": 123,
   "metadata": {},
   "outputs": [
    {
     "data": {
      "text/plain": [
       "0.03568052611212279"
      ]
     },
     "execution_count": 123,
     "metadata": {},
     "output_type": "execute_result"
    }
   ],
   "source": [
    "np.mean(np.abs(temp-T))"
   ]
  },
  {
   "cell_type": "code",
   "execution_count": 134,
   "metadata": {},
   "outputs": [],
   "source": [
    "mu = np.linalg.inv(Q.T)@vec@np.diag(lam)\n"
   ]
  },
  {
   "cell_type": "code",
   "execution_count": 165,
   "metadata": {},
   "outputs": [],
   "source": [
    "def get_confusion_matrix(k, labels, groups=None, sym=True,cutoff=1e-7, L=20, N=100, seed=0):\n",
    "    m, n = labels.shape\n",
    "    if groups is None:\n",
    "        np.random.seed(seed)\n",
    "        groups = np.random.randint(3, size=m)\n",
    "    Zg = get_Zg(k, labels, groups)\n",
    "    M2s, M3s = get_M(Zg)\n",
    "    Cc = np.zeros((3, k, k))\n",
    "    W = np.zeros((3, k, k))\n",
    "    for g, (M2, M3) in enumerate(zip(M2s, M3s)):\n",
    "        Q = get_whiten(M2, sym)\n",
    "        M3_whiten = whiten_tensor(M3, Q)\n",
    "        values, vectors = robust_tensor_power(M3_whiten, L, N, sym)\n",
    "        w = values**-2\n",
    "        mu = np.linalg.inv(Q.T)@vectors@np.diag(values)\n",
    "        best = np.argmax(mu, axis=0)\n",
    "        for h in range(k):\n",
    "            Cc[g, :, best[h]] = mu[:, h]\n",
    "            W[g, best[h], best[h]] = w[h]\n",
    "    W = np.mean(W, axis=0)\n",
    "    C = np.zeros((m, k, k))\n",
    "    for i in range(m):\n",
    "        Ca = (np.sum(Cc, axis=0)-Cc[groups[i], :, :])/2\n",
    "        Za = (np.sum(Zg, axis=0)-Zg[groups[i], :, :])/2\n",
    "        E = np.zeros((k, k))\n",
    "        for j in range(n):\n",
    "            if labels[i,j]!=-1:\n",
    "                E[labels[i, j], :] += Za[j, :]\n",
    "        E /= n\n",
    "        Ci = E@np.linalg.inv(W@Ca.T)\n",
    "        if cutoff:\n",
    "            Ci[Ci < cutoff] = cutoff\n",
    "        colsums = np.sum(Ci, axis=0)\n",
    "        Ci /= colsums[np.newaxis, :]\n",
    "        C[i, :, :] = Ci\n",
    "    return C\n"
   ]
  },
  {
   "cell_type": "code",
   "execution_count": 166,
   "metadata": {},
   "outputs": [],
   "source": [
    "C_estimated = get_confusion_matrix(k, labels, groups=groups, sym=False)\n"
   ]
  },
  {
   "cell_type": "code",
   "execution_count": 136,
   "metadata": {},
   "outputs": [
    {
     "data": {
      "text/plain": [
       "array([0, 2, 1, 4, 3], dtype=int64)"
      ]
     },
     "execution_count": 136,
     "metadata": {},
     "output_type": "execute_result"
    }
   ],
   "source": [
    "np.argmax(mu,axis=1)"
   ]
  },
  {
   "cell_type": "code",
   "execution_count": 138,
   "metadata": {},
   "outputs": [],
   "source": [
    "mu0 = lam[0]*np.linalg.inv(Q.T)@vec[:,0]\n"
   ]
  },
  {
   "cell_type": "code",
   "execution_count": 161,
   "metadata": {},
   "outputs": [],
   "source": [
    "E = -np.eye(5)"
   ]
  },
  {
   "cell_type": "code",
   "execution_count": 163,
   "metadata": {},
   "outputs": [],
   "source": [
    "E[E<0]=0"
   ]
  },
  {
   "cell_type": "code",
   "execution_count": 164,
   "metadata": {},
   "outputs": [
    {
     "data": {
      "text/plain": [
       "array([[ 0., -0., -0., -0., -0.],\n",
       "       [-0.,  0., -0., -0., -0.],\n",
       "       [-0., -0.,  0., -0., -0.],\n",
       "       [-0., -0., -0.,  0., -0.],\n",
       "       [-0., -0., -0., -0.,  0.]])"
      ]
     },
     "execution_count": 164,
     "metadata": {},
     "output_type": "execute_result"
    }
   ],
   "source": [
    "E"
   ]
  },
  {
   "cell_type": "code",
   "execution_count": 139,
   "metadata": {},
   "outputs": [
    {
     "data": {
      "text/plain": [
       "0"
      ]
     },
     "execution_count": 139,
     "metadata": {},
     "output_type": "execute_result"
    }
   ],
   "source": [
    "np.argmax(mu0)"
   ]
  },
  {
   "cell_type": "code",
   "execution_count": 82,
   "metadata": {},
   "outputs": [
    {
     "data": {
      "text/plain": [
       "(array([2.47221395, 1.9597989 , 1.68658776, 1.62258932, 1.5157169 ]),\n",
       " array([[-0.20816801, -0.45904245, -0.28248499, -0.78507705, -0.44330809],\n",
       "        [ 0.34572185,  0.49387216,  0.52550452, -0.60544145,  0.20886257],\n",
       "        [ 0.44722585, -0.25200777,  0.59235523,  0.1237719 , -0.73952102],\n",
       "        [-0.78471769,  0.16964156,  0.39568989,  0.03355718, -0.24202772],\n",
       "        [ 0.14611525,  0.67311525, -0.36958358, -0.02547738, -0.39291933]]))"
      ]
     },
     "execution_count": 82,
     "metadata": {},
     "output_type": "execute_result"
    }
   ],
   "source": [
    "robust_tensor_power(temp,sym=False)\n"
   ]
  },
  {
   "cell_type": "code",
   "execution_count": 83,
   "metadata": {},
   "outputs": [
    {
     "data": {
      "text/plain": [
       "(array([2.46460466, 1.95134792, 1.69621225, 1.61947364, 1.52595186]),\n",
       " array([[-0.19890427, -0.44754347, -0.27192651, -0.7790689 , -0.44857849],\n",
       "        [ 0.33327075,  0.49026603,  0.52012714, -0.61032911,  0.20734864],\n",
       "        [ 0.44301318, -0.23003884,  0.60929923,  0.1369673 , -0.7439836 ],\n",
       "        [-0.79524795,  0.1743316 ,  0.39476733,  0.03790537, -0.24151606],\n",
       "        [ 0.14383224,  0.68995267, -0.35838099, -0.01879279, -0.37939724]]))"
      ]
     },
     "execution_count": 83,
     "metadata": {},
     "output_type": "execute_result"
    }
   ],
   "source": [
    "robust_tensor_power(M3_whiten,sym=False)\n"
   ]
  },
  {
   "cell_type": "code",
   "execution_count": 84,
   "metadata": {},
   "outputs": [
    {
     "data": {
      "text/plain": [
       "array([[[-1.08502728e-01,  1.05916157e-01, -6.35574630e-02,\n",
       "         -3.43508189e-02,  5.84778878e-02],\n",
       "        [ 1.96681210e-02, -6.98760455e-02, -3.20724535e-02,\n",
       "         -5.50540447e-05, -1.21747069e-01],\n",
       "        [-8.06535108e-02, -6.56195518e-02, -7.87530114e-02,\n",
       "         -3.46972306e-02,  4.28376898e-02],\n",
       "        [-3.38258278e-02,  2.33976404e-02,  2.84785558e-02,\n",
       "          6.85807628e-02,  6.02308420e-02],\n",
       "        [ 3.13195419e-02, -6.54631363e-02,  8.33227681e-02,\n",
       "          5.97476890e-02,  2.93345015e-01]],\n",
       "\n",
       "       [[ 1.08825240e-01, -4.38449374e-02, -2.27620711e-02,\n",
       "          7.12558959e-02, -1.67551172e-01],\n",
       "        [-1.07955969e-01,  4.71086683e-02,  1.63862581e-01,\n",
       "         -1.08804478e-01, -9.55043605e-02],\n",
       "        [-5.15489931e-02,  3.80441493e-03,  1.11494404e-01,\n",
       "         -2.27938399e-02, -3.64960660e-02],\n",
       "        [ 4.60967670e-02, -1.14286794e-01,  3.20545504e-02,\n",
       "         -1.90397928e-01, -9.42836059e-02],\n",
       "        [-1.10369938e-01,  7.54648987e-02,  4.86100648e-02,\n",
       "          1.28931590e-01, -1.69556634e-01]],\n",
       "\n",
       "       [[-9.24779145e-02, -5.24288168e-02, -2.14782156e-01,\n",
       "          2.11872975e-02,  6.65041810e-02],\n",
       "        [-2.43617549e-02,  9.54335259e-02,  1.00690067e-02,\n",
       "         -1.61500270e-01,  3.89775549e-02],\n",
       "        [-1.59305957e-01,  3.87322957e-02, -2.90123442e-02,\n",
       "         -4.34332116e-02,  8.01556189e-02],\n",
       "        [ 6.53630746e-02, -1.05752423e-01,  2.21581401e-01,\n",
       "         -2.50486839e-02,  1.37035147e-01],\n",
       "        [ 1.38504231e-02,  3.22837324e-02,  9.65552993e-02,\n",
       "          3.33124850e-01,  1.01218624e-02]],\n",
       "\n",
       "       [[ 4.42647352e-03,  1.90933465e-02,  9.99443174e-02,\n",
       "         -1.56640527e-01, -4.33997883e-02],\n",
       "        [ 3.76540682e-02, -1.22637501e-01,  7.34698939e-02,\n",
       "         -1.28167621e-01,  3.66045562e-02],\n",
       "        [ 1.97802637e-02, -8.44415621e-02,  2.31400789e-01,\n",
       "          2.50002107e-02, -3.33105769e-01],\n",
       "        [-8.95673781e-02, -2.84758640e-01, -1.04656693e-01,\n",
       "         -2.69832117e-01, -8.08109223e-02],\n",
       "        [-2.03865259e-03,  1.46086849e-01,  1.72993574e-01,\n",
       "         -5.44812256e-01,  4.17702011e-03]],\n",
       "\n",
       "       [[ 8.82163331e-02, -2.00873153e-01, -1.15976941e-02,\n",
       "         -2.66961790e-02, -6.96368221e-02],\n",
       "        [-2.11001211e-01,  3.06115118e-01, -3.24808859e-01,\n",
       "         -8.39441499e-02, -4.75798369e-02],\n",
       "        [ 7.63763474e-02, -1.07951746e-01, -1.40158541e-01,\n",
       "         -1.66357418e-03,  5.43819321e-02],\n",
       "        [ 1.20253151e-01,  1.17687806e-01,  4.71490640e-02,\n",
       "          1.47978923e-01,  4.85180647e-01],\n",
       "        [ 5.26063919e-03, -1.93778453e-01, -2.48139633e-01,\n",
       "         -3.65798524e-01, -4.83178717e-01]]])"
      ]
     },
     "execution_count": 84,
     "metadata": {},
     "output_type": "execute_result"
    }
   ],
   "source": [
    "temp-M3_whiten"
   ]
  },
  {
   "cell_type": "code",
   "execution_count": 71,
   "metadata": {},
   "outputs": [
    {
     "data": {
      "text/plain": [
       "array([[[-6.25658403e-03, -2.08701701e-02,  6.95101083e-03,\n",
       "          2.98214755e-04, -3.07195298e-02],\n",
       "        [ 6.53778655e-02,  6.29059032e-03,  7.11755865e-03,\n",
       "          3.11941863e-02, -2.07323904e-03],\n",
       "        [ 2.40470587e-02,  4.06646570e-02, -7.25391499e-02,\n",
       "          9.06341042e-02,  2.77452727e-02],\n",
       "        [-2.26776426e-04,  7.74149191e-03,  2.74583178e-02,\n",
       "         -1.08783679e-01, -6.30078602e-02],\n",
       "        [-3.56118387e-03, -5.83571718e-02, -1.27398055e-02,\n",
       "         -6.25247072e-02, -2.37728792e-01]],\n",
       "\n",
       "       [[-2.37792535e-02, -1.97405178e-02, -2.19282371e-03,\n",
       "         -4.01167636e-02,  4.37308640e-02],\n",
       "        [ 4.43705142e-02, -6.07402112e-02, -1.61836424e-01,\n",
       "          4.48495643e-02,  1.65599629e-01],\n",
       "        [ 2.65940983e-02, -1.77825783e-03, -6.85812595e-02,\n",
       "         -3.97116078e-02, -9.42294362e-02],\n",
       "        [-1.49576348e-02,  5.03318796e-02, -9.45599982e-02,\n",
       "          9.85592661e-02,  1.54445472e-01],\n",
       "        [-1.34503702e-02, -5.36963022e-03, -1.79335567e-01,\n",
       "         -6.87697239e-02,  1.09189910e-02]],\n",
       "\n",
       "       [[ 3.58714623e-02,  2.74739220e-02,  6.34899942e-02,\n",
       "          3.47495762e-02,  4.07878159e-03],\n",
       "        [-5.93139958e-04, -9.34073688e-02,  3.28441377e-02,\n",
       "          9.89948220e-02, -1.69703057e-01],\n",
       "        [ 8.01379522e-03,  4.18084863e-03,  8.03292092e-02,\n",
       "          1.17387223e-01, -1.83376267e-01],\n",
       "        [-9.42620090e-03,  4.32469755e-02, -1.47627390e-01,\n",
       "         -5.72877597e-03, -2.28783754e-02],\n",
       "        [ 5.67325395e-02, -1.63009235e-01, -1.99775948e-01,\n",
       "         -2.18968078e-01, -3.12234339e-02]],\n",
       "\n",
       "       [[-3.84790777e-02,  1.20457858e-02, -4.40074438e-02,\n",
       "          1.16437611e-01,  4.06227701e-02],\n",
       "        [-6.51493593e-03,  5.86825873e-02, -1.35975342e-01,\n",
       "          3.63289591e-02,  2.35573099e-02],\n",
       "        [ 3.61566099e-02,  2.19361143e-02, -1.57446778e-01,\n",
       "         -5.57776706e-02,  4.47262541e-01],\n",
       "        [ 4.93644624e-02,  1.92919978e-01,  7.38792331e-02,\n",
       "          1.18042736e-01, -2.59820222e-02],\n",
       "        [-7.38365641e-04, -8.59249829e-02, -5.88368021e-02,\n",
       "          4.38019312e-01, -6.78425651e-02]],\n",
       "\n",
       "       [[-6.04579751e-02,  7.70528446e-02,  8.21806566e-02,\n",
       "          2.39191607e-02,  1.25253045e-01],\n",
       "        [ 8.71809025e-02, -2.36019850e-01,  1.94083357e-01,\n",
       "          1.44106016e-01, -1.11057806e-01],\n",
       "        [-5.79338484e-03, -2.27737559e-02,  3.69378923e-02,\n",
       "          1.15820346e-01, -7.54835037e-02],\n",
       "        [-1.23030170e-01, -5.75259399e-02,  6.70077075e-02,\n",
       "         -2.54771867e-01, -5.48846192e-01],\n",
       "        [ 5.03555834e-02,  3.51408091e-02,  2.27038062e-01,\n",
       "          3.02132979e-01,  7.67770315e-02]]])"
      ]
     },
     "execution_count": 71,
     "metadata": {},
     "output_type": "execute_result"
    }
   ],
   "source": [
    "M3_whiten-temp"
   ]
  }
 ],
 "metadata": {
  "interpreter": {
   "hash": "7b4b4feff2f24a0f0a34464dbe537a36fda679851528fb8735cb41fa49dffb2d"
  },
  "kernelspec": {
   "display_name": "Python 3.8.8 64-bit ('base': conda)",
   "language": "python",
   "name": "python3"
  },
  "language_info": {
   "codemirror_mode": {
    "name": "ipython",
    "version": 3
   },
   "file_extension": ".py",
   "mimetype": "text/x-python",
   "name": "python",
   "nbconvert_exporter": "python",
   "pygments_lexer": "ipython3",
   "version": "3.8.8"
  },
  "orig_nbformat": 4
 },
 "nbformat": 4,
 "nbformat_minor": 2
}
