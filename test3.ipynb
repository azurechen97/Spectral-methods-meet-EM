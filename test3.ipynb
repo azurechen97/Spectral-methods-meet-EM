{
 "cells": [
  {
   "cell_type": "code",
   "execution_count": 1,
   "metadata": {},
   "outputs": [],
   "source": [
    "import numpy as np\n",
    "from utils import *\n",
    "import pandas as pd\n",
    "from sklearn.metrics import confusion_matrix\n",
    "\n",
    "data = pd.read_table(\"data/bluebird_crowd.txt\", header=None)\n",
    "truth = pd.read_table(\"data/bluebird_truth.txt\", header=None)\n"
   ]
  },
  {
   "cell_type": "code",
   "execution_count": 2,
   "metadata": {},
   "outputs": [],
   "source": [
    "import matplotlib.pyplot as plt\n"
   ]
  },
  {
   "cell_type": "code",
   "execution_count": 3,
   "metadata": {},
   "outputs": [],
   "source": [
    "truth = truth.drop_duplicates()"
   ]
  },
  {
   "cell_type": "code",
   "execution_count": 4,
   "metadata": {},
   "outputs": [
    {
     "name": "stdout",
     "output_type": "stream",
     "text": [
      "108 39 2\n"
     ]
    }
   ],
   "source": [
    "n, m, k = np.max(np.array(data), axis=0)\n",
    "print(n, m, k)\n"
   ]
  },
  {
   "cell_type": "code",
   "execution_count": 5,
   "metadata": {},
   "outputs": [
    {
     "data": {
      "text/plain": [
       "array([[1, 1, 1, ..., 0, 0, 0],\n",
       "       [0, 0, 1, ..., 0, 0, 0],\n",
       "       [1, 1, 1, ..., 0, 0, 0],\n",
       "       ...,\n",
       "       [1, 0, 0, ..., 0, 0, 0],\n",
       "       [1, 0, 1, ..., 0, 0, 0],\n",
       "       [1, 1, 0, ..., 0, 0, 0]], dtype=int64)"
      ]
     },
     "execution_count": 5,
     "metadata": {},
     "output_type": "execute_result"
    }
   ],
   "source": [
    "labels = transform_data(data)\n",
    "labels"
   ]
  },
  {
   "cell_type": "code",
   "execution_count": 7,
   "metadata": {},
   "outputs": [],
   "source": [
    "ranking = np.argsort(truth[1])"
   ]
  },
  {
   "cell_type": "code",
   "execution_count": 8,
   "metadata": {},
   "outputs": [],
   "source": [
    "merged = data.merge(truth,on=0)\n"
   ]
  },
  {
   "cell_type": "code",
   "execution_count": 9,
   "metadata": {},
   "outputs": [
    {
     "name": "stdout",
     "output_type": "stream",
     "text": [
      "0.0\n"
     ]
    }
   ],
   "source": [
    "# proportion of missing values\n",
    "missing = np.mean(labels == -1)\n",
    "print(missing)"
   ]
  },
  {
   "cell_type": "code",
   "execution_count": 10,
   "metadata": {},
   "outputs": [
    {
     "data": {
      "image/png": "[encoded data removed]",
      "text/plain": [
       "<Figure size 432x288 with 1 Axes>"
      ]
     },
     "metadata": {
      "needs_background": "light"
     },
     "output_type": "display_data"
    }
   ],
   "source": [
    "plt.hist(np.mean(labels != -1, axis=1), bins=30)\n",
    "plt.title(\"Proportion of labeled items by each worker\")\n",
    "plt.savefig(\"pic/bluebird_proportion.png\", dpi=300)\n",
    "plt.show()"
   ]
  },
  {
   "cell_type": "code",
   "execution_count": 11,
   "metadata": {},
   "outputs": [
    {
     "name": "stdout",
     "output_type": "stream",
     "text": [
      "0.3644349477682811\n"
     ]
    }
   ],
   "source": [
    "# total error rate\n",
    "error = np.mean(merged[\"1_y\"] != merged[2])\n",
    "print(error)"
   ]
  },
  {
   "cell_type": "code",
   "execution_count": 12,
   "metadata": {},
   "outputs": [
    {
     "data": {
      "text/html": [
       "<div>\n",
       "<style scoped>\n",
       "    .dataframe tbody tr th:only-of-type {\n",
       "        vertical-align: middle;\n",
       "    }\n",
       "\n",
       "    .dataframe tbody tr th {\n",
       "        vertical-align: top;\n",
       "    }\n",
       "\n",
       "    .dataframe thead th {\n",
       "        text-align: right;\n",
       "    }\n",
       "</style>\n",
       "<table border=\"1\" class=\"dataframe\">\n",
       "  <thead>\n",
       "    <tr style=\"text-align: right;\">\n",
       "      <th></th>\n",
       "      <th>0</th>\n",
       "      <th>1_x</th>\n",
       "      <th>2</th>\n",
       "      <th>1_y</th>\n",
       "    </tr>\n",
       "  </thead>\n",
       "  <tbody>\n",
       "    <tr>\n",
       "      <th>0</th>\n",
       "      <td>1</td>\n",
       "      <td>1</td>\n",
       "      <td>2</td>\n",
       "      <td>2</td>\n",
       "    </tr>\n",
       "    <tr>\n",
       "      <th>1</th>\n",
       "      <td>1</td>\n",
       "      <td>2</td>\n",
       "      <td>1</td>\n",
       "      <td>2</td>\n",
       "    </tr>\n",
       "    <tr>\n",
       "      <th>2</th>\n",
       "      <td>1</td>\n",
       "      <td>3</td>\n",
       "      <td>2</td>\n",
       "      <td>2</td>\n",
       "    </tr>\n",
       "    <tr>\n",
       "      <th>3</th>\n",
       "      <td>1</td>\n",
       "      <td>4</td>\n",
       "      <td>2</td>\n",
       "      <td>2</td>\n",
       "    </tr>\n",
       "    <tr>\n",
       "      <th>4</th>\n",
       "      <td>1</td>\n",
       "      <td>5</td>\n",
       "      <td>2</td>\n",
       "      <td>2</td>\n",
       "    </tr>\n",
       "    <tr>\n",
       "      <th>...</th>\n",
       "      <td>...</td>\n",
       "      <td>...</td>\n",
       "      <td>...</td>\n",
       "      <td>...</td>\n",
       "    </tr>\n",
       "    <tr>\n",
       "      <th>4207</th>\n",
       "      <td>108</td>\n",
       "      <td>35</td>\n",
       "      <td>1</td>\n",
       "      <td>1</td>\n",
       "    </tr>\n",
       "    <tr>\n",
       "      <th>4208</th>\n",
       "      <td>108</td>\n",
       "      <td>36</td>\n",
       "      <td>1</td>\n",
       "      <td>1</td>\n",
       "    </tr>\n",
       "    <tr>\n",
       "      <th>4209</th>\n",
       "      <td>108</td>\n",
       "      <td>37</td>\n",
       "      <td>1</td>\n",
       "      <td>1</td>\n",
       "    </tr>\n",
       "    <tr>\n",
       "      <th>4210</th>\n",
       "      <td>108</td>\n",
       "      <td>38</td>\n",
       "      <td>1</td>\n",
       "      <td>1</td>\n",
       "    </tr>\n",
       "    <tr>\n",
       "      <th>4211</th>\n",
       "      <td>108</td>\n",
       "      <td>39</td>\n",
       "      <td>1</td>\n",
       "      <td>1</td>\n",
       "    </tr>\n",
       "  </tbody>\n",
       "</table>\n",
       "<p>4212 rows × 4 columns</p>\n",
       "</div>"
      ],
      "text/plain": [
       "        0  1_x  2  1_y\n",
       "0       1    1  2    2\n",
       "1       1    2  1    2\n",
       "2       1    3  2    2\n",
       "3       1    4  2    2\n",
       "4       1    5  2    2\n",
       "...   ...  ... ..  ...\n",
       "4207  108   35  1    1\n",
       "4208  108   36  1    1\n",
       "4209  108   37  1    1\n",
       "4210  108   38  1    1\n",
       "4211  108   39  1    1\n",
       "\n",
       "[4212 rows x 4 columns]"
      ]
     },
     "execution_count": 12,
     "metadata": {},
     "output_type": "execute_result"
    }
   ],
   "source": [
    "merged"
   ]
  },
  {
   "cell_type": "code",
   "execution_count": 13,
   "metadata": {},
   "outputs": [],
   "source": [
    "merged[\"error\"] = merged[\"1_y\"] != merged[2]\n",
    "error_worker = merged.groupby(['1_x']).mean()"
   ]
  },
  {
   "cell_type": "code",
   "execution_count": 14,
   "metadata": {},
   "outputs": [
    {
     "data": {
      "text/html": [
       "<div>\n",
       "<style scoped>\n",
       "    .dataframe tbody tr th:only-of-type {\n",
       "        vertical-align: middle;\n",
       "    }\n",
       "\n",
       "    .dataframe tbody tr th {\n",
       "        vertical-align: top;\n",
       "    }\n",
       "\n",
       "    .dataframe thead th {\n",
       "        text-align: right;\n",
       "    }\n",
       "</style>\n",
       "<table border=\"1\" class=\"dataframe\">\n",
       "  <thead>\n",
       "    <tr style=\"text-align: right;\">\n",
       "      <th></th>\n",
       "      <th>0</th>\n",
       "      <th>2</th>\n",
       "      <th>1_y</th>\n",
       "      <th>error</th>\n",
       "    </tr>\n",
       "    <tr>\n",
       "      <th>1_x</th>\n",
       "      <th></th>\n",
       "      <th></th>\n",
       "      <th></th>\n",
       "      <th></th>\n",
       "    </tr>\n",
       "  </thead>\n",
       "  <tbody>\n",
       "    <tr>\n",
       "      <th>1</th>\n",
       "      <td>54.5</td>\n",
       "      <td>1.277778</td>\n",
       "      <td>1.444444</td>\n",
       "      <td>0.203704</td>\n",
       "    </tr>\n",
       "    <tr>\n",
       "      <th>2</th>\n",
       "      <td>54.5</td>\n",
       "      <td>1.425926</td>\n",
       "      <td>1.444444</td>\n",
       "      <td>0.425926</td>\n",
       "    </tr>\n",
       "    <tr>\n",
       "      <th>3</th>\n",
       "      <td>54.5</td>\n",
       "      <td>1.787037</td>\n",
       "      <td>1.444444</td>\n",
       "      <td>0.453704</td>\n",
       "    </tr>\n",
       "    <tr>\n",
       "      <th>4</th>\n",
       "      <td>54.5</td>\n",
       "      <td>1.833333</td>\n",
       "      <td>1.444444</td>\n",
       "      <td>0.555556</td>\n",
       "    </tr>\n",
       "    <tr>\n",
       "      <th>5</th>\n",
       "      <td>54.5</td>\n",
       "      <td>1.657407</td>\n",
       "      <td>1.444444</td>\n",
       "      <td>0.435185</td>\n",
       "    </tr>\n",
       "    <tr>\n",
       "      <th>6</th>\n",
       "      <td>54.5</td>\n",
       "      <td>1.898148</td>\n",
       "      <td>1.444444</td>\n",
       "      <td>0.583333</td>\n",
       "    </tr>\n",
       "    <tr>\n",
       "      <th>7</th>\n",
       "      <td>54.5</td>\n",
       "      <td>1.824074</td>\n",
       "      <td>1.444444</td>\n",
       "      <td>0.453704</td>\n",
       "    </tr>\n",
       "    <tr>\n",
       "      <th>8</th>\n",
       "      <td>54.5</td>\n",
       "      <td>1.500000</td>\n",
       "      <td>1.444444</td>\n",
       "      <td>0.148148</td>\n",
       "    </tr>\n",
       "    <tr>\n",
       "      <th>9</th>\n",
       "      <td>54.5</td>\n",
       "      <td>1.194444</td>\n",
       "      <td>1.444444</td>\n",
       "      <td>0.268519</td>\n",
       "    </tr>\n",
       "    <tr>\n",
       "      <th>10</th>\n",
       "      <td>54.5</td>\n",
       "      <td>1.370370</td>\n",
       "      <td>1.444444</td>\n",
       "      <td>0.666667</td>\n",
       "    </tr>\n",
       "    <tr>\n",
       "      <th>11</th>\n",
       "      <td>54.5</td>\n",
       "      <td>1.388889</td>\n",
       "      <td>1.444444</td>\n",
       "      <td>0.500000</td>\n",
       "    </tr>\n",
       "    <tr>\n",
       "      <th>12</th>\n",
       "      <td>54.5</td>\n",
       "      <td>1.620370</td>\n",
       "      <td>1.444444</td>\n",
       "      <td>0.231481</td>\n",
       "    </tr>\n",
       "    <tr>\n",
       "      <th>13</th>\n",
       "      <td>54.5</td>\n",
       "      <td>1.268519</td>\n",
       "      <td>1.444444</td>\n",
       "      <td>0.398148</td>\n",
       "    </tr>\n",
       "    <tr>\n",
       "      <th>14</th>\n",
       "      <td>54.5</td>\n",
       "      <td>1.879630</td>\n",
       "      <td>1.444444</td>\n",
       "      <td>0.509259</td>\n",
       "    </tr>\n",
       "    <tr>\n",
       "      <th>15</th>\n",
       "      <td>54.5</td>\n",
       "      <td>1.268519</td>\n",
       "      <td>1.444444</td>\n",
       "      <td>0.231481</td>\n",
       "    </tr>\n",
       "    <tr>\n",
       "      <th>16</th>\n",
       "      <td>54.5</td>\n",
       "      <td>1.398148</td>\n",
       "      <td>1.444444</td>\n",
       "      <td>0.268519</td>\n",
       "    </tr>\n",
       "    <tr>\n",
       "      <th>17</th>\n",
       "      <td>54.5</td>\n",
       "      <td>1.425926</td>\n",
       "      <td>1.444444</td>\n",
       "      <td>0.111111</td>\n",
       "    </tr>\n",
       "    <tr>\n",
       "      <th>18</th>\n",
       "      <td>54.5</td>\n",
       "      <td>1.101852</td>\n",
       "      <td>1.444444</td>\n",
       "      <td>0.435185</td>\n",
       "    </tr>\n",
       "    <tr>\n",
       "      <th>19</th>\n",
       "      <td>54.5</td>\n",
       "      <td>1.175926</td>\n",
       "      <td>1.444444</td>\n",
       "      <td>0.361111</td>\n",
       "    </tr>\n",
       "    <tr>\n",
       "      <th>20</th>\n",
       "      <td>54.5</td>\n",
       "      <td>1.351852</td>\n",
       "      <td>1.444444</td>\n",
       "      <td>0.259259</td>\n",
       "    </tr>\n",
       "    <tr>\n",
       "      <th>21</th>\n",
       "      <td>54.5</td>\n",
       "      <td>1.361111</td>\n",
       "      <td>1.444444</td>\n",
       "      <td>0.675926</td>\n",
       "    </tr>\n",
       "    <tr>\n",
       "      <th>22</th>\n",
       "      <td>54.5</td>\n",
       "      <td>1.351852</td>\n",
       "      <td>1.444444</td>\n",
       "      <td>0.314815</td>\n",
       "    </tr>\n",
       "    <tr>\n",
       "      <th>23</th>\n",
       "      <td>54.5</td>\n",
       "      <td>1.231481</td>\n",
       "      <td>1.444444</td>\n",
       "      <td>0.583333</td>\n",
       "    </tr>\n",
       "    <tr>\n",
       "      <th>24</th>\n",
       "      <td>54.5</td>\n",
       "      <td>1.175926</td>\n",
       "      <td>1.444444</td>\n",
       "      <td>0.398148</td>\n",
       "    </tr>\n",
       "    <tr>\n",
       "      <th>25</th>\n",
       "      <td>54.5</td>\n",
       "      <td>1.361111</td>\n",
       "      <td>1.444444</td>\n",
       "      <td>0.138889</td>\n",
       "    </tr>\n",
       "    <tr>\n",
       "      <th>26</th>\n",
       "      <td>54.5</td>\n",
       "      <td>1.138889</td>\n",
       "      <td>1.444444</td>\n",
       "      <td>0.490741</td>\n",
       "    </tr>\n",
       "    <tr>\n",
       "      <th>27</th>\n",
       "      <td>54.5</td>\n",
       "      <td>1.500000</td>\n",
       "      <td>1.444444</td>\n",
       "      <td>0.129630</td>\n",
       "    </tr>\n",
       "    <tr>\n",
       "      <th>28</th>\n",
       "      <td>54.5</td>\n",
       "      <td>1.120370</td>\n",
       "      <td>1.444444</td>\n",
       "      <td>0.472222</td>\n",
       "    </tr>\n",
       "    <tr>\n",
       "      <th>29</th>\n",
       "      <td>54.5</td>\n",
       "      <td>1.203704</td>\n",
       "      <td>1.444444</td>\n",
       "      <td>0.259259</td>\n",
       "    </tr>\n",
       "    <tr>\n",
       "      <th>30</th>\n",
       "      <td>54.5</td>\n",
       "      <td>1.370370</td>\n",
       "      <td>1.444444</td>\n",
       "      <td>0.203704</td>\n",
       "    </tr>\n",
       "    <tr>\n",
       "      <th>31</th>\n",
       "      <td>54.5</td>\n",
       "      <td>1.268519</td>\n",
       "      <td>1.444444</td>\n",
       "      <td>0.435185</td>\n",
       "    </tr>\n",
       "    <tr>\n",
       "      <th>32</th>\n",
       "      <td>54.5</td>\n",
       "      <td>1.277778</td>\n",
       "      <td>1.444444</td>\n",
       "      <td>0.259259</td>\n",
       "    </tr>\n",
       "    <tr>\n",
       "      <th>33</th>\n",
       "      <td>54.5</td>\n",
       "      <td>1.138889</td>\n",
       "      <td>1.444444</td>\n",
       "      <td>0.416667</td>\n",
       "    </tr>\n",
       "    <tr>\n",
       "      <th>34</th>\n",
       "      <td>54.5</td>\n",
       "      <td>1.481481</td>\n",
       "      <td>1.444444</td>\n",
       "      <td>0.555556</td>\n",
       "    </tr>\n",
       "    <tr>\n",
       "      <th>35</th>\n",
       "      <td>54.5</td>\n",
       "      <td>1.296296</td>\n",
       "      <td>1.444444</td>\n",
       "      <td>0.203704</td>\n",
       "    </tr>\n",
       "    <tr>\n",
       "      <th>36</th>\n",
       "      <td>54.5</td>\n",
       "      <td>1.129630</td>\n",
       "      <td>1.444444</td>\n",
       "      <td>0.351852</td>\n",
       "    </tr>\n",
       "    <tr>\n",
       "      <th>37</th>\n",
       "      <td>54.5</td>\n",
       "      <td>1.324074</td>\n",
       "      <td>1.444444</td>\n",
       "      <td>0.212963</td>\n",
       "    </tr>\n",
       "    <tr>\n",
       "      <th>38</th>\n",
       "      <td>54.5</td>\n",
       "      <td>1.231481</td>\n",
       "      <td>1.444444</td>\n",
       "      <td>0.231481</td>\n",
       "    </tr>\n",
       "    <tr>\n",
       "      <th>39</th>\n",
       "      <td>54.5</td>\n",
       "      <td>1.175926</td>\n",
       "      <td>1.444444</td>\n",
       "      <td>0.379630</td>\n",
       "    </tr>\n",
       "  </tbody>\n",
       "</table>\n",
       "</div>"
      ],
      "text/plain": [
       "        0         2       1_y     error\n",
       "1_x                                    \n",
       "1    54.5  1.277778  1.444444  0.203704\n",
       "2    54.5  1.425926  1.444444  0.425926\n",
       "3    54.5  1.787037  1.444444  0.453704\n",
       "4    54.5  1.833333  1.444444  0.555556\n",
       "5    54.5  1.657407  1.444444  0.435185\n",
       "6    54.5  1.898148  1.444444  0.583333\n",
       "7    54.5  1.824074  1.444444  0.453704\n",
       "8    54.5  1.500000  1.444444  0.148148\n",
       "9    54.5  1.194444  1.444444  0.268519\n",
       "10   54.5  1.370370  1.444444  0.666667\n",
       "11   54.5  1.388889  1.444444  0.500000\n",
       "12   54.5  1.620370  1.444444  0.231481\n",
       "13   54.5  1.268519  1.444444  0.398148\n",
       "14   54.5  1.879630  1.444444  0.509259\n",
       "15   54.5  1.268519  1.444444  0.231481\n",
       "16   54.5  1.398148  1.444444  0.268519\n",
       "17   54.5  1.425926  1.444444  0.111111\n",
       "18   54.5  1.101852  1.444444  0.435185\n",
       "19   54.5  1.175926  1.444444  0.361111\n",
       "20   54.5  1.351852  1.444444  0.259259\n",
       "21   54.5  1.361111  1.444444  0.675926\n",
       "22   54.5  1.351852  1.444444  0.314815\n",
       "23   54.5  1.231481  1.444444  0.583333\n",
       "24   54.5  1.175926  1.444444  0.398148\n",
       "25   54.5  1.361111  1.444444  0.138889\n",
       "26   54.5  1.138889  1.444444  0.490741\n",
       "27   54.5  1.500000  1.444444  0.129630\n",
       "28   54.5  1.120370  1.444444  0.472222\n",
       "29   54.5  1.203704  1.444444  0.259259\n",
       "30   54.5  1.370370  1.444444  0.203704\n",
       "31   54.5  1.268519  1.444444  0.435185\n",
       "32   54.5  1.277778  1.444444  0.259259\n",
       "33   54.5  1.138889  1.444444  0.416667\n",
       "34   54.5  1.481481  1.444444  0.555556\n",
       "35   54.5  1.296296  1.444444  0.203704\n",
       "36   54.5  1.129630  1.444444  0.351852\n",
       "37   54.5  1.324074  1.444444  0.212963\n",
       "38   54.5  1.231481  1.444444  0.231481\n",
       "39   54.5  1.175926  1.444444  0.379630"
      ]
     },
     "execution_count": 14,
     "metadata": {},
     "output_type": "execute_result"
    }
   ],
   "source": [
    "error_worker\n"
   ]
  },
  {
   "cell_type": "code",
   "execution_count": 15,
   "metadata": {},
   "outputs": [
    {
     "data": {
      "image/png": "[encoded data removed]",
      "text/plain": [
       "<Figure size 432x288 with 1 Axes>"
      ]
     },
     "metadata": {
      "needs_background": "light"
     },
     "output_type": "display_data"
    }
   ],
   "source": [
    "plt.hist(error_worker[\"error\"], bins=30)\n",
    "plt.title(\"Error rate of each worker\")\n",
    "plt.savefig(\"pic/bluebird_error.png\", dpi=300)\n",
    "plt.show()\n"
   ]
  },
  {
   "cell_type": "code",
   "execution_count": 16,
   "metadata": {},
   "outputs": [
    {
     "data": {
      "text/html": [
       "<div>\n",
       "<style scoped>\n",
       "    .dataframe tbody tr th:only-of-type {\n",
       "        vertical-align: middle;\n",
       "    }\n",
       "\n",
       "    .dataframe tbody tr th {\n",
       "        vertical-align: top;\n",
       "    }\n",
       "\n",
       "    .dataframe thead th {\n",
       "        text-align: right;\n",
       "    }\n",
       "</style>\n",
       "<table border=\"1\" class=\"dataframe\">\n",
       "  <thead>\n",
       "    <tr style=\"text-align: right;\">\n",
       "      <th></th>\n",
       "      <th>1_x</th>\n",
       "      <th>2</th>\n",
       "      <th>1_y</th>\n",
       "      <th>error</th>\n",
       "    </tr>\n",
       "    <tr>\n",
       "      <th>0</th>\n",
       "      <th></th>\n",
       "      <th></th>\n",
       "      <th></th>\n",
       "      <th></th>\n",
       "    </tr>\n",
       "  </thead>\n",
       "  <tbody>\n",
       "    <tr>\n",
       "      <th>1</th>\n",
       "      <td>20.0</td>\n",
       "      <td>1.692308</td>\n",
       "      <td>2.0</td>\n",
       "      <td>0.307692</td>\n",
       "    </tr>\n",
       "    <tr>\n",
       "      <th>2</th>\n",
       "      <td>20.0</td>\n",
       "      <td>1.487179</td>\n",
       "      <td>2.0</td>\n",
       "      <td>0.512821</td>\n",
       "    </tr>\n",
       "    <tr>\n",
       "      <th>3</th>\n",
       "      <td>20.0</td>\n",
       "      <td>1.666667</td>\n",
       "      <td>2.0</td>\n",
       "      <td>0.333333</td>\n",
       "    </tr>\n",
       "    <tr>\n",
       "      <th>4</th>\n",
       "      <td>20.0</td>\n",
       "      <td>1.358974</td>\n",
       "      <td>2.0</td>\n",
       "      <td>0.641026</td>\n",
       "    </tr>\n",
       "    <tr>\n",
       "      <th>5</th>\n",
       "      <td>20.0</td>\n",
       "      <td>1.435897</td>\n",
       "      <td>2.0</td>\n",
       "      <td>0.564103</td>\n",
       "    </tr>\n",
       "    <tr>\n",
       "      <th>...</th>\n",
       "      <td>...</td>\n",
       "      <td>...</td>\n",
       "      <td>...</td>\n",
       "      <td>...</td>\n",
       "    </tr>\n",
       "    <tr>\n",
       "      <th>104</th>\n",
       "      <td>20.0</td>\n",
       "      <td>1.205128</td>\n",
       "      <td>1.0</td>\n",
       "      <td>0.205128</td>\n",
       "    </tr>\n",
       "    <tr>\n",
       "      <th>105</th>\n",
       "      <td>20.0</td>\n",
       "      <td>1.230769</td>\n",
       "      <td>1.0</td>\n",
       "      <td>0.230769</td>\n",
       "    </tr>\n",
       "    <tr>\n",
       "      <th>106</th>\n",
       "      <td>20.0</td>\n",
       "      <td>1.230769</td>\n",
       "      <td>1.0</td>\n",
       "      <td>0.230769</td>\n",
       "    </tr>\n",
       "    <tr>\n",
       "      <th>107</th>\n",
       "      <td>20.0</td>\n",
       "      <td>1.102564</td>\n",
       "      <td>1.0</td>\n",
       "      <td>0.102564</td>\n",
       "    </tr>\n",
       "    <tr>\n",
       "      <th>108</th>\n",
       "      <td>20.0</td>\n",
       "      <td>1.153846</td>\n",
       "      <td>1.0</td>\n",
       "      <td>0.153846</td>\n",
       "    </tr>\n",
       "  </tbody>\n",
       "</table>\n",
       "<p>108 rows × 4 columns</p>\n",
       "</div>"
      ],
      "text/plain": [
       "      1_x         2  1_y     error\n",
       "0                                 \n",
       "1    20.0  1.692308  2.0  0.307692\n",
       "2    20.0  1.487179  2.0  0.512821\n",
       "3    20.0  1.666667  2.0  0.333333\n",
       "4    20.0  1.358974  2.0  0.641026\n",
       "5    20.0  1.435897  2.0  0.564103\n",
       "..    ...       ...  ...       ...\n",
       "104  20.0  1.205128  1.0  0.205128\n",
       "105  20.0  1.230769  1.0  0.230769\n",
       "106  20.0  1.230769  1.0  0.230769\n",
       "107  20.0  1.102564  1.0  0.102564\n",
       "108  20.0  1.153846  1.0  0.153846\n",
       "\n",
       "[108 rows x 4 columns]"
      ]
     },
     "execution_count": 16,
     "metadata": {},
     "output_type": "execute_result"
    }
   ],
   "source": [
    "error_item = merged.groupby([0]).mean()\n",
    "error_item"
   ]
  },
  {
   "cell_type": "code",
   "execution_count": 17,
   "metadata": {},
   "outputs": [
    {
     "data": {
      "image/png": "[encoded data removed]",
      "text/plain": [
       "<Figure size 432x288 with 1 Axes>"
      ]
     },
     "metadata": {
      "needs_background": "light"
     },
     "output_type": "display_data"
    }
   ],
   "source": [
    "plt.hist(error_item[\"error\"], bins=30)\n",
    "plt.title(\"Error rate of each item\")\n",
    "plt.savefig(\"pic/bluebird_error_item.png\", dpi=300)\n",
    "plt.show()\n"
   ]
  },
  {
   "cell_type": "code",
   "execution_count": 18,
   "metadata": {},
   "outputs": [
    {
     "data": {
      "text/plain": [
       "array([[1710,  630],\n",
       "       [ 905,  967]], dtype=int64)"
      ]
     },
     "execution_count": 18,
     "metadata": {},
     "output_type": "execute_result"
    }
   ],
   "source": [
    "confusion_matrix(merged[\"1_y\"], merged[2])\n"
   ]
  },
  {
   "cell_type": "code",
   "execution_count": 19,
   "metadata": {},
   "outputs": [
    {
     "data": {
      "image/png": "[encoded data removed]",
      "text/plain": [
       "<Figure size 797.538x288 with 2 Axes>"
      ]
     },
     "metadata": {
      "needs_background": "light"
     },
     "output_type": "display_data"
    }
   ],
   "source": [
    "plt.matshow(labels[:,ranking])\n",
    "plt.title(\"bluebird labels, missing = \"+str(np.round(missing, 4)) +\n",
    "          \", error = \"+str(np.round(error, 4)))\n",
    "plt.colorbar()\n",
    "plt.savefig(\"pic/bluebird_labels.png\", dpi=300)\n",
    "plt.show()\n"
   ]
  },
  {
   "cell_type": "code",
   "execution_count": 24,
   "metadata": {},
   "outputs": [],
   "source": [
    "def get_confusion_matrix2(k, labels, groups=None, sym=True, cutoff=1e-7, L=20, N=100, seed=None):\n",
    "    m, n = labels.shape\n",
    "    if seed is not None:\n",
    "        np.random.seed(seed)\n",
    "    if groups is None:\n",
    "        groups = np.random.randint(3, size=m)\n",
    "    Zg = get_Zg(k, labels, groups)\n",
    "    M2s, M3s = get_M(Zg)\n",
    "    Cc = np.zeros((3, k, k))\n",
    "    W = np.zeros((3, k))\n",
    "    for g, (M2, M3) in enumerate(zip(M2s, M3s)):\n",
    "        Q = get_whiten(M2, sym)\n",
    "        M3_whiten = whiten_tensor(M3, Q)\n",
    "        values, vectors = robust_tensor_power(M3_whiten, L, N, sym)\n",
    "        w = values**-2\n",
    "        mu = np.linalg.inv(Q.T)@vectors@np.diag(values)\n",
    "        best = np.argmax(mu, axis=0)\n",
    "\n",
    "        # the method in original code\n",
    "        for h in range(k):\n",
    "            l = best[h]\n",
    "            if W[g, l] != 0:\n",
    "                l = np.where(W[g,:] == 0)[0][0]\n",
    "            Cc[g,:,l] = mu[:, h].ravel()\n",
    "            W[g,l] = w[h]\n",
    "\n",
    "    W = np.mean(W, axis=0)\n",
    "    C = np.zeros((m, k, k))\n",
    "    for i in range(m):\n",
    "        Ca = (np.sum(Cc, axis=0)-Cc[groups[i], :, :])/2\n",
    "        Za = (np.sum(Zg, axis=0)-Zg[groups[i], :, :])/2\n",
    "        E = np.zeros((k, k))\n",
    "        for j in range(n):\n",
    "            if labels[i, j] != -1:\n",
    "                E[labels[i, j], :] += Za[j, :]\n",
    "        E /= n\n",
    "        Ci = E@np.linalg.inv(W[np.newaxis,:]*Ca.T)\n",
    "        if cutoff:\n",
    "            Ci[Ci < cutoff] = cutoff\n",
    "        colsums = np.sum(Ci, axis=0)\n",
    "        Ci /= colsums[np.newaxis, :]\n",
    "        C[i, :, :] = Ci\n",
    "    return C\n"
   ]
  },
  {
   "cell_type": "code",
   "execution_count": 33,
   "metadata": {},
   "outputs": [],
   "source": [
    "C_true = get_true_confusion_matrix(data, truth)\n"
   ]
  },
  {
   "cell_type": "code",
   "execution_count": 34,
   "metadata": {},
   "outputs": [
    {
     "data": {
      "text/plain": [
       "array([[0.96666667, 0.41666667],\n",
       "       [0.03333333, 0.58333333]])"
      ]
     },
     "execution_count": 34,
     "metadata": {},
     "output_type": "execute_result"
    }
   ],
   "source": [
    "C_true[0]"
   ]
  },
  {
   "cell_type": "code",
   "execution_count": 35,
   "metadata": {},
   "outputs": [
    {
     "data": {
      "text/plain": [
       "0.09763510505698006"
      ]
     },
     "execution_count": 35,
     "metadata": {},
     "output_type": "execute_result"
    }
   ],
   "source": [
    "# baseline\n",
    "confusion_matrix_loss(np.ones(C_true.shape)/k, C_true)"
   ]
  },
  {
   "cell_type": "code",
   "execution_count": 39,
   "metadata": {},
   "outputs": [],
   "source": [
    "groups = np.array([i%3 for i in range(m)])"
   ]
  },
  {
   "cell_type": "code",
   "execution_count": 40,
   "metadata": {},
   "outputs": [
    {
     "data": {
      "text/plain": [
       "0.009537344008512357"
      ]
     },
     "execution_count": 40,
     "metadata": {},
     "output_type": "execute_result"
    }
   ],
   "source": [
    "confusion_matrix_loss(get_confusion_matrix(\n",
    "    k, labels, groups=groups, sym=False), C_true)\n"
   ]
  },
  {
   "cell_type": "code",
   "execution_count": 41,
   "metadata": {},
   "outputs": [
    {
     "data": {
      "text/plain": [
       "0.009743060168580007"
      ]
     },
     "execution_count": 41,
     "metadata": {},
     "output_type": "execute_result"
    }
   ],
   "source": [
    "confusion_matrix_loss(get_confusion_matrix(\n",
    "    k, labels, sym=False,seed=123), C_true)\n"
   ]
  },
  {
   "cell_type": "code",
   "execution_count": 42,
   "metadata": {},
   "outputs": [
    {
     "data": {
      "text/plain": [
       "0.009743060168580007"
      ]
     },
     "execution_count": 42,
     "metadata": {},
     "output_type": "execute_result"
    }
   ],
   "source": [
    "confusion_matrix_loss(get_confusion_matrix2(\n",
    "    k, labels, sym=False, seed=123), C_true)\n"
   ]
  },
  {
   "cell_type": "code",
   "execution_count": 45,
   "metadata": {},
   "outputs": [
    {
     "name": "stdout",
     "output_type": "stream",
     "text": [
      "5\n",
      "10\n",
      "15\n",
      "20\n",
      "25\n",
      "30\n",
      "35\n",
      "40\n",
      "45\n",
      "50\n"
     ]
    }
   ],
   "source": [
    "# iterations\n",
    "maxiter = 50\n",
    "step = 5\n",
    "Ls = np.array([i for i in range(step,maxiter+1,step)],dtype=int)\n",
    "losses = np.zeros(len(Ls))\n",
    "for i,L in enumerate(Ls):\n",
    "    print(L)\n",
    "    losses[i] = confusion_matrix_loss(get_confusion_matrix(\n",
    "        k, labels, sym=True, L=L, N=100, seed=123), C_true)\n"
   ]
  },
  {
   "cell_type": "code",
   "execution_count": 46,
   "metadata": {},
   "outputs": [
    {
     "data": {
      "image/png": "[encoded data removed]",
      "text/plain": [
       "<Figure size 432x288 with 1 Axes>"
      ]
     },
     "metadata": {
      "needs_background": "light"
     },
     "output_type": "display_data"
    }
   ],
   "source": [
    "plt.plot(Ls,losses)\n",
    "plt.xlabel(\"L\")\n",
    "plt.ylabel(\"Loss\")\n",
    "plt.savefig(\"pic/bluebird_L.png\",dpi=300)\n",
    "plt.show()\n"
   ]
  },
  {
   "cell_type": "code",
   "execution_count": 47,
   "metadata": {},
   "outputs": [
    {
     "name": "stdout",
     "output_type": "stream",
     "text": [
      "5\n",
      "10\n",
      "15\n",
      "20\n",
      "25\n",
      "30\n",
      "35\n",
      "40\n",
      "45\n",
      "50\n",
      "55\n",
      "60\n",
      "65\n",
      "70\n",
      "75\n",
      "80\n",
      "85\n",
      "90\n",
      "95\n",
      "100\n"
     ]
    }
   ],
   "source": [
    "# iterations\n",
    "maxiter = 100\n",
    "step = 5\n",
    "Ns = np.array([i for i in range(step, maxiter+1,step)], dtype=int)\n",
    "losses_N = np.zeros(len(Ns))\n",
    "for i, N in enumerate(Ns):\n",
    "    print(N)\n",
    "    losses_N[i] = confusion_matrix_loss(get_confusion_matrix(\n",
    "        k, labels, sym=True, L=100, N=N, seed=123), C_true)\n"
   ]
  },
  {
   "cell_type": "code",
   "execution_count": 48,
   "metadata": {},
   "outputs": [
    {
     "data": {
      "image/png": "[encoded data removed]",
      "text/plain": [
       "<Figure size 432x288 with 1 Axes>"
      ]
     },
     "metadata": {
      "needs_background": "light"
     },
     "output_type": "display_data"
    }
   ],
   "source": [
    "plt.plot(Ns, losses_N)\n",
    "plt.xlabel(\"N\")\n",
    "plt.ylabel(\"Loss\")\n",
    "plt.savefig(\"pic/bluebird_N.png\", dpi=300)\n",
    "plt.show()\n"
   ]
  },
  {
   "cell_type": "code",
   "execution_count": 49,
   "metadata": {},
   "outputs": [
    {
     "data": {
      "text/plain": [
       "array([0.00974306, 0.00974306, 0.00974306, 0.00974306, 0.00974306,\n",
       "       0.00974306, 0.00974306, 0.00974306, 0.00974306, 0.00974306,\n",
       "       0.00974306, 0.00974306, 0.00974306, 0.00974306, 0.00974306,\n",
       "       0.00974306, 0.00974306, 0.00974306, 0.00974306, 0.00974306])"
      ]
     },
     "execution_count": 49,
     "metadata": {},
     "output_type": "execute_result"
    }
   ],
   "source": [
    "losses_N"
   ]
  },
  {
   "cell_type": "code",
   "execution_count": 68,
   "metadata": {},
   "outputs": [
    {
     "name": "stdout",
     "output_type": "stream",
     "text": [
      "9\n",
      "19\n",
      "29\n",
      "39\n",
      "49\n",
      "59\n",
      "69\n",
      "79\n",
      "89\n",
      "99\n",
      "109\n",
      "119\n",
      "129\n",
      "139\n",
      "149\n",
      "159\n",
      "169\n",
      "179\n",
      "189\n",
      "199\n",
      "209\n",
      "219\n",
      "229\n",
      "239\n",
      "249\n",
      "259\n",
      "269\n",
      "279\n",
      "289\n",
      "299\n",
      "309\n",
      "319\n",
      "329\n",
      "339\n",
      "349\n",
      "359\n",
      "369\n",
      "379\n",
      "389\n",
      "399\n",
      "409\n",
      "419\n",
      "429\n",
      "439\n",
      "449\n",
      "459\n",
      "469\n",
      "479\n",
      "489\n",
      "499\n"
     ]
    }
   ],
   "source": [
    "# symmetric or not\n",
    "iternum = 500\n",
    "sym_losses = np.zeros(iternum)\n",
    "asym_losses = np.zeros(iternum)\n",
    "for i in range(iternum):\n",
    "    if i%10==9:\n",
    "        print(i)\n",
    "    sym_losses[i] = confusion_matrix_loss(get_confusion_matrix(\n",
    "        k, labels, sym=True, L=20, N=20), C_true)\n",
    "    asym_losses[i] = confusion_matrix_loss(get_confusion_matrix(\n",
    "        k, labels, sym=False, L=20, N=20), C_true)"
   ]
  },
  {
   "cell_type": "code",
   "execution_count": 69,
   "metadata": {},
   "outputs": [
    {
     "name": "stdout",
     "output_type": "stream",
     "text": [
      "0.007049704803031294 0.3088815853145724\n",
      "0.007200291368966259 0.290160619137196\n"
     ]
    }
   ],
   "source": [
    "print(np.min(sym_losses), np.max(sym_losses))\n",
    "print(np.min(asym_losses), np.max(asym_losses))\n"
   ]
  },
  {
   "cell_type": "code",
   "execution_count": 70,
   "metadata": {},
   "outputs": [
    {
     "data": {
      "image/png": "[encoded data removed]",
      "text/plain": [
       "<Figure size 432x288 with 1 Axes>"
      ]
     },
     "metadata": {
      "needs_background": "light"
     },
     "output_type": "display_data"
    }
   ],
   "source": [
    "bins = np.linspace(0.006, 0.016, 25)\n",
    "plt.hist(sym_losses,bins, alpha=0.5, label='symmetric')\n",
    "plt.hist(asym_losses, bins, alpha=0.5, label='asymmetric')\n",
    "plt.title(\"MSE of confusion matrices from bluebird data\")\n",
    "plt.legend(loc='upper right')\n",
    "plt.savefig(\"pic/bluebird_symmetry.png\",dpi=300)\n",
    "plt.show()"
   ]
  },
  {
   "cell_type": "markdown",
   "metadata": {},
   "source": [
    "From the plot we can see if we symmetricalize the matrices and tensors, the MSE of the confusion matrices can be reduced."
   ]
  },
  {
   "cell_type": "code",
   "execution_count": 71,
   "metadata": {},
   "outputs": [
    {
     "name": "stdout",
     "output_type": "stream",
     "text": [
      "9\n",
      "19\n",
      "29\n",
      "39\n",
      "49\n",
      "59\n",
      "69\n",
      "79\n",
      "89\n",
      "99\n",
      "109\n",
      "119\n",
      "129\n",
      "139\n",
      "149\n",
      "159\n",
      "169\n",
      "179\n",
      "189\n",
      "199\n",
      "209\n",
      "219\n",
      "229\n",
      "239\n",
      "249\n",
      "259\n",
      "269\n",
      "279\n",
      "289\n",
      "299\n",
      "309\n",
      "319\n",
      "329\n",
      "339\n",
      "349\n",
      "359\n",
      "369\n",
      "379\n",
      "389\n",
      "399\n",
      "409\n",
      "419\n",
      "429\n",
      "439\n",
      "449\n",
      "459\n",
      "469\n",
      "479\n",
      "489\n",
      "499\n"
     ]
    }
   ],
   "source": [
    "# symmetric or not\n",
    "iternum = 500\n",
    "new_losses = np.zeros(iternum)\n",
    "original_losses = np.zeros(iternum)\n",
    "for i in range(iternum):\n",
    "    if i % 10 == 9:\n",
    "        print(i)\n",
    "    new_losses[i] = confusion_matrix_loss(get_confusion_matrix(\n",
    "        k, labels, sym=True, L=20, N=20), C_true)\n",
    "    original_losses[i] = confusion_matrix_loss(get_confusion_matrix2(\n",
    "        k, labels, sym=True, L=20, N=20), C_true)\n"
   ]
  },
  {
   "cell_type": "code",
   "execution_count": 73,
   "metadata": {},
   "outputs": [
    {
     "name": "stdout",
     "output_type": "stream",
     "text": [
      "0.00776261538386989 0.34143372892668283\n",
      "0.007271204692741211 0.29607236892903144\n"
     ]
    }
   ],
   "source": [
    "print(np.min(original_losses), np.max(original_losses))\n",
    "print(np.min(new_losses), np.max(new_losses))\n"
   ]
  },
  {
   "cell_type": "code",
   "execution_count": 72,
   "metadata": {},
   "outputs": [
    {
     "data": {
      "image/png": "[encoded data removed]",
      "text/plain": [
       "<Figure size 432x288 with 1 Axes>"
      ]
     },
     "metadata": {
      "needs_background": "light"
     },
     "output_type": "display_data"
    }
   ],
   "source": [
    "bins = np.linspace(0.006, 0.016, 25)\n",
    "plt.hist(new_losses, bins, alpha=0.5, label='new')\n",
    "plt.hist(original_losses, bins, alpha=0.5, label='original')\n",
    "plt.title(\"MSE of confusion matrices from bluebird data\")\n",
    "plt.legend(loc='upper right')\n",
    "plt.savefig(\"pic/bluebird_singular.png\",dpi=300)\n",
    "plt.show()\n"
   ]
  }
 ],
 "metadata": {
  "interpreter": {
   "hash": "7b4b4feff2f24a0f0a34464dbe537a36fda679851528fb8735cb41fa49dffb2d"
  },
  "kernelspec": {
   "display_name": "Python 3.8.8 64-bit ('base': conda)",
   "language": "python",
   "name": "python3"
  },
  "language_info": {
   "codemirror_mode": {
    "name": "ipython",
    "version": 3
   },
   "file_extension": ".py",
   "mimetype": "text/x-python",
   "name": "python",
   "nbconvert_exporter": "python",
   "pygments_lexer": "ipython3",
   "version": "3.8.8"
  },
  "orig_nbformat": 4
 },
 "nbformat": 4,
 "nbformat_minor": 2
}
