{
 "cells": [
  {
   "cell_type": "code",
   "execution_count": 10,
   "metadata": {},
   "outputs": [],
   "source": [
    "import numpy as np\n",
    "from utils import *\n",
    "import pandas as pd\n",
    "from sklearn.metrics import confusion_matrix\n",
    "\n",
    "data = pd.read_table(\"data/dog_crowd.txt\", header=None)\n",
    "truth = pd.read_table(\"data/dog_truth.txt\", header=None)\n"
   ]
  },
  {
   "cell_type": "code",
   "execution_count": 11,
   "metadata": {},
   "outputs": [],
   "source": [
    "truth = truth.drop_duplicates()"
   ]
  },
  {
   "cell_type": "code",
   "execution_count": 12,
   "metadata": {},
   "outputs": [
    {
     "name": "stdout",
     "output_type": "stream",
     "text": [
      "807 109 4\n"
     ]
    }
   ],
   "source": [
    "n, m, k = np.max(np.array(data), axis=0)\n",
    "print(n, m, k)\n"
   ]
  },
  {
   "cell_type": "code",
   "execution_count": 13,
   "metadata": {},
   "outputs": [],
   "source": [
    "labels = transform_data(data)\n"
   ]
  },
  {
   "cell_type": "code",
   "execution_count": 14,
   "metadata": {},
   "outputs": [
    {
     "data": {
      "text/plain": [
       "array([[ 3,  2, -1, ..., -1, -1, -1],\n",
       "       [ 2, -1, -1, ..., -1, -1, -1],\n",
       "       [ 3,  2,  1, ..., -1, -1,  1],\n",
       "       ...,\n",
       "       [-1, -1, -1, ..., -1, -1, -1],\n",
       "       [-1, -1, -1, ..., -1, -1, -1],\n",
       "       [-1, -1, -1, ..., -1, -1, -1]], dtype=int64)"
      ]
     },
     "execution_count": 14,
     "metadata": {},
     "output_type": "execute_result"
    }
   ],
   "source": [
    "labels"
   ]
  },
  {
   "cell_type": "code",
   "execution_count": 15,
   "metadata": {},
   "outputs": [],
   "source": [
    "groups = np.array([i % 3 for i in range(m)])\n"
   ]
  },
  {
   "cell_type": "code",
   "execution_count": 16,
   "metadata": {},
   "outputs": [],
   "source": [
    "C_estimated = get_confusion_matrix(k, labels, groups=groups, sym=False)\n"
   ]
  },
  {
   "cell_type": "code",
   "execution_count": 17,
   "metadata": {},
   "outputs": [],
   "source": [
    "i = 50\n",
    "truth_new = truth[truth[0].isin(data[data[1] == i+1][0])]\n",
    "pred_new = data[data[1] == i+1][data[data[1] == i+1][0].isin(truth_new[0])]\n"
   ]
  },
  {
   "cell_type": "code",
   "execution_count": 18,
   "metadata": {},
   "outputs": [],
   "source": [
    "C = confusion_matrix(pred_new[2], truth_new[1])\n"
   ]
  },
  {
   "cell_type": "code",
   "execution_count": 19,
   "metadata": {},
   "outputs": [
    {
     "data": {
      "text/plain": [
       "array([[0.71429, 0.3    , 0.     , 0.     ],\n",
       "       [0.28571, 0.7    , 0.     , 0.     ],\n",
       "       [0.     , 0.     , 0.61111, 0.07143],\n",
       "       [0.     , 0.     , 0.38889, 0.92857]])"
      ]
     },
     "execution_count": 19,
     "metadata": {},
     "output_type": "execute_result"
    }
   ],
   "source": [
    "np.round(C / np.sum(C, axis=0)[np.newaxis, :], 5)\n"
   ]
  },
  {
   "cell_type": "code",
   "execution_count": 20,
   "metadata": {},
   "outputs": [
    {
     "data": {
      "text/plain": [
       "array([[8.8915e-01, 1.6008e-01, 0.0000e+00, 1.5360e-02],\n",
       "       [1.0804e-01, 8.3902e-01, 1.4710e-02, 0.0000e+00],\n",
       "       [2.8100e-03, 9.1000e-04, 7.9719e-01, 1.7400e-02],\n",
       "       [0.0000e+00, 0.0000e+00, 1.8809e-01, 9.6724e-01]])"
      ]
     },
     "execution_count": 20,
     "metadata": {},
     "output_type": "execute_result"
    }
   ],
   "source": [
    "np.round(C_estimated[i], 5)\n"
   ]
  },
  {
   "cell_type": "code",
   "execution_count": 56,
   "metadata": {},
   "outputs": [],
   "source": [
    "def get_true_confusion_matrix(data, truth, normalize=True):\n",
    "    truth = truth.drop_duplicates()\n",
    "    n, m, k = np.max(np.array(data), axis=0)\n",
    "    C = np.zeros((m, k, k))\n",
    "    for i in range(m):\n",
    "        truth_new = truth[truth[0].isin(data[data[1] == i+1][0])]\n",
    "        pred_new = data[data[1] == i +\n",
    "                        1][data[data[1] == i+1][0].isin(truth_new[0])]\n",
    "        Ci = confusion_matrix(pred_new[2], truth_new[1], labels=[\n",
    "                              i+1 for i in range(k)])\n",
    "        if normalize:\n",
    "            Ci = Ci.astype(float)\n",
    "            colsums = np.sum(Ci, axis=0)\n",
    "            Ci[:, colsums != 0] /= colsums[np.newaxis, colsums != 0]\n",
    "        C[i, :, :] = Ci\n",
    "    return C\n"
   ]
  },
  {
   "cell_type": "code",
   "execution_count": 59,
   "metadata": {},
   "outputs": [],
   "source": [
    "def confusion_matrix_loss(C_estimated,C_true):\n",
    "    return np.mean((C_estimated-C_true)**2)\n"
   ]
  },
  {
   "cell_type": "code",
   "execution_count": 43,
   "metadata": {},
   "outputs": [
    {
     "data": {
      "text/plain": [
       "80     1\n",
       "580    2\n",
       "270    3\n",
       "350    4\n",
       "Name: 1, dtype: int64"
      ]
     },
     "execution_count": 43,
     "metadata": {},
     "output_type": "execute_result"
    }
   ],
   "source": [
    "truth_new[1].drop_duplicates().sort_values()"
   ]
  },
  {
   "cell_type": "code",
   "execution_count": 57,
   "metadata": {},
   "outputs": [],
   "source": [
    "C_true = get_true_confusion_matrix(data, truth)\n"
   ]
  },
  {
   "cell_type": "code",
   "execution_count": 58,
   "metadata": {},
   "outputs": [
    {
     "data": {
      "text/plain": [
       "array([[[0.85294118, 0.16666667, 0.        , 0.07142857],\n",
       "        [0.14705882, 0.83333333, 0.        , 0.        ],\n",
       "        [0.        , 0.        , 0.71153846, 0.14285714],\n",
       "        [0.        , 0.        , 0.28846154, 0.78571429]],\n",
       "\n",
       "       [[0.35      , 0.14285714, 0.        , 0.        ],\n",
       "        [0.6       , 0.82142857, 0.        , 0.        ],\n",
       "        [0.05      , 0.03571429, 0.47058824, 0.24137931],\n",
       "        [0.        , 0.        , 0.52941176, 0.75862069]],\n",
       "\n",
       "       [[0.37313433, 0.23684211, 0.        , 0.        ],\n",
       "        [0.58208955, 0.75      , 0.01123596, 0.01020408],\n",
       "        [0.01492537, 0.01315789, 0.88764045, 0.60204082],\n",
       "        [0.02985075, 0.        , 0.1011236 , 0.3877551 ]],\n",
       "\n",
       "       ...,\n",
       "\n",
       "       [[1.        , 0.        , 0.        , 0.        ],\n",
       "        [0.        , 1.        , 0.        , 0.        ],\n",
       "        [0.        , 0.        , 0.5       , 0.5       ],\n",
       "        [0.        , 0.        , 0.5       , 0.5       ]],\n",
       "\n",
       "       [[1.        , 0.        , 0.        , 0.        ],\n",
       "        [0.        , 0.        , 0.        , 0.        ],\n",
       "        [0.        , 0.        , 0.        , 0.        ],\n",
       "        [0.        , 0.        , 0.        , 0.        ]],\n",
       "\n",
       "       [[1.        , 1.        , 0.        , 0.        ],\n",
       "        [0.        , 0.        , 0.        , 0.        ],\n",
       "        [0.        , 0.        , 0.        , 0.        ],\n",
       "        [0.        , 0.        , 0.        , 0.        ]]])"
      ]
     },
     "execution_count": 58,
     "metadata": {},
     "output_type": "execute_result"
    }
   ],
   "source": [
    "C_true"
   ]
  },
  {
   "cell_type": "code",
   "execution_count": 65,
   "metadata": {},
   "outputs": [
    {
     "data": {
      "text/plain": [
       "0.03289894038021084"
      ]
     },
     "execution_count": 65,
     "metadata": {},
     "output_type": "execute_result"
    }
   ],
   "source": [
    "confusion_matrix_loss(get_confusion_matrix(\n",
    "    k, labels, groups=groups, sym=True), C_true)\n"
   ]
  }
 ],
 "metadata": {
  "interpreter": {
   "hash": "7b4b4feff2f24a0f0a34464dbe537a36fda679851528fb8735cb41fa49dffb2d"
  },
  "kernelspec": {
   "display_name": "Python 3.8.8 64-bit ('base': conda)",
   "language": "python",
   "name": "python3"
  },
  "language_info": {
   "codemirror_mode": {
    "name": "ipython",
    "version": 3
   },
   "file_extension": ".py",
   "mimetype": "text/x-python",
   "name": "python",
   "nbconvert_exporter": "python",
   "pygments_lexer": "ipython3",
   "version": "3.8.8"
  },
  "orig_nbformat": 4
 },
 "nbformat": 4,
 "nbformat_minor": 2
}
