{
 "cells": [
  {
   "cell_type": "code",
   "execution_count": 1,
   "metadata": {},
   "outputs": [],
   "source": [
    "import numpy as np\n",
    "from utils import *\n",
    "import pandas as pd\n",
    "from sklearn.metrics import confusion_matrix\n",
    "\n",
    "data = pd.read_table(\"data/web_crowd.txt\", header=None)\n",
    "truth = pd.read_table(\"data/web_truth.txt\", header=None)\n"
   ]
  },
  {
   "cell_type": "code",
   "execution_count": 2,
   "metadata": {},
   "outputs": [],
   "source": [
    "import matplotlib.pyplot as plt\n"
   ]
  },
  {
   "cell_type": "code",
   "execution_count": 3,
   "metadata": {},
   "outputs": [],
   "source": [
    "truth = truth.drop_duplicates()"
   ]
  },
  {
   "cell_type": "code",
   "execution_count": 4,
   "metadata": {},
   "outputs": [
    {
     "name": "stdout",
     "output_type": "stream",
     "text": [
      "2665 177 5\n"
     ]
    }
   ],
   "source": [
    "n, m, k = np.max(np.array(data), axis=0)\n",
    "print(n, m, k)\n"
   ]
  },
  {
   "cell_type": "code",
   "execution_count": 5,
   "metadata": {},
   "outputs": [
    {
     "data": {
      "text/plain": [
       "array([[ 4,  0,  0, ..., -1, -1, -1],\n",
       "       [ 4, -1,  0, ...,  2,  1, -1],\n",
       "       [ 4, -1, -1, ..., -1,  3, -1],\n",
       "       ...,\n",
       "       [-1, -1, -1, ..., -1, -1, -1],\n",
       "       [-1, -1, -1, ..., -1, -1, -1],\n",
       "       [-1, -1, -1, ..., -1, -1, -1]], dtype=int64)"
      ]
     },
     "execution_count": 5,
     "metadata": {},
     "output_type": "execute_result"
    }
   ],
   "source": [
    "labels = transform_data(data)\n",
    "labels"
   ]
  },
  {
   "cell_type": "code",
   "execution_count": 6,
   "metadata": {},
   "outputs": [
    {
     "data": {
      "text/plain": [
       "False"
      ]
     },
     "execution_count": 6,
     "metadata": {},
     "output_type": "execute_result"
    }
   ],
   "source": [
    "np.any(np.max(labels,axis=1)==-1)"
   ]
  },
  {
   "cell_type": "code",
   "execution_count": 7,
   "metadata": {},
   "outputs": [],
   "source": [
    "ranking = np.argsort(truth[1])"
   ]
  },
  {
   "cell_type": "code",
   "execution_count": 8,
   "metadata": {},
   "outputs": [],
   "source": [
    "merged = data.merge(truth,on=0)\n"
   ]
  },
  {
   "cell_type": "code",
   "execution_count": 9,
   "metadata": {},
   "outputs": [
    {
     "name": "stdout",
     "output_type": "stream",
     "text": [
      "0.9669984418227494\n"
     ]
    }
   ],
   "source": [
    "# proportion of missing values\n",
    "missing = np.mean(labels == -1)\n",
    "print(missing)"
   ]
  },
  {
   "cell_type": "code",
   "execution_count": 10,
   "metadata": {},
   "outputs": [
    {
     "name": "stdout",
     "output_type": "stream",
     "text": [
      "0.4484844584593603\n"
     ]
    }
   ],
   "source": [
    "# total error rate\n",
    "error = np.mean(merged[\"1_y\"] != merged[2])\n",
    "print(error)"
   ]
  },
  {
   "cell_type": "code",
   "execution_count": 11,
   "metadata": {},
   "outputs": [
    {
     "data": {
      "text/plain": [
       "array([[1053,  282,  149,  151,  251],\n",
       "       [ 395, 1231,  454,  308,  415],\n",
       "       [ 242,  496, 1671,  822,  835],\n",
       "       [  71,  158,  434, 1616,  853],\n",
       "       [  88,   80,  120,  365, 2999]], dtype=int64)"
      ]
     },
     "execution_count": 11,
     "metadata": {},
     "output_type": "execute_result"
    }
   ],
   "source": [
    "confusion_matrix(merged[\"1_y\"], merged[2])\n"
   ]
  },
  {
   "cell_type": "code",
   "execution_count": 12,
   "metadata": {},
   "outputs": [
    {
     "data": {
      "image/png": "[encoded data removed]",
      "text/plain": [
       "<Figure size 1152x144 with 2 Axes>"
      ]
     },
     "metadata": {
      "needs_background": "light"
     },
     "output_type": "display_data"
    }
   ],
   "source": [
    "plt.matshow(labels[:,ranking])\n",
    "plt.title(\"web labels, missing = \"+str(np.round(missing, 4)) +\n",
    "          \", error = \"+str(np.round(error, 4)))\n",
    "plt.colorbar()\n",
    "plt.savefig(\"pic/web_labels.png\", dpi=300)\n",
    "plt.show()\n"
   ]
  },
  {
   "cell_type": "code",
   "execution_count": 13,
   "metadata": {},
   "outputs": [],
   "source": [
    "groups = np.array([i % 3 for i in range(m)])\n"
   ]
  },
  {
   "cell_type": "code",
   "execution_count": 14,
   "metadata": {},
   "outputs": [],
   "source": [
    "C_estimated = get_confusion_matrix(k, labels, groups=groups, sym=False)\n"
   ]
  },
  {
   "cell_type": "code",
   "execution_count": 15,
   "metadata": {},
   "outputs": [],
   "source": [
    "i = 10\n",
    "truth_new = truth[truth[0].isin(data[data[1] == i+1][0])]\n",
    "pred_new = data[data[1] == i+1][data[data[1] == i+1][0].isin(truth_new[0])]\n"
   ]
  },
  {
   "cell_type": "code",
   "execution_count": 22,
   "metadata": {},
   "outputs": [],
   "source": [
    "C = confusion_matrix(truth_new[1], pred_new[2]).T\n"
   ]
  },
  {
   "cell_type": "code",
   "execution_count": 23,
   "metadata": {},
   "outputs": [
    {
     "data": {
      "text/plain": [
       "array([[17, 10,  3,  4,  3],\n",
       "       [ 7, 15,  8,  2,  1],\n",
       "       [ 4, 21, 41, 26,  8],\n",
       "       [12, 10, 42, 44, 33],\n",
       "       [ 6,  9,  7, 17, 54]], dtype=int64)"
      ]
     },
     "execution_count": 23,
     "metadata": {},
     "output_type": "execute_result"
    }
   ],
   "source": [
    "confusion_matrix(truth_new[1], pred_new[2]).T"
   ]
  },
  {
   "cell_type": "code",
   "execution_count": 24,
   "metadata": {},
   "outputs": [
    {
     "data": {
      "text/plain": [
       "array([[0.36957, 0.15385, 0.0297 , 0.04301, 0.0303 ],\n",
       "       [0.15217, 0.23077, 0.07921, 0.02151, 0.0101 ],\n",
       "       [0.08696, 0.32308, 0.40594, 0.27957, 0.08081],\n",
       "       [0.26087, 0.15385, 0.41584, 0.47312, 0.33333],\n",
       "       [0.13043, 0.13846, 0.06931, 0.1828 , 0.54545]])"
      ]
     },
     "execution_count": 24,
     "metadata": {},
     "output_type": "execute_result"
    }
   ],
   "source": [
    "np.round(C / np.sum(C, axis=0)[np.newaxis, :], 5)\n"
   ]
  },
  {
   "cell_type": "code",
   "execution_count": 25,
   "metadata": {},
   "outputs": [
    {
     "data": {
      "text/plain": [
       "array([[0.50143, 0.17704, 0.     , 0.00921, 0.03241],\n",
       "       [0.     , 0.38608, 0.02879, 0.0397 , 0.     ],\n",
       "       [0.14226, 0.19998, 0.55926, 0.30365, 0.     ],\n",
       "       [0.3329 , 0.08476, 0.34336, 0.58011, 0.32056],\n",
       "       [0.0234 , 0.15215, 0.06858, 0.06733, 0.64703]])"
      ]
     },
     "execution_count": 25,
     "metadata": {},
     "output_type": "execute_result"
    }
   ],
   "source": [
    "np.round(C_estimated[i], 5)\n"
   ]
  },
  {
   "cell_type": "code",
   "execution_count": 33,
   "metadata": {},
   "outputs": [],
   "source": [
    "def get_true_confusion_matrix(data, truth, normalize=True):\n",
    "    truth = truth.drop_duplicates()\n",
    "    n, m, k = np.max(np.array(data), axis=0)\n",
    "    C = np.zeros((m, k, k))\n",
    "    for i in range(m):\n",
    "        truth_new = truth[truth[0].isin(data[data[1] == i+1][0])]\n",
    "        pred_new = data[data[1] == i +\n",
    "                        1][data[data[1] == i+1][0].isin(truth_new[0])]\n",
    "        Ci = confusion_matrix(truth_new[1], pred_new[2], labels=[\n",
    "                              i+1 for i in range(k)]).T\n",
    "        if normalize:\n",
    "            Ci = Ci.astype(float)\n",
    "            colsums = np.sum(Ci, axis=0)\n",
    "            Ci[:, colsums != 0] /= colsums[np.newaxis, colsums != 0]\n",
    "        C[i, :, :] = Ci\n",
    "    return C\n"
   ]
  },
  {
   "cell_type": "code",
   "execution_count": 27,
   "metadata": {},
   "outputs": [],
   "source": [
    "def confusion_matrix_loss(C_estimated,C_true):\n",
    "    return np.mean((C_estimated-C_true)**2)\n"
   ]
  },
  {
   "cell_type": "code",
   "execution_count": 98,
   "metadata": {},
   "outputs": [],
   "source": [
    "def get_confusion_matrix(k, labels, groups=None, sym=True, cutoff=1e-7, L=20, N=100, seed=None):\n",
    "    m, n = labels.shape\n",
    "    if seed is not None:\n",
    "        np.random.seed(seed)\n",
    "    if groups is None:\n",
    "        groups = np.random.randint(3, size=m)\n",
    "    Zg = get_Zg(k, labels, groups)\n",
    "    M2s, M3s = get_M(Zg)\n",
    "    Cc = np.zeros((3, k, k))\n",
    "    W = np.zeros((3, k))\n",
    "    for g, (M2, M3) in enumerate(zip(M2s, M3s)):\n",
    "        Q = get_whiten(M2, sym)\n",
    "        M3_whiten = whiten_tensor(M3, Q)\n",
    "        values, vectors = robust_tensor_power(M3_whiten, L, N, sym)\n",
    "        w = values**-2\n",
    "        mu = np.linalg.inv(Q.T)@vectors@np.diag(values)\n",
    "        best = np.argmax(mu, axis=0)\n",
    "        \n",
    "        # prevent multiple mu in same column\n",
    "        for l in range(k):\n",
    "            loc = np.where(best == l)[0]\n",
    "            if len(loc)==1:\n",
    "                Cc[g, :, l] = mu[:, loc].ravel()\n",
    "                W[g, l] = w[loc]\n",
    "            elif len(loc)==0:\n",
    "                loc = np.random.randint(k)\n",
    "                Cc[g, :, l] = mu[:, loc].ravel()\n",
    "                W[g, l] = w[loc]\n",
    "            else:\n",
    "                loc = np.random.choice(loc,1)\n",
    "                Cc[g, :, l] = mu[:, loc].ravel()\n",
    "                W[g, l] = w[loc]\n",
    "\n",
    "    W = np.mean(W, axis=0)\n",
    "    C = np.zeros((m, k, k))\n",
    "    for i in range(m):\n",
    "        Ca = (np.sum(Cc, axis=0)-Cc[groups[i], :, :])/2\n",
    "        Za = (np.sum(Zg, axis=0)-Zg[groups[i], :, :])/2\n",
    "        E = np.zeros((k, k))\n",
    "        for j in range(n):\n",
    "            if labels[i, j] != -1:\n",
    "                E[labels[i, j], :] += Za[j, :]\n",
    "        E /= n\n",
    "        Ci = E@np.linalg.inv(W[np.newaxis,:]*Ca.T)\n",
    "        if cutoff:\n",
    "            Ci[Ci < cutoff] = cutoff\n",
    "        colsums = np.sum(Ci, axis=0)\n",
    "        Ci /= colsums[np.newaxis, :]\n",
    "        C[i, :, :] = Ci\n",
    "    return C\n"
   ]
  },
  {
   "cell_type": "code",
   "execution_count": 86,
   "metadata": {},
   "outputs": [
    {
     "data": {
      "text/plain": [
       "array([2, 3], dtype=int64)"
      ]
     },
     "execution_count": 86,
     "metadata": {},
     "output_type": "execute_result"
    }
   ],
   "source": [
    "a = np.array([1,2,3,3,5])\n",
    "np.where(a == 3)[0].ravel()\n"
   ]
  },
  {
   "cell_type": "code",
   "execution_count": 82,
   "metadata": {},
   "outputs": [
    {
     "data": {
      "text/plain": [
       "array([2, 3], dtype=int64)"
      ]
     },
     "execution_count": 82,
     "metadata": {},
     "output_type": "execute_result"
    }
   ],
   "source": [
    "np.where(a == 3)[0]\n"
   ]
  },
  {
   "cell_type": "code",
   "execution_count": 30,
   "metadata": {},
   "outputs": [
    {
     "data": {
      "text/plain": [
       "119    1\n",
       "76     2\n",
       "123    3\n",
       "13     4\n",
       "6      5\n",
       "Name: 1, dtype: int64"
      ]
     },
     "execution_count": 30,
     "metadata": {},
     "output_type": "execute_result"
    }
   ],
   "source": [
    "truth_new[1].drop_duplicates().sort_values()"
   ]
  },
  {
   "cell_type": "code",
   "execution_count": 36,
   "metadata": {},
   "outputs": [],
   "source": [
    "C_true = get_true_confusion_matrix(data, truth)\n"
   ]
  },
  {
   "cell_type": "code",
   "execution_count": 99,
   "metadata": {},
   "outputs": [
    {
     "data": {
      "text/plain": [
       "0.049672919187164974"
      ]
     },
     "execution_count": 99,
     "metadata": {},
     "output_type": "execute_result"
    }
   ],
   "source": [
    "confusion_matrix_loss(get_confusion_matrix(\n",
    "    k, labels, groups=groups, sym=False), C_true)\n"
   ]
  },
  {
   "cell_type": "code",
   "execution_count": 100,
   "metadata": {},
   "outputs": [
    {
     "data": {
      "text/plain": [
       "0.09706994087371096"
      ]
     },
     "execution_count": 100,
     "metadata": {},
     "output_type": "execute_result"
    }
   ],
   "source": [
    "confusion_matrix_loss(get_confusion_matrix(\n",
    "    k, labels, sym=False,seed=123), C_true)\n"
   ]
  },
  {
   "cell_type": "code",
   "execution_count": 214,
   "metadata": {},
   "outputs": [],
   "source": [
    "# symmetric or not\n",
    "iternum = 500\n",
    "sym_losses = np.zeros(iternum)\n",
    "asym_losses = np.zeros(iternum)\n",
    "for i in range(iternum):\n",
    "    sym_losses[i] = confusion_matrix_loss(get_confusion_matrix(\n",
    "        k, labels, sym=True), C_true)\n",
    "    asym_losses[i] = confusion_matrix_loss(get_confusion_matrix(\n",
    "        k, labels, sym=False), C_true)\n"
   ]
  },
  {
   "cell_type": "code",
   "execution_count": 220,
   "metadata": {},
   "outputs": [
    {
     "data": {
      "image/png": "[encoded data removed]",
      "text/plain": [
       "<Figure size 432x288 with 1 Axes>"
      ]
     },
     "metadata": {
      "needs_background": "light"
     },
     "output_type": "display_data"
    }
   ],
   "source": [
    "bins = np.linspace(0.005, 0.012, 30)\n",
    "plt.hist(sym_losses,bins, alpha=0.5, label='symmetric')\n",
    "plt.hist(asym_losses, bins, alpha=0.5, label='asymmetric')\n",
    "plt.title(\"MSE of confusion matrices from web data\")\n",
    "plt.legend(loc='upper right')\n",
    "plt.savefig(\"pic/web_symmetry.png\",dpi=300)\n",
    "plt.show()"
   ]
  },
  {
   "cell_type": "markdown",
   "metadata": {},
   "source": [
    "From the plot we can see if we symmetricalize the matrices and tensors, the MSE of the confusion matrices can be reduced."
   ]
  }
 ],
 "metadata": {
  "interpreter": {
   "hash": "7b4b4feff2f24a0f0a34464dbe537a36fda679851528fb8735cb41fa49dffb2d"
  },
  "kernelspec": {
   "display_name": "Python 3.8.8 64-bit ('base': conda)",
   "language": "python",
   "name": "python3"
  },
  "language_info": {
   "codemirror_mode": {
    "name": "ipython",
    "version": 3
   },
   "file_extension": ".py",
   "mimetype": "text/x-python",
   "name": "python",
   "nbconvert_exporter": "python",
   "pygments_lexer": "ipython3",
   "version": "3.8.8"
  },
  "orig_nbformat": 4
 },
 "nbformat": 4,
 "nbformat_minor": 2
}
