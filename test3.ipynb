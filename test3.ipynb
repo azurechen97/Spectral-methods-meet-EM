{
 "cells": [
  {
   "cell_type": "code",
   "execution_count": 86,
   "metadata": {},
   "outputs": [],
   "source": [
    "import numpy as np\n",
    "from utils import *\n",
    "import pandas as pd\n",
    "from sklearn.metrics import confusion_matrix\n",
    "\n",
    "data = pd.read_table(\"data/trec_crowd.txt\", header=None)\n",
    "truth = pd.read_table(\"data/trec_truth.txt\", header=None)\n"
   ]
  },
  {
   "cell_type": "code",
   "execution_count": 41,
   "metadata": {},
   "outputs": [],
   "source": [
    "import matplotlib.pyplot as plt\n"
   ]
  },
  {
   "cell_type": "code",
   "execution_count": 87,
   "metadata": {},
   "outputs": [],
   "source": [
    "truth = truth.drop_duplicates()"
   ]
  },
  {
   "cell_type": "code",
   "execution_count": 88,
   "metadata": {},
   "outputs": [
    {
     "data": {
      "text/html": [
       "<div>\n",
       "<style scoped>\n",
       "    .dataframe tbody tr th:only-of-type {\n",
       "        vertical-align: middle;\n",
       "    }\n",
       "\n",
       "    .dataframe tbody tr th {\n",
       "        vertical-align: top;\n",
       "    }\n",
       "\n",
       "    .dataframe thead th {\n",
       "        text-align: right;\n",
       "    }\n",
       "</style>\n",
       "<table border=\"1\" class=\"dataframe\">\n",
       "  <thead>\n",
       "    <tr style=\"text-align: right;\">\n",
       "      <th></th>\n",
       "      <th>0</th>\n",
       "    </tr>\n",
       "    <tr>\n",
       "      <th>1</th>\n",
       "      <th></th>\n",
       "    </tr>\n",
       "  </thead>\n",
       "  <tbody>\n",
       "    <tr>\n",
       "      <th>1</th>\n",
       "      <td>400</td>\n",
       "    </tr>\n",
       "    <tr>\n",
       "      <th>2</th>\n",
       "      <td>400</td>\n",
       "    </tr>\n",
       "  </tbody>\n",
       "</table>\n",
       "</div>"
      ],
      "text/plain": [
       "     0\n",
       "1     \n",
       "1  400\n",
       "2  400"
      ]
     },
     "execution_count": 88,
     "metadata": {},
     "output_type": "execute_result"
    }
   ],
   "source": [
    "truth.groupby(1).count()"
   ]
  },
  {
   "cell_type": "code",
   "execution_count": 89,
   "metadata": {},
   "outputs": [
    {
     "name": "stdout",
     "output_type": "stream",
     "text": [
      "800 164 2\n"
     ]
    }
   ],
   "source": [
    "n, m, k = np.max(np.array(data), axis=0)\n",
    "print(n, m, k)\n"
   ]
  },
  {
   "cell_type": "code",
   "execution_count": 90,
   "metadata": {},
   "outputs": [
    {
     "data": {
      "text/plain": [
       "array([[ 1,  0,  1, ..., -1, -1, -1],\n",
       "       [ 1,  0,  0, ...,  1,  0,  1],\n",
       "       [ 1,  0,  1, ..., -1, -1, -1],\n",
       "       ...,\n",
       "       [-1, -1, -1, ..., -1, -1, -1],\n",
       "       [-1, -1, -1, ..., -1, -1, -1],\n",
       "       [-1, -1, -1, ..., -1, -1, -1]], dtype=int64)"
      ]
     },
     "execution_count": 90,
     "metadata": {},
     "output_type": "execute_result"
    }
   ],
   "source": [
    "labels = transform_data(data)\n",
    "labels"
   ]
  },
  {
   "cell_type": "code",
   "execution_count": 91,
   "metadata": {},
   "outputs": [],
   "source": [
    "ranking = truth.sort_values(1)[0]-1"
   ]
  },
  {
   "cell_type": "code",
   "execution_count": 92,
   "metadata": {},
   "outputs": [
    {
     "data": {
      "text/plain": [
       "399    399\n",
       "619    619\n",
       "621    621\n",
       "345    345\n",
       "344    344\n",
       "      ... \n",
       "320    320\n",
       "318    318\n",
       "317    317\n",
       "376    376\n",
       "799    799\n",
       "Name: 0, Length: 800, dtype: int64"
      ]
     },
     "execution_count": 92,
     "metadata": {},
     "output_type": "execute_result"
    }
   ],
   "source": [
    "ranking\n"
   ]
  },
  {
   "cell_type": "code",
   "execution_count": 66,
   "metadata": {},
   "outputs": [],
   "source": [
    "merged = data.merge(truth,on=0)\n"
   ]
  },
  {
   "cell_type": "code",
   "execution_count": 67,
   "metadata": {},
   "outputs": [
    {
     "name": "stdout",
     "output_type": "stream",
     "text": [
      "0.9939058049887934\n"
     ]
    }
   ],
   "source": [
    "# proportion of missing values\n",
    "missing = np.mean(labels == -1)\n",
    "print(missing)"
   ]
  },
  {
   "cell_type": "code",
   "execution_count": 68,
   "metadata": {},
   "outputs": [
    {
     "data": {
      "image/png": "[encoded data removed]",
      "text/plain": [
       "<Figure size 432x288 with 1 Axes>"
      ]
     },
     "metadata": {
      "needs_background": "light"
     },
     "output_type": "display_data"
    }
   ],
   "source": [
    "plt.hist(np.mean(labels != -1, axis=1), bins=30)\n",
    "plt.title(\"Proportion of labeled items by each worker\")\n",
    "plt.savefig(\"pic/trec_proportion.png\", dpi=300)\n",
    "plt.show()"
   ]
  },
  {
   "cell_type": "code",
   "execution_count": 69,
   "metadata": {},
   "outputs": [
    {
     "name": "stdout",
     "output_type": "stream",
     "text": [
      "0.3879343854466299\n"
     ]
    }
   ],
   "source": [
    "# total error rate\n",
    "error = np.mean(merged[\"1_y\"] != merged[2])\n",
    "print(error)"
   ]
  },
  {
   "cell_type": "code",
   "execution_count": 70,
   "metadata": {},
   "outputs": [],
   "source": [
    "merged[\"error\"] = merged[\"1_y\"] != merged[2]\n",
    "error_worker = merged.groupby(['1_x']).mean()"
   ]
  },
  {
   "cell_type": "code",
   "execution_count": 71,
   "metadata": {},
   "outputs": [
    {
     "data": {
      "image/png": "[encoded data removed]",
      "text/plain": [
       "<Figure size 432x288 with 1 Axes>"
      ]
     },
     "metadata": {
      "needs_background": "light"
     },
     "output_type": "display_data"
    }
   ],
   "source": [
    "plt.hist(error_worker[\"error\"], bins=30)\n",
    "plt.title(\"Error rate of each worker\")\n",
    "plt.savefig(\"pic/trec_error.png\", dpi=300)\n",
    "plt.show()\n"
   ]
  },
  {
   "cell_type": "code",
   "execution_count": 72,
   "metadata": {},
   "outputs": [],
   "source": [
    "error_item = merged.groupby([0]).mean()"
   ]
  },
  {
   "cell_type": "code",
   "execution_count": 73,
   "metadata": {},
   "outputs": [
    {
     "data": {
      "image/png": "[encoded data removed]",
      "text/plain": [
       "<Figure size 432x288 with 1 Axes>"
      ]
     },
     "metadata": {
      "needs_background": "light"
     },
     "output_type": "display_data"
    }
   ],
   "source": [
    "plt.hist(error_item[\"error\"], bins=30)\n",
    "plt.title(\"Error rate of each item\")\n",
    "plt.savefig(\"pic/trec_error_item.png\", dpi=300)\n",
    "plt.show()\n"
   ]
  },
  {
   "cell_type": "code",
   "execution_count": 84,
   "metadata": {},
   "outputs": [
    {
     "data": {
      "text/plain": [
       "array([[2283, 3250],\n",
       "       [1740, 5590]], dtype=int64)"
      ]
     },
     "execution_count": 84,
     "metadata": {},
     "output_type": "execute_result"
    }
   ],
   "source": [
    "confusion_matrix(merged[\"1_y\"], merged[2])\n"
   ]
  },
  {
   "cell_type": "code",
   "execution_count": 93,
   "metadata": {},
   "outputs": [
    {
     "data": {
      "image/png": "[encoded data removed]",
      "text/plain": [
       "<Figure size 1152x236.16 with 2 Axes>"
      ]
     },
     "metadata": {
      "needs_background": "light"
     },
     "output_type": "display_data"
    }
   ],
   "source": [
    "plt.matshow(labels[:, ranking])\n",
    "plt.title(\"trec labels, missing = \"+str(np.round(missing, 4)) +\n",
    "          \", error = \"+str(np.round(error, 4)))\n",
    "plt.colorbar()\n",
    "plt.savefig(\"pic/trec_labels.png\", dpi=300)\n",
    "plt.show()\n"
   ]
  },
  {
   "cell_type": "code",
   "execution_count": 117,
   "metadata": {},
   "outputs": [],
   "source": [
    "def get_confusion_matrix2(k, labels, groups=None, sym=True, cutoff=1e-7, L=50, N=10, seed=None):\n",
    "    m, n = labels.shape\n",
    "    if seed is not None:\n",
    "        np.random.seed(seed)\n",
    "    if groups is None:\n",
    "        groups = np.random.randint(3, size=m)\n",
    "    Zg = get_Zg(k, labels, groups)\n",
    "    M2s, M3s = get_M(Zg)\n",
    "    Cc = np.zeros((3, k, k))\n",
    "    W = np.zeros((3, k))\n",
    "    for g, (M2, M3) in enumerate(zip(M2s, M3s)):\n",
    "        Q = get_whiten(M2, sym)\n",
    "        M3_whiten = whiten_tensor(M3, Q)\n",
    "        values, vectors = robust_tensor_power(M3_whiten, L, N, sym)\n",
    "        w = values**-2\n",
    "        mu = np.linalg.inv(Q.T)@vectors@np.diag(values)\n",
    "        best = np.argmax(mu, axis=0)\n",
    "\n",
    "        # prevent multiple mu in same column\n",
    "        # not_in_best = []\n",
    "        # not_used_loc = np.array([], dtype=np.int64)\n",
    "        # for l in range(k):\n",
    "        #     loc = np.where(best == l)[0]\n",
    "        #     if len(loc) == 1:\n",
    "        #         Cc[g, :, l] = mu[:, loc].ravel()\n",
    "        #         W[g, l] = w[loc]\n",
    "        #     elif len(loc) == 0:\n",
    "        #         not_in_best.append(l)\n",
    "        #     else:\n",
    "        #         chosen = np.random.randint(len(loc))\n",
    "        #         Cc[g, :, l] = mu[:, loc[chosen]].ravel()\n",
    "        #         W[g, l] = w[loc[chosen]]\n",
    "        #         not_used_loc = np.append(not_used_loc, np.delete(loc, chosen))\n",
    "\n",
    "        # not_used_loc = np.random.permutation(not_used_loc)\n",
    "        # for i, l in enumerate(not_in_best):\n",
    "        #     Cc[g, :, l] = mu[:, not_used_loc[i]].ravel()\n",
    "        #     W[g, l] = w[not_used_loc[i]]\n",
    "\n",
    "        # the method in original code\n",
    "        for h in range(k):\n",
    "            l = best[h]\n",
    "            if W[g, l] != 0:\n",
    "                l = np.where(W[g, :] == 0)[0][0]\n",
    "            Cc[g, :, l] = mu[:, h].ravel()\n",
    "            W[g, l] = w[h]\n",
    "\n",
    "    W = np.mean(W, axis=0)\n",
    "    C = np.zeros((m, k, k))\n",
    "    for i in range(m):\n",
    "        Ca = (np.sum(Cc, axis=0)-Cc[groups[i], :, :])/2\n",
    "        Za = (np.sum(Zg, axis=0)-Zg[groups[i], :, :])/2\n",
    "        E = np.zeros((k, k))\n",
    "        for j in range(n):\n",
    "            if labels[i, j] != -1:\n",
    "                E[labels[i, j], :] += Za[j, :]\n",
    "        E /= n\n",
    "        Ci = E@np.linalg.inv(W[np.newaxis, :]*Ca.T)\n",
    "        if cutoff:\n",
    "            Ci[Ci < cutoff] = cutoff\n",
    "        colsums = np.sum(Ci, axis=0)\n",
    "        Ci /= colsums[np.newaxis, :]\n",
    "        C[i, :, :] = Ci\n",
    "    return C\n"
   ]
  },
  {
   "cell_type": "code",
   "execution_count": 118,
   "metadata": {},
   "outputs": [],
   "source": [
    "C_true = get_true_confusion_matrix(data, truth)\n"
   ]
  },
  {
   "cell_type": "code",
   "execution_count": 119,
   "metadata": {},
   "outputs": [
    {
     "data": {
      "text/plain": [
       "array([[0.4       , 0.09352518],\n",
       "       [0.6       , 0.90647482]])"
      ]
     },
     "execution_count": 119,
     "metadata": {},
     "output_type": "execute_result"
    }
   ],
   "source": [
    "C_true[0]"
   ]
  },
  {
   "cell_type": "code",
   "execution_count": 120,
   "metadata": {},
   "outputs": [
    {
     "data": {
      "text/plain": [
       "0.1913874662233823"
      ]
     },
     "execution_count": 120,
     "metadata": {},
     "output_type": "execute_result"
    }
   ],
   "source": [
    "# baseline\n",
    "confusion_matrix_loss(np.ones(C_true.shape)/k, C_true)"
   ]
  },
  {
   "cell_type": "code",
   "execution_count": 121,
   "metadata": {},
   "outputs": [],
   "source": [
    "groups = np.array([i%3 for i in range(m)])"
   ]
  },
  {
   "cell_type": "code",
   "execution_count": 122,
   "metadata": {},
   "outputs": [
    {
     "data": {
      "text/plain": [
       "0.25595995684954465"
      ]
     },
     "execution_count": 122,
     "metadata": {},
     "output_type": "execute_result"
    }
   ],
   "source": [
    "confusion_matrix_loss(get_confusion_matrix(\n",
    "    k, labels, groups=groups, sym=True), C_true)\n"
   ]
  },
  {
   "cell_type": "code",
   "execution_count": 123,
   "metadata": {},
   "outputs": [],
   "source": [
    "groups_balance = np.random.permutation(groups)"
   ]
  },
  {
   "cell_type": "code",
   "execution_count": 124,
   "metadata": {},
   "outputs": [
    {
     "data": {
      "text/plain": [
       "0.19448618212335242"
      ]
     },
     "execution_count": 124,
     "metadata": {},
     "output_type": "execute_result"
    }
   ],
   "source": [
    "confusion_matrix_loss(get_confusion_matrix(\n",
    "    k, labels, groups=groups_balance,sym=True), C_true)"
   ]
  },
  {
   "cell_type": "code",
   "execution_count": 125,
   "metadata": {},
   "outputs": [
    {
     "data": {
      "text/plain": [
       "0.2627873230889457"
      ]
     },
     "execution_count": 125,
     "metadata": {},
     "output_type": "execute_result"
    }
   ],
   "source": [
    "confusion_matrix_loss(get_confusion_matrix(\n",
    "    k, labels, sym=True, seed=123), C_true)\n"
   ]
  },
  {
   "cell_type": "code",
   "execution_count": 126,
   "metadata": {},
   "outputs": [
    {
     "data": {
      "text/plain": [
       "0.2627873230889457"
      ]
     },
     "execution_count": 126,
     "metadata": {},
     "output_type": "execute_result"
    }
   ],
   "source": [
    "confusion_matrix_loss(get_confusion_matrix2(\n",
    "    k, labels, sym=True, seed=123), C_true)\n"
   ]
  },
  {
   "cell_type": "code",
   "execution_count": 130,
   "metadata": {},
   "outputs": [
    {
     "name": "stdout",
     "output_type": "stream",
     "text": [
      "5\n",
      "10\n",
      "15\n",
      "20\n",
      "25\n",
      "30\n",
      "35\n",
      "40\n",
      "45\n",
      "50\n",
      "55\n",
      "60\n",
      "65\n",
      "70\n",
      "75\n",
      "80\n",
      "85\n",
      "90\n",
      "95\n",
      "100\n"
     ]
    }
   ],
   "source": [
    "# iterations\n",
    "maxiter = 100\n",
    "step = 5\n",
    "Ls = np.array([i for i in range(step,maxiter+1,step)],dtype=int)\n",
    "losses = np.zeros(len(Ls))\n",
    "for i,L in enumerate(Ls):\n",
    "    print(L)\n",
    "    losses[i] = confusion_matrix_loss(get_confusion_matrix(\n",
    "        k, labels, sym=True, L=L, N=100, seed=123), C_true)\n"
   ]
  },
  {
   "cell_type": "code",
   "execution_count": 131,
   "metadata": {},
   "outputs": [
    {
     "data": {
      "image/png": "[encoded data removed]",
      "text/plain": [
       "<Figure size 432x288 with 1 Axes>"
      ]
     },
     "metadata": {
      "needs_background": "light"
     },
     "output_type": "display_data"
    }
   ],
   "source": [
    "plt.plot(Ls,losses)\n",
    "plt.xlabel(\"L\")\n",
    "plt.ylabel(\"Loss\")\n",
    "plt.savefig(\"pic/trec_L.png\",dpi=300)\n",
    "plt.show()\n"
   ]
  },
  {
   "cell_type": "code",
   "execution_count": 132,
   "metadata": {},
   "outputs": [
    {
     "name": "stdout",
     "output_type": "stream",
     "text": [
      "1\n",
      "2\n",
      "3\n",
      "4\n",
      "5\n",
      "6\n",
      "7\n",
      "8\n",
      "9\n",
      "10\n"
     ]
    }
   ],
   "source": [
    "# iterations\n",
    "maxiter = 10\n",
    "step = 1\n",
    "Ns = np.array([i for i in range(step, maxiter+1,step)], dtype=int)\n",
    "losses_N = np.zeros(len(Ns))\n",
    "for i, N in enumerate(Ns):\n",
    "    print(N)\n",
    "    losses_N[i] = confusion_matrix_loss(get_confusion_matrix(\n",
    "        k, labels, sym=True, L=100, N=N, seed=123), C_true)\n"
   ]
  },
  {
   "cell_type": "code",
   "execution_count": 133,
   "metadata": {},
   "outputs": [
    {
     "data": {
      "image/png": "[encoded data removed]",
      "text/plain": [
       "<Figure size 432x288 with 1 Axes>"
      ]
     },
     "metadata": {
      "needs_background": "light"
     },
     "output_type": "display_data"
    }
   ],
   "source": [
    "plt.plot(Ns, losses_N)\n",
    "plt.xlabel(\"N\")\n",
    "plt.ylabel(\"Loss\")\n",
    "plt.savefig(\"pic/trec_N.png\", dpi=300)\n",
    "plt.show()\n"
   ]
  },
  {
   "cell_type": "code",
   "execution_count": 134,
   "metadata": {},
   "outputs": [
    {
     "data": {
      "text/plain": [
       "array([0.19370056, 0.19370273, 0.19370275, 0.19370275, 0.19370275,\n",
       "       0.19370275, 0.19370275, 0.19370275, 0.19370275, 0.19370275])"
      ]
     },
     "execution_count": 134,
     "metadata": {},
     "output_type": "execute_result"
    }
   ],
   "source": [
    "losses_N"
   ]
  },
  {
   "cell_type": "code",
   "execution_count": 135,
   "metadata": {},
   "outputs": [
    {
     "name": "stdout",
     "output_type": "stream",
     "text": [
      "9\n",
      "19\n",
      "29\n",
      "39\n",
      "49\n",
      "59\n",
      "69\n",
      "79\n",
      "89\n",
      "99\n"
     ]
    }
   ],
   "source": [
    "# symmetric or not\n",
    "iternum = 100\n",
    "sym_losses = np.zeros(iternum)\n",
    "asym_losses = np.zeros(iternum)\n",
    "for i in range(iternum):\n",
    "    if i%10==9:\n",
    "        print(i)\n",
    "    sym_losses[i] = confusion_matrix_loss(get_confusion_matrix(\n",
    "        k, labels, sym=True, L=10, N=10), C_true)\n",
    "    asym_losses[i] = confusion_matrix_loss(get_confusion_matrix(\n",
    "        k, labels, sym=False, L=10, N=10), C_true)"
   ]
  },
  {
   "cell_type": "code",
   "execution_count": 136,
   "metadata": {},
   "outputs": [
    {
     "name": "stdout",
     "output_type": "stream",
     "text": [
      "0.19111462603583046 0.32562049636829654\n",
      "0.1713266097158041 0.33081479415547294\n"
     ]
    }
   ],
   "source": [
    "print(np.min(sym_losses),np.max(sym_losses))\n",
    "print(np.min(asym_losses), np.max(asym_losses))\n"
   ]
  },
  {
   "cell_type": "code",
   "execution_count": 137,
   "metadata": {},
   "outputs": [
    {
     "data": {
      "text/plain": [
       "0.32562697801222024"
      ]
     },
     "execution_count": 137,
     "metadata": {},
     "output_type": "execute_result"
    }
   ],
   "source": [
    "np.percentile(np.append(sym_losses, asym_losses),99)\n"
   ]
  },
  {
   "cell_type": "code",
   "execution_count": 141,
   "metadata": {},
   "outputs": [
    {
     "data": {
      "image/png": "[encoded data removed]",
      "text/plain": [
       "<Figure size 432x288 with 1 Axes>"
      ]
     },
     "metadata": {
      "needs_background": "light"
     },
     "output_type": "display_data"
    }
   ],
   "source": [
    "xmin = np.min(np.append(sym_losses,asym_losses))\n",
    "xmax = np.percentile(np.append(sym_losses, asym_losses), 95)\n",
    "bins = np.linspace(xmin, xmax, 15)\n",
    "plt.hist(sym_losses,bins, alpha=0.5, label='symmetric')\n",
    "plt.hist(asym_losses, bins, alpha=0.5, label='asymmetric')\n",
    "plt.title(\"MSE of confusion matrices from trec data\")\n",
    "plt.legend(loc='upper right')\n",
    "plt.savefig(\"pic/trec_symmetry.png\",dpi=300)\n",
    "plt.show()\n"
   ]
  },
  {
   "cell_type": "code",
   "execution_count": 139,
   "metadata": {},
   "outputs": [
    {
     "data": {
      "image/png": "[encoded data removed]",
      "text/plain": [
       "<Figure size 432x288 with 1 Axes>"
      ]
     },
     "metadata": {
      "needs_background": "light"
     },
     "output_type": "display_data"
    }
   ],
   "source": [
    "plt.boxplot([sym_losses, asym_losses], labels=['symmetric', 'asymmetric'])\n",
    "plt.title(\"MSE of confusion matrices from trec data\")\n",
    "plt.savefig(\"pic/trec_symmetry_box.png\", dpi=300)\n",
    "plt.show()\n"
   ]
  },
  {
   "cell_type": "markdown",
   "metadata": {},
   "source": [
    "From the plot we can see if we symmetricalize the matrices and tensors, the MSE of the confusion matrices can be reduced."
   ]
  },
  {
   "cell_type": "code",
   "execution_count": 142,
   "metadata": {},
   "outputs": [
    {
     "name": "stdout",
     "output_type": "stream",
     "text": [
      "9\n",
      "19\n",
      "29\n",
      "39\n",
      "49\n",
      "59\n",
      "69\n",
      "79\n",
      "89\n",
      "99\n"
     ]
    }
   ],
   "source": [
    "# symmetric or not\n",
    "iternum = 100\n",
    "new_losses = np.zeros(iternum)\n",
    "original_losses = np.zeros(iternum)\n",
    "for i in range(iternum):\n",
    "    if i % 10 == 9:\n",
    "        print(i)\n",
    "    new_losses[i] = confusion_matrix_loss(get_confusion_matrix(\n",
    "        k, labels, sym=True, L=10, N=10), C_true)\n",
    "    original_losses[i] = confusion_matrix_loss(get_confusion_matrix2(\n",
    "        k, labels, sym=True, L=10, N=10), C_true)\n"
   ]
  },
  {
   "cell_type": "code",
   "execution_count": 143,
   "metadata": {},
   "outputs": [
    {
     "data": {
      "image/png": "[encoded data removed]",
      "text/plain": [
       "<Figure size 432x288 with 1 Axes>"
      ]
     },
     "metadata": {
      "needs_background": "light"
     },
     "output_type": "display_data"
    }
   ],
   "source": [
    "xmin = np.min(np.append(sym_losses, asym_losses))\n",
    "xmax = np.percentile(np.append(sym_losses, asym_losses), 95)\n",
    "bins = np.linspace(xmin, xmax, 15)\n",
    "plt.hist(new_losses, bins, alpha=0.5, label='new')\n",
    "plt.hist(original_losses, bins, alpha=0.5, label='original')\n",
    "plt.title(\"MSE of confusion matrices from trec data\")\n",
    "plt.legend(loc='upper right')\n",
    "plt.savefig(\"pic/trec_singular.png\",dpi=300)\n",
    "plt.show()\n"
   ]
  },
  {
   "cell_type": "code",
   "execution_count": 144,
   "metadata": {},
   "outputs": [
    {
     "data": {
      "image/png": "[encoded data removed]",
      "text/plain": [
       "<Figure size 432x288 with 1 Axes>"
      ]
     },
     "metadata": {
      "needs_background": "light"
     },
     "output_type": "display_data"
    }
   ],
   "source": [
    "plt.boxplot([new_losses, original_losses], labels=['new', 'original'])\n",
    "plt.title(\"MSE of confusion matrices from trec data\")\n",
    "plt.savefig(\"pic/trec_singular_box.png\", dpi=300)\n",
    "plt.show()\n"
   ]
  },
  {
   "cell_type": "code",
   "execution_count": 145,
   "metadata": {},
   "outputs": [
    {
     "name": "stdout",
     "output_type": "stream",
     "text": [
      "9\n",
      "19\n",
      "29\n",
      "39\n",
      "49\n",
      "59\n",
      "69\n",
      "79\n",
      "89\n",
      "99\n"
     ]
    }
   ],
   "source": [
    "# balance or not\n",
    "iternum = 100\n",
    "balance_losses = np.zeros(iternum)\n",
    "inbalance_losses = np.zeros(iternum)\n",
    "for i in range(iternum):\n",
    "    if i % 10 == 9:\n",
    "        print(i)\n",
    "    balance_losses[i] = confusion_matrix_loss(get_confusion_matrix(\n",
    "        k, labels, sym=True, groups=np.random.permutation([i % 3 for i in range(m)]), L=10, N=10), C_true)\n",
    "    inbalance_losses[i] = confusion_matrix_loss(get_confusion_matrix(\n",
    "        k, labels, sym=True, L=10, N=10), C_true)\n"
   ]
  },
  {
   "cell_type": "code",
   "execution_count": 146,
   "metadata": {},
   "outputs": [
    {
     "data": {
      "image/png": "[encoded data removed]",
      "text/plain": [
       "<Figure size 432x288 with 1 Axes>"
      ]
     },
     "metadata": {
      "needs_background": "light"
     },
     "output_type": "display_data"
    }
   ],
   "source": [
    "xmin = np.min(np.append(sym_losses, asym_losses))\n",
    "xmax = np.percentile(np.append(sym_losses, asym_losses), 95)\n",
    "bins = np.linspace(xmin, xmax, 15)\n",
    "plt.hist(balance_losses, bins, alpha=0.5, label='balance')\n",
    "plt.hist(inbalance_losses, bins, alpha=0.5, label='inbalance')\n",
    "plt.title(\"MSE of confusion matrices from trec data\")\n",
    "plt.legend(loc='upper right')\n",
    "# plt.savefig(\"pic/trec_singular.png\",dpi=300)\n",
    "plt.show()\n"
   ]
  },
  {
   "cell_type": "code",
   "execution_count": 147,
   "metadata": {},
   "outputs": [
    {
     "data": {
      "text/plain": [
       "0.32729880909404174"
      ]
     },
     "execution_count": 147,
     "metadata": {},
     "output_type": "execute_result"
    }
   ],
   "source": [
    "np.max(balance_losses)"
   ]
  },
  {
   "cell_type": "code",
   "execution_count": 148,
   "metadata": {},
   "outputs": [
    {
     "data": {
      "image/png": "[encoded data removed]",
      "text/plain": [
       "<Figure size 432x288 with 1 Axes>"
      ]
     },
     "metadata": {
      "needs_background": "light"
     },
     "output_type": "display_data"
    }
   ],
   "source": [
    "plt.boxplot([balance_losses, inbalance_losses],\n",
    "            labels=['balance', 'inbalance'])\n",
    "plt.title(\"MSE of confusion matrices from trec data\")\n",
    "plt.savefig(\"pic/trec_balance_box.png\", dpi=300)\n",
    "plt.show()\n"
   ]
  }
 ],
 "metadata": {
  "interpreter": {
   "hash": "7b4b4feff2f24a0f0a34464dbe537a36fda679851528fb8735cb41fa49dffb2d"
  },
  "kernelspec": {
   "display_name": "Python 3.8.8 64-bit ('base': conda)",
   "language": "python",
   "name": "python3"
  },
  "language_info": {
   "codemirror_mode": {
    "name": "ipython",
    "version": 3
   },
   "file_extension": ".py",
   "mimetype": "text/x-python",
   "name": "python",
   "nbconvert_exporter": "python",
   "pygments_lexer": "ipython3",
   "version": "3.8.8"
  },
  "orig_nbformat": 4
 },
 "nbformat": 4,
 "nbformat_minor": 2
}
